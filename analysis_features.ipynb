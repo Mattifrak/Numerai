{
 "cells": [
  {
   "cell_type": "code",
   "execution_count": 2,
   "metadata": {},
   "outputs": [
    {
     "name": "stdout",
     "output_type": "stream",
     "text": [
      "\r"
     ]
    }
   ],
   "source": [
    "# !pip install matplotlib\n",
    "# !pip install pandas\n",
    "# !pip install numerapi\n",
    "# !pip install sklearn\n",
    "# !pip install lightgbm\n",
    "# !pip install pyarrow\n",
    "\n",
    "import matplotlib\n",
    "import numpy as np\n",
    "import pandas as pd\n",
    "from numerapi import NumerAPI\n",
    "import numerapi\n",
    "import random\n",
    "import sklearn\n",
    "import lightgbm\n",
    "import matplotlib.pyplot as plt\n",
    "\n",
    "from pyarrow.parquet import ParquetFile\n",
    "import pyarrow as pa \n",
    "\n",
    "%matplotlib inline\n",
    "\n",
    "from sklearn import (\n",
    "    feature_extraction, feature_selection, decomposition, linear_model,\n",
    "    model_selection, metrics, svm\n",
    ")\n",
    "\n",
    "from utils import (\n",
    "    save_model,\n",
    "    load_model,\n",
    "    neutralize,\n",
    "    get_biggest_change_features,\n",
    "    get_time_series_cross_val_splits,\n",
    "    validation_metrics,\n",
    "    load_model_config,\n",
    "    save_model_config,\n",
    "    save_prediction,\n",
    "    TARGET_COL,\n",
    ")\n",
    "\n",
    "#pandas.options.display.max_rows=1000\n",
    "#pandas.options.display.max_columns=300"
   ]
  },
  {
   "cell_type": "code",
   "execution_count": 3,
   "metadata": {},
   "outputs": [
    {
     "name": "stdout",
     "output_type": "stream",
     "text": [
      "\r"
     ]
    }
   ],
   "source": [
    "napi = numerapi.NumerAPI()"
   ]
  },
  {
   "cell_type": "code",
   "execution_count": 4,
   "metadata": {
    "scrolled": true
   },
   "outputs": [
    {
     "data": {
      "text/plain": [
       "['v2/numerai_datasets.zip',\n",
       " 'v2/numerai_live_data.csv',\n",
       " 'v2/numerai_live_data.csv.xz',\n",
       " 'v2/numerai_live_data.parquet',\n",
       " 'v3/example_predictions.csv',\n",
       " 'v3/example_predictions.parquet',\n",
       " 'v3/example_validation_predictions.csv',\n",
       " 'v3/example_validation_predictions.parquet',\n",
       " 'v3/features.json',\n",
       " 'v3/numerai_datasets.zip',\n",
       " 'v3/numerai_live_data.csv',\n",
       " 'v3/numerai_live_data.parquet',\n",
       " 'v3/numerai_live_data_int8.csv',\n",
       " 'v3/numerai_live_data_int8.parquet',\n",
       " 'v3/numerai_tournament_data.csv',\n",
       " 'v3/numerai_tournament_data.parquet',\n",
       " 'v3/numerai_tournament_data_int8.csv',\n",
       " 'v3/numerai_tournament_data_int8.parquet',\n",
       " 'v3/numerai_training_data.csv',\n",
       " 'v3/numerai_training_data.parquet',\n",
       " 'v3/numerai_training_data_int8.csv',\n",
       " 'v3/numerai_training_data_int8.parquet',\n",
       " 'v3/numerai_validation_data.csv',\n",
       " 'v3/numerai_validation_data.parquet',\n",
       " 'v3/numerai_validation_data_int8.csv',\n",
       " 'v3/numerai_validation_data_int8.parquet',\n",
       " 'v4/features.json',\n",
       " 'v4/live.parquet',\n",
       " 'v4/live_example_preds.parquet',\n",
       " 'v4/live_int8.parquet',\n",
       " 'v4/train.parquet',\n",
       " 'v4/train_int8.parquet',\n",
       " 'v4/validation.parquet',\n",
       " 'v4/validation_example_preds.parquet',\n",
       " 'v4/validation_int8.parquet']"
      ]
     },
     "execution_count": 4,
     "metadata": {},
     "output_type": "execute_result"
    },
    {
     "name": "stdout",
     "output_type": "stream",
     "text": [
      "\r"
     ]
    }
   ],
   "source": [
    "napi.list_datasets()"
   ]
  },
  {
   "cell_type": "code",
   "execution_count": null,
   "metadata": {},
   "outputs": [],
   "source": [
    "\n",
    "\n",
    "# read in all of the new datas\n",
    "# tournament data and example predictions change every week so we specify the round in their names\n",
    "# training and validation data only change periodically, so no need to download them over again every single week\n",
    "\n",
    "# napi.download_dataset('numerai_training_data_int8.csv')\n",
    "\n",
    "# chunk_size=50000\n",
    "# batch_no=1\n",
    "\n",
    "\n",
    "# for chunk in pd.read_csv('numerai_training_data_int8.csv', chunksize=chunk_size):\n",
    "#     chunk.to_csv('chunk'+str(batch_no)+'.csv',index=False)\n",
    "#     batch_no+=1\n",
    "\n",
    "\n",
    "# # importing libraries\n",
    "# import pandas as pd\n",
    "# import glob\n",
    "# import os\n",
    "  \n",
    "# # merging the files\n",
    "# joined_files = os.path.join(\"chunk*.csv\")\n",
    "  \n",
    "# # A list of all joined files is returned\n",
    "# joined_list = glob.glob(joined_files)\n",
    "  \n",
    "# # Finally, the files are joined\n",
    "# df_chunk = pd.concat(map(pd.read_csv, joined_list), ignore_index=True)\n",
    "# print(df_chunk)\n",
    "\n",
    "#df_train row size\n",
    "\n",
    "# pf = ParquetFile('numerai_training_data_int8.parquet')\n",
    "# first_thousand_rows = next(pf.iter_batches(batch_size = 300000))\n",
    "# df = pa.Table.from_batches([first_thousand_rows]).to_pandas()\n",
    "\n",
    "# df.info()\n",
    "\n",
    "\n",
    "# pf = ParquetFile('numerai_training_data_int8.parquet')\n",
    "\n",
    "# for rg in pf.iter_row_groups():\n",
    "#     print(rg)\n",
    "\n",
    "\n",
    "# df.to_parquet('/numerai/test.parquet',\n",
    "#               engine='fastparquet',\n",
    "#               row_group_offsets=50000)\n",
    "\n",
    "# napi.download_dataset(\"numerai_training_data_int8.csv\")\n",
    "\n",
    "# for i,chunk in enumerate(pd.read_csv('numerai_training_data_int8.csv', chunksize=50000)):\n",
    "#     chunk.to_csv('numerai_chunk{}.csv'.format(i), index=False)\n",
    "\n",
    "\n",
    "\n",
    "# napi.download_dataset(\"numerai_training_data_int8.parquet\")\n",
    "# df = pd.read_parquet('numerai_training_data_int8.parquet')\n",
    "# napi.download_dataset(\"numerai_tournament_data_int8.parquet\")\n",
    "# df_tour = pd.read_parquet('numerai_tournament_data_int8.parquet')\n",
    "# # # napi.download_dataset(\"numerai_validation_data_int8.parquet\")\n",
    "# df_val = pd.read_parquet('numerai_validation_data_int8.parquet')\n",
    "# # # df_val = pd.read_parquet('numerai_validation_data_int8.parquet')\n",
    "# # df.info()\n",
    "# # # df_val.info()\n",
    "\n",
    "\n",
    "\n",
    "df = pd.read_parquet('numerai_training_data_int8.parquet')\n",
    "df_r = df.sample(n = 200000)\n",
    "\n",
    "\n",
    "\n",
    "# # # df_val_r = df_val.sample(n = 500000)\n",
    "# # # df.head()\n",
    "# df_r.info()\n",
    "# # # df_r.head()\n",
    "# df_val.info()"
   ]
  },
  {
   "cell_type": "code",
   "execution_count": 9,
   "metadata": {},
   "outputs": [
    {
     "data": {
      "text/plain": [
       "<bound method DataFrame.info of                    era data_type  feature_dichasial_hammier_spawner  \\\n",
       "id                                                                    \n",
       "n003bba8a98662e4  0001     train                                  4   \n",
       "n003bee128c2fcfc  0001     train                                  2   \n",
       "n0048ac83aff7194  0001     train                                  2   \n",
       "n00691bec80d3e02  0001     train                                  4   \n",
       "n00b8720a2fdc4f2  0001     train                                  4   \n",
       "...                ...       ...                                ...   \n",
       "nffcc1dbdf2212e6  0574     train                                  0   \n",
       "nffd71b7f6a128df  0574     train                                  0   \n",
       "nffde3b371d67394  0574     train                                  1   \n",
       "nfff1a1111b35e84  0574     train                                  4   \n",
       "nfff2bd38e397265  0574     train                                  1   \n",
       "\n",
       "                  feature_rheumy_epistemic_prancer  \\\n",
       "id                                                   \n",
       "n003bba8a98662e4                                 2   \n",
       "n003bee128c2fcfc                                 4   \n",
       "n0048ac83aff7194                                 1   \n",
       "n00691bec80d3e02                                 2   \n",
       "n00b8720a2fdc4f2                                 3   \n",
       "...                                            ...   \n",
       "nffcc1dbdf2212e6                                 1   \n",
       "nffd71b7f6a128df                                 1   \n",
       "nffde3b371d67394                                 1   \n",
       "nfff1a1111b35e84                                 3   \n",
       "nfff2bd38e397265                                 1   \n",
       "\n",
       "                  feature_pert_performative_hormuz  \\\n",
       "id                                                   \n",
       "n003bba8a98662e4                                 4   \n",
       "n003bee128c2fcfc                                 1   \n",
       "n0048ac83aff7194                                 3   \n",
       "n00691bec80d3e02                                 2   \n",
       "n00b8720a2fdc4f2                                 4   \n",
       "...                                            ...   \n",
       "nffcc1dbdf2212e6                                 0   \n",
       "nffd71b7f6a128df                                 0   \n",
       "nffde3b371d67394                                 2   \n",
       "nfff1a1111b35e84                                 2   \n",
       "nfff2bd38e397265                                 3   \n",
       "\n",
       "                  feature_hillier_unpitied_theobromine  \\\n",
       "id                                                       \n",
       "n003bba8a98662e4                                     4   \n",
       "n003bee128c2fcfc                                     3   \n",
       "n0048ac83aff7194                                     0   \n",
       "n00691bec80d3e02                                     3   \n",
       "n00b8720a2fdc4f2                                     4   \n",
       "...                                                ...   \n",
       "nffcc1dbdf2212e6                                     1   \n",
       "nffd71b7f6a128df                                     4   \n",
       "nffde3b371d67394                                     1   \n",
       "nfff1a1111b35e84                                     2   \n",
       "nfff2bd38e397265                                     0   \n",
       "\n",
       "                  feature_perigean_bewitching_thruster  \\\n",
       "id                                                       \n",
       "n003bba8a98662e4                                     0   \n",
       "n003bee128c2fcfc                                     0   \n",
       "n0048ac83aff7194                                     3   \n",
       "n00691bec80d3e02                                     0   \n",
       "n00b8720a2fdc4f2                                     0   \n",
       "...                                                ...   \n",
       "nffcc1dbdf2212e6                                     4   \n",
       "nffd71b7f6a128df                                     2   \n",
       "nffde3b371d67394                                     3   \n",
       "nfff1a1111b35e84                                     3   \n",
       "nfff2bd38e397265                                     2   \n",
       "\n",
       "                  feature_renegade_undomestic_milord  \\\n",
       "id                                                     \n",
       "n003bba8a98662e4                                   0   \n",
       "n003bee128c2fcfc                                   3   \n",
       "n0048ac83aff7194                                   0   \n",
       "n00691bec80d3e02                                   4   \n",
       "n00b8720a2fdc4f2                                   0   \n",
       "...                                              ...   \n",
       "nffcc1dbdf2212e6                                   4   \n",
       "nffd71b7f6a128df                                   4   \n",
       "nffde3b371d67394                                   3   \n",
       "nfff1a1111b35e84                                   2   \n",
       "nfff2bd38e397265                                   2   \n",
       "\n",
       "                  feature_koranic_rude_corf  \\\n",
       "id                                            \n",
       "n003bba8a98662e4                          4   \n",
       "n003bee128c2fcfc                          2   \n",
       "n0048ac83aff7194                          3   \n",
       "n00691bec80d3e02                          1   \n",
       "n00b8720a2fdc4f2                          4   \n",
       "...                                     ...   \n",
       "nffcc1dbdf2212e6                          3   \n",
       "nffd71b7f6a128df                          0   \n",
       "nffde3b371d67394                          3   \n",
       "nfff1a1111b35e84                          1   \n",
       "nfff2bd38e397265                          4   \n",
       "\n",
       "                  feature_demisable_expiring_millepede  ...  target_paul_60  \\\n",
       "id                                                      ...                   \n",
       "n003bba8a98662e4                                     4  ...            0.25   \n",
       "n003bee128c2fcfc                                     3  ...            1.00   \n",
       "n0048ac83aff7194                                     3  ...            0.25   \n",
       "n00691bec80d3e02                                     4  ...            0.50   \n",
       "n00b8720a2fdc4f2                                     2  ...            0.50   \n",
       "...                                                ...  ...             ...   \n",
       "nffcc1dbdf2212e6                                     2  ...            0.75   \n",
       "nffd71b7f6a128df                                     2  ...            0.50   \n",
       "nffde3b371d67394                                     1  ...            0.50   \n",
       "nfff1a1111b35e84                                     2  ...            0.75   \n",
       "nfff2bd38e397265                                     4  ...            0.75   \n",
       "\n",
       "                  target_george_20  target_george_60  target_william_20  \\\n",
       "id                                                                        \n",
       "n003bba8a98662e4              0.25              0.00           0.166667   \n",
       "n003bee128c2fcfc              1.00              1.00           0.833333   \n",
       "n0048ac83aff7194              0.25              0.25           0.500000   \n",
       "n00691bec80d3e02              0.50              0.50           0.666667   \n",
       "n00b8720a2fdc4f2              0.50              0.50           0.666667   \n",
       "...                            ...               ...                ...   \n",
       "nffcc1dbdf2212e6              0.75              0.75           0.500000   \n",
       "nffd71b7f6a128df              0.25              0.50           0.166667   \n",
       "nffde3b371d67394              0.50              0.50           0.333333   \n",
       "nfff1a1111b35e84              0.75              0.75           0.666667   \n",
       "nfff2bd38e397265              0.50              0.75           0.666667   \n",
       "\n",
       "                  target_william_60  target_arthur_20  target_arthur_60  \\\n",
       "id                                                                        \n",
       "n003bba8a98662e4           0.000000          0.166667          0.000000   \n",
       "n003bee128c2fcfc           0.666667          0.833333          0.666667   \n",
       "n0048ac83aff7194           0.333333          0.500000          0.333333   \n",
       "n00691bec80d3e02           0.500000          0.500000          0.500000   \n",
       "n00b8720a2fdc4f2           0.500000          0.500000          0.500000   \n",
       "...                             ...               ...               ...   \n",
       "nffcc1dbdf2212e6           0.833333          0.500000          0.833333   \n",
       "nffd71b7f6a128df           0.500000          0.166667          0.333333   \n",
       "nffde3b371d67394           0.666667          0.333333          0.500000   \n",
       "nfff1a1111b35e84           0.666667          0.500000          0.500000   \n",
       "nfff2bd38e397265           0.833333          0.666667          0.833333   \n",
       "\n",
       "                  target_thomas_20  target_thomas_60  erano  \n",
       "id                                                           \n",
       "n003bba8a98662e4          0.166667          0.000000      1  \n",
       "n003bee128c2fcfc          0.833333          0.666667      1  \n",
       "n0048ac83aff7194          0.500000          0.333333      1  \n",
       "n00691bec80d3e02          0.666667          0.500000      1  \n",
       "n00b8720a2fdc4f2          0.666667          0.500000      1  \n",
       "...                            ...               ...    ...  \n",
       "nffcc1dbdf2212e6          0.833333          0.833333    574  \n",
       "nffd71b7f6a128df          0.166667          0.333333    574  \n",
       "nffde3b371d67394          0.333333          0.666667    574  \n",
       "nfff1a1111b35e84          0.500000          0.500000    574  \n",
       "nfff2bd38e397265          0.833333          1.000000    574  \n",
       "\n",
       "[2412105 rows x 1074 columns]>"
      ]
     },
     "execution_count": 9,
     "metadata": {},
     "output_type": "execute_result"
    },
    {
     "name": "stdout",
     "output_type": "stream",
     "text": [
      "\r"
     ]
    }
   ],
   "source": [
    "df.info"
   ]
  },
  {
   "cell_type": "code",
   "execution_count": 12,
   "metadata": {},
   "outputs": [
    {
     "data": {
      "text/plain": [
       "'/home/mathiasvanaelten/numerai'"
      ]
     },
     "execution_count": 12,
     "metadata": {},
     "output_type": "execute_result"
    },
    {
     "name": "stdout",
     "output_type": "stream",
     "text": [
      "\r"
     ]
    }
   ],
   "source": [
    "import os\n",
    "os.getcwd()"
   ]
  },
  {
   "cell_type": "code",
   "execution_count": null,
   "metadata": {},
   "outputs": [],
   "source": [
    "## Merge Multiple 1M Rows CSV files\n",
    "import os\n",
    "# import pandas as pd\n",
    "\n",
    "# 1. defines path to csv files\n",
    "path = \"/home/mathiasvanaelten/numerai/\"\n",
    "\n",
    "# 2. creates list with files to merge based on name convention\n",
    "file_list = [path + f for f in os.listdir(path) if f.startswith('numerai_chunk')]\n",
    "\n",
    "# 3. creates empty list to include the content of each file converted to pandas DF\n",
    "csv_list = []\n",
    " \n",
    "# 4. reads each (sorted) file in file_list, converts it to pandas DF and appends it to the csv_list\n",
    "for file in sorted(file_list):\n",
    "    csv_list.append(pd.read_csv(file).assign(File_Name = os.path.basename(file)))\n",
    "\n",
    "# 5. merges single pandas DFs into a single DF, index is refreshed \n",
    "csv_merged = pd.concat(csv_list, ignore_index=True)\n",
    "\n",
    "# 6. Single DF is saved to the path in CSV format, without index column\n",
    "csv_merged.to_csv(path + 'numerai_training_data_int8_full.csv', index=False)"
   ]
  },
  {
   "cell_type": "code",
   "execution_count": 11,
   "metadata": {},
   "outputs": [
    {
     "data": {
      "text/plain": [
       "(2412105, 1074)"
      ]
     },
     "execution_count": 11,
     "metadata": {},
     "output_type": "execute_result"
    },
    {
     "name": "stdout",
     "output_type": "stream",
     "text": [
      "\r"
     ]
    }
   ],
   "source": [
    "# There are 2412105 rows grouped into 574 weekly eras\n",
    "df.shape"
   ]
  },
  {
   "cell_type": "code",
   "execution_count": 5,
   "metadata": {},
   "outputs": [
    {
     "name": "stdout",
     "output_type": "stream",
     "text": [
      "1050\n",
      "id\n",
      "n003bba8a98662e4      1\n",
      "n003bee128c2fcfc      1\n",
      "n0048ac83aff7194      1\n",
      "n00691bec80d3e02      1\n",
      "n00b8720a2fdc4f2      1\n",
      "                   ... \n",
      "nffcc1dbdf2212e6    574\n",
      "nffd71b7f6a128df    574\n",
      "nffde3b371d67394    574\n",
      "nfff1a1111b35e84    574\n",
      "nfff2bd38e397265    574\n",
      "Name: erano, Length: 2412105, dtype: int64\n",
      "\r"
     ]
    }
   ],
   "source": [
    "features = [c for c in df if c.startswith(\"feature\")]\n",
    "df[\"erano\"] = df.era.astype(int)\n",
    "eras = df.erano\n",
    "target = \"target\"\n",
    "print(len(features))\n",
    "# print(features[:])\n",
    "print(eras)"
   ]
  },
  {
   "cell_type": "code",
   "execution_count": null,
   "metadata": {},
   "outputs": [],
   "source": [
    "# There are now 20 targets!\n",
    "\n",
    "## There are 10 different types of targets constructed and 2 versions of each constructed with a 20 day window or a 60 day window\n",
    "## You are only scored on 'target' which currently corresponds to 'target_nomi_20' but could change in the future\n",
    "## The other  auxillary targets can be very useful for training good models. Indeed you may find that a model trained on some of the auxillary targets generalize out-of-sample to 'target' better than a model trained on 'target'"
   ]
  },
  {
   "cell_type": "code",
   "execution_count": 6,
   "metadata": {},
   "outputs": [
    {
     "data": {
      "text/plain": [
       "21"
      ]
     },
     "execution_count": 6,
     "metadata": {},
     "output_type": "execute_result"
    },
    {
     "name": "stdout",
     "output_type": "stream",
     "text": [
      "\r"
     ]
    }
   ],
   "source": [
    "target = \"target\"\n",
    "targets = [c for c in df if c.startswith(\"target\")]\n",
    "len(targets)"
   ]
  },
  {
   "cell_type": "code",
   "execution_count": 14,
   "metadata": {},
   "outputs": [
    {
     "data": {
      "text/html": [
       "<div>\n",
       "<style scoped>\n",
       "    .dataframe tbody tr th:only-of-type {\n",
       "        vertical-align: middle;\n",
       "    }\n",
       "\n",
       "    .dataframe tbody tr th {\n",
       "        vertical-align: top;\n",
       "    }\n",
       "\n",
       "    .dataframe thead th {\n",
       "        text-align: right;\n",
       "    }\n",
       "</style>\n",
       "<table border=\"1\" class=\"dataframe\">\n",
       "  <thead>\n",
       "    <tr style=\"text-align: right;\">\n",
       "      <th></th>\n",
       "      <th>target</th>\n",
       "      <th>target_nomi_20</th>\n",
       "      <th>target_nomi_60</th>\n",
       "      <th>target_jerome_20</th>\n",
       "      <th>target_jerome_60</th>\n",
       "      <th>target_janet_20</th>\n",
       "      <th>target_janet_60</th>\n",
       "      <th>target_ben_20</th>\n",
       "      <th>target_ben_60</th>\n",
       "      <th>target_alan_20</th>\n",
       "      <th>...</th>\n",
       "      <th>target_paul_20</th>\n",
       "      <th>target_paul_60</th>\n",
       "      <th>target_george_20</th>\n",
       "      <th>target_george_60</th>\n",
       "      <th>target_william_20</th>\n",
       "      <th>target_william_60</th>\n",
       "      <th>target_arthur_20</th>\n",
       "      <th>target_arthur_60</th>\n",
       "      <th>target_thomas_20</th>\n",
       "      <th>target_thomas_60</th>\n",
       "    </tr>\n",
       "  </thead>\n",
       "  <tbody>\n",
       "    <tr>\n",
       "      <th>target</th>\n",
       "      <td>1.000000</td>\n",
       "      <td>1.000000</td>\n",
       "      <td>0.503147</td>\n",
       "      <td>0.769365</td>\n",
       "      <td>0.455448</td>\n",
       "      <td>0.659012</td>\n",
       "      <td>0.392255</td>\n",
       "      <td>0.819540</td>\n",
       "      <td>0.455063</td>\n",
       "      <td>0.678464</td>\n",
       "      <td>...</td>\n",
       "      <td>0.751827</td>\n",
       "      <td>0.441127</td>\n",
       "      <td>0.722665</td>\n",
       "      <td>0.401227</td>\n",
       "      <td>0.819724</td>\n",
       "      <td>0.484425</td>\n",
       "      <td>0.829850</td>\n",
       "      <td>0.490358</td>\n",
       "      <td>0.880602</td>\n",
       "      <td>0.486349</td>\n",
       "    </tr>\n",
       "    <tr>\n",
       "      <th>target_nomi_20</th>\n",
       "      <td>1.000000</td>\n",
       "      <td>1.000000</td>\n",
       "      <td>0.503147</td>\n",
       "      <td>0.769365</td>\n",
       "      <td>0.455448</td>\n",
       "      <td>0.659012</td>\n",
       "      <td>0.392255</td>\n",
       "      <td>0.819540</td>\n",
       "      <td>0.455063</td>\n",
       "      <td>0.678464</td>\n",
       "      <td>...</td>\n",
       "      <td>0.751827</td>\n",
       "      <td>0.441127</td>\n",
       "      <td>0.722665</td>\n",
       "      <td>0.401227</td>\n",
       "      <td>0.819724</td>\n",
       "      <td>0.484425</td>\n",
       "      <td>0.829850</td>\n",
       "      <td>0.490358</td>\n",
       "      <td>0.880602</td>\n",
       "      <td>0.486349</td>\n",
       "    </tr>\n",
       "    <tr>\n",
       "      <th>target_nomi_60</th>\n",
       "      <td>0.503147</td>\n",
       "      <td>0.503147</td>\n",
       "      <td>1.000000</td>\n",
       "      <td>0.433388</td>\n",
       "      <td>0.817732</td>\n",
       "      <td>0.373979</td>\n",
       "      <td>0.689912</td>\n",
       "      <td>0.456754</td>\n",
       "      <td>0.813261</td>\n",
       "      <td>0.384636</td>\n",
       "      <td>...</td>\n",
       "      <td>0.423820</td>\n",
       "      <td>0.791360</td>\n",
       "      <td>0.409423</td>\n",
       "      <td>0.705469</td>\n",
       "      <td>0.464266</td>\n",
       "      <td>0.873005</td>\n",
       "      <td>0.468459</td>\n",
       "      <td>0.879774</td>\n",
       "      <td>0.492558</td>\n",
       "      <td>0.877989</td>\n",
       "    </tr>\n",
       "    <tr>\n",
       "      <th>target_jerome_20</th>\n",
       "      <td>0.769365</td>\n",
       "      <td>0.769365</td>\n",
       "      <td>0.433388</td>\n",
       "      <td>1.000000</td>\n",
       "      <td>0.463756</td>\n",
       "      <td>0.698353</td>\n",
       "      <td>0.382269</td>\n",
       "      <td>0.768737</td>\n",
       "      <td>0.426895</td>\n",
       "      <td>0.628114</td>\n",
       "      <td>...</td>\n",
       "      <td>0.905954</td>\n",
       "      <td>0.446691</td>\n",
       "      <td>0.689335</td>\n",
       "      <td>0.379908</td>\n",
       "      <td>0.865786</td>\n",
       "      <td>0.453824</td>\n",
       "      <td>0.871040</td>\n",
       "      <td>0.457756</td>\n",
       "      <td>0.748965</td>\n",
       "      <td>0.421251</td>\n",
       "    </tr>\n",
       "    <tr>\n",
       "      <th>target_jerome_60</th>\n",
       "      <td>0.455448</td>\n",
       "      <td>0.455448</td>\n",
       "      <td>0.817732</td>\n",
       "      <td>0.463756</td>\n",
       "      <td>1.000000</td>\n",
       "      <td>0.382460</td>\n",
       "      <td>0.693168</td>\n",
       "      <td>0.450810</td>\n",
       "      <td>0.821748</td>\n",
       "      <td>0.372656</td>\n",
       "      <td>...</td>\n",
       "      <td>0.451384</td>\n",
       "      <td>0.884963</td>\n",
       "      <td>0.408582</td>\n",
       "      <td>0.719172</td>\n",
       "      <td>0.457941</td>\n",
       "      <td>0.862257</td>\n",
       "      <td>0.459407</td>\n",
       "      <td>0.865918</td>\n",
       "      <td>0.447718</td>\n",
       "      <td>0.789250</td>\n",
       "    </tr>\n",
       "    <tr>\n",
       "      <th>target_janet_20</th>\n",
       "      <td>0.659012</td>\n",
       "      <td>0.659012</td>\n",
       "      <td>0.373979</td>\n",
       "      <td>0.698353</td>\n",
       "      <td>0.382460</td>\n",
       "      <td>1.000000</td>\n",
       "      <td>0.422820</td>\n",
       "      <td>0.641273</td>\n",
       "      <td>0.358757</td>\n",
       "      <td>0.718364</td>\n",
       "      <td>...</td>\n",
       "      <td>0.703169</td>\n",
       "      <td>0.370593</td>\n",
       "      <td>0.576267</td>\n",
       "      <td>0.318308</td>\n",
       "      <td>0.724738</td>\n",
       "      <td>0.385911</td>\n",
       "      <td>0.747625</td>\n",
       "      <td>0.395341</td>\n",
       "      <td>0.648114</td>\n",
       "      <td>0.364063</td>\n",
       "    </tr>\n",
       "    <tr>\n",
       "      <th>target_janet_60</th>\n",
       "      <td>0.392255</td>\n",
       "      <td>0.392255</td>\n",
       "      <td>0.689912</td>\n",
       "      <td>0.382269</td>\n",
       "      <td>0.693168</td>\n",
       "      <td>0.422820</td>\n",
       "      <td>1.000000</td>\n",
       "      <td>0.378579</td>\n",
       "      <td>0.672070</td>\n",
       "      <td>0.414573</td>\n",
       "      <td>...</td>\n",
       "      <td>0.374259</td>\n",
       "      <td>0.695526</td>\n",
       "      <td>0.341069</td>\n",
       "      <td>0.596787</td>\n",
       "      <td>0.388464</td>\n",
       "      <td>0.720954</td>\n",
       "      <td>0.395379</td>\n",
       "      <td>0.742915</td>\n",
       "      <td>0.386067</td>\n",
       "      <td>0.677794</td>\n",
       "    </tr>\n",
       "    <tr>\n",
       "      <th>target_ben_20</th>\n",
       "      <td>0.819540</td>\n",
       "      <td>0.819540</td>\n",
       "      <td>0.456754</td>\n",
       "      <td>0.768737</td>\n",
       "      <td>0.450810</td>\n",
       "      <td>0.641273</td>\n",
       "      <td>0.378579</td>\n",
       "      <td>1.000000</td>\n",
       "      <td>0.485953</td>\n",
       "      <td>0.655087</td>\n",
       "      <td>...</td>\n",
       "      <td>0.745765</td>\n",
       "      <td>0.433137</td>\n",
       "      <td>0.757761</td>\n",
       "      <td>0.418228</td>\n",
       "      <td>0.746513</td>\n",
       "      <td>0.445281</td>\n",
       "      <td>0.755789</td>\n",
       "      <td>0.449744</td>\n",
       "      <td>0.872847</td>\n",
       "      <td>0.476992</td>\n",
       "    </tr>\n",
       "    <tr>\n",
       "      <th>target_ben_60</th>\n",
       "      <td>0.455063</td>\n",
       "      <td>0.455063</td>\n",
       "      <td>0.813261</td>\n",
       "      <td>0.426895</td>\n",
       "      <td>0.821748</td>\n",
       "      <td>0.358757</td>\n",
       "      <td>0.672070</td>\n",
       "      <td>0.485953</td>\n",
       "      <td>1.000000</td>\n",
       "      <td>0.373185</td>\n",
       "      <td>...</td>\n",
       "      <td>0.416077</td>\n",
       "      <td>0.786051</td>\n",
       "      <td>0.425653</td>\n",
       "      <td>0.747294</td>\n",
       "      <td>0.424105</td>\n",
       "      <td>0.787089</td>\n",
       "      <td>0.427728</td>\n",
       "      <td>0.795083</td>\n",
       "      <td>0.480622</td>\n",
       "      <td>0.867900</td>\n",
       "    </tr>\n",
       "    <tr>\n",
       "      <th>target_alan_20</th>\n",
       "      <td>0.678464</td>\n",
       "      <td>0.678464</td>\n",
       "      <td>0.384636</td>\n",
       "      <td>0.628114</td>\n",
       "      <td>0.372656</td>\n",
       "      <td>0.718364</td>\n",
       "      <td>0.414573</td>\n",
       "      <td>0.655087</td>\n",
       "      <td>0.373185</td>\n",
       "      <td>1.000000</td>\n",
       "      <td>...</td>\n",
       "      <td>0.614438</td>\n",
       "      <td>0.361734</td>\n",
       "      <td>0.581200</td>\n",
       "      <td>0.328936</td>\n",
       "      <td>0.642762</td>\n",
       "      <td>0.381904</td>\n",
       "      <td>0.661255</td>\n",
       "      <td>0.392130</td>\n",
       "      <td>0.702886</td>\n",
       "      <td>0.385541</td>\n",
       "    </tr>\n",
       "    <tr>\n",
       "      <th>target_alan_60</th>\n",
       "      <td>0.382948</td>\n",
       "      <td>0.382948</td>\n",
       "      <td>0.673598</td>\n",
       "      <td>0.353125</td>\n",
       "      <td>0.659323</td>\n",
       "      <td>0.392251</td>\n",
       "      <td>0.769956</td>\n",
       "      <td>0.373347</td>\n",
       "      <td>0.646430</td>\n",
       "      <td>0.419483</td>\n",
       "      <td>...</td>\n",
       "      <td>0.346406</td>\n",
       "      <td>0.640502</td>\n",
       "      <td>0.335088</td>\n",
       "      <td>0.568619</td>\n",
       "      <td>0.363717</td>\n",
       "      <td>0.677427</td>\n",
       "      <td>0.372271</td>\n",
       "      <td>0.696971</td>\n",
       "      <td>0.388124</td>\n",
       "      <td>0.695771</td>\n",
       "    </tr>\n",
       "    <tr>\n",
       "      <th>target_paul_20</th>\n",
       "      <td>0.751827</td>\n",
       "      <td>0.751827</td>\n",
       "      <td>0.423820</td>\n",
       "      <td>0.905954</td>\n",
       "      <td>0.451384</td>\n",
       "      <td>0.703169</td>\n",
       "      <td>0.374259</td>\n",
       "      <td>0.745765</td>\n",
       "      <td>0.416077</td>\n",
       "      <td>0.614438</td>\n",
       "      <td>...</td>\n",
       "      <td>1.000000</td>\n",
       "      <td>0.473859</td>\n",
       "      <td>0.696137</td>\n",
       "      <td>0.399401</td>\n",
       "      <td>0.847479</td>\n",
       "      <td>0.445068</td>\n",
       "      <td>0.840886</td>\n",
       "      <td>0.447869</td>\n",
       "      <td>0.730521</td>\n",
       "      <td>0.412473</td>\n",
       "    </tr>\n",
       "    <tr>\n",
       "      <th>target_paul_60</th>\n",
       "      <td>0.441127</td>\n",
       "      <td>0.441127</td>\n",
       "      <td>0.791360</td>\n",
       "      <td>0.446691</td>\n",
       "      <td>0.884963</td>\n",
       "      <td>0.370593</td>\n",
       "      <td>0.695526</td>\n",
       "      <td>0.433137</td>\n",
       "      <td>0.786051</td>\n",
       "      <td>0.361734</td>\n",
       "      <td>...</td>\n",
       "      <td>0.473859</td>\n",
       "      <td>1.000000</td>\n",
       "      <td>0.417146</td>\n",
       "      <td>0.741728</td>\n",
       "      <td>0.444607</td>\n",
       "      <td>0.835873</td>\n",
       "      <td>0.444850</td>\n",
       "      <td>0.826746</td>\n",
       "      <td>0.432580</td>\n",
       "      <td>0.763650</td>\n",
       "    </tr>\n",
       "    <tr>\n",
       "      <th>target_george_20</th>\n",
       "      <td>0.722665</td>\n",
       "      <td>0.722665</td>\n",
       "      <td>0.409423</td>\n",
       "      <td>0.689335</td>\n",
       "      <td>0.408582</td>\n",
       "      <td>0.576267</td>\n",
       "      <td>0.341069</td>\n",
       "      <td>0.757761</td>\n",
       "      <td>0.425653</td>\n",
       "      <td>0.581200</td>\n",
       "      <td>...</td>\n",
       "      <td>0.696137</td>\n",
       "      <td>0.417146</td>\n",
       "      <td>1.000000</td>\n",
       "      <td>0.482188</td>\n",
       "      <td>0.676223</td>\n",
       "      <td>0.406019</td>\n",
       "      <td>0.683647</td>\n",
       "      <td>0.409641</td>\n",
       "      <td>0.731028</td>\n",
       "      <td>0.417317</td>\n",
       "    </tr>\n",
       "    <tr>\n",
       "      <th>target_george_60</th>\n",
       "      <td>0.401227</td>\n",
       "      <td>0.401227</td>\n",
       "      <td>0.705469</td>\n",
       "      <td>0.379908</td>\n",
       "      <td>0.719172</td>\n",
       "      <td>0.318308</td>\n",
       "      <td>0.596787</td>\n",
       "      <td>0.418228</td>\n",
       "      <td>0.747294</td>\n",
       "      <td>0.328936</td>\n",
       "      <td>...</td>\n",
       "      <td>0.399401</td>\n",
       "      <td>0.741728</td>\n",
       "      <td>0.482188</td>\n",
       "      <td>1.000000</td>\n",
       "      <td>0.380864</td>\n",
       "      <td>0.701942</td>\n",
       "      <td>0.382972</td>\n",
       "      <td>0.707987</td>\n",
       "      <td>0.413474</td>\n",
       "      <td>0.718592</td>\n",
       "    </tr>\n",
       "    <tr>\n",
       "      <th>target_william_20</th>\n",
       "      <td>0.819724</td>\n",
       "      <td>0.819724</td>\n",
       "      <td>0.464266</td>\n",
       "      <td>0.865786</td>\n",
       "      <td>0.457941</td>\n",
       "      <td>0.724738</td>\n",
       "      <td>0.388464</td>\n",
       "      <td>0.746513</td>\n",
       "      <td>0.424105</td>\n",
       "      <td>0.642762</td>\n",
       "      <td>...</td>\n",
       "      <td>0.847479</td>\n",
       "      <td>0.444607</td>\n",
       "      <td>0.676223</td>\n",
       "      <td>0.380864</td>\n",
       "      <td>1.000000</td>\n",
       "      <td>0.497816</td>\n",
       "      <td>0.934503</td>\n",
       "      <td>0.490892</td>\n",
       "      <td>0.801328</td>\n",
       "      <td>0.452694</td>\n",
       "    </tr>\n",
       "    <tr>\n",
       "      <th>target_william_60</th>\n",
       "      <td>0.484425</td>\n",
       "      <td>0.484425</td>\n",
       "      <td>0.873005</td>\n",
       "      <td>0.453824</td>\n",
       "      <td>0.862257</td>\n",
       "      <td>0.385911</td>\n",
       "      <td>0.720954</td>\n",
       "      <td>0.445281</td>\n",
       "      <td>0.787089</td>\n",
       "      <td>0.381904</td>\n",
       "      <td>...</td>\n",
       "      <td>0.445068</td>\n",
       "      <td>0.835873</td>\n",
       "      <td>0.406019</td>\n",
       "      <td>0.701942</td>\n",
       "      <td>0.497816</td>\n",
       "      <td>1.000000</td>\n",
       "      <td>0.488486</td>\n",
       "      <td>0.934996</td>\n",
       "      <td>0.479017</td>\n",
       "      <td>0.848806</td>\n",
       "    </tr>\n",
       "    <tr>\n",
       "      <th>target_arthur_20</th>\n",
       "      <td>0.829850</td>\n",
       "      <td>0.829850</td>\n",
       "      <td>0.468459</td>\n",
       "      <td>0.871040</td>\n",
       "      <td>0.459407</td>\n",
       "      <td>0.747625</td>\n",
       "      <td>0.395379</td>\n",
       "      <td>0.755789</td>\n",
       "      <td>0.427728</td>\n",
       "      <td>0.661255</td>\n",
       "      <td>...</td>\n",
       "      <td>0.840886</td>\n",
       "      <td>0.444850</td>\n",
       "      <td>0.683647</td>\n",
       "      <td>0.382972</td>\n",
       "      <td>0.934503</td>\n",
       "      <td>0.488486</td>\n",
       "      <td>1.000000</td>\n",
       "      <td>0.496131</td>\n",
       "      <td>0.816706</td>\n",
       "      <td>0.459133</td>\n",
       "    </tr>\n",
       "    <tr>\n",
       "      <th>target_arthur_60</th>\n",
       "      <td>0.490358</td>\n",
       "      <td>0.490358</td>\n",
       "      <td>0.879774</td>\n",
       "      <td>0.457756</td>\n",
       "      <td>0.865918</td>\n",
       "      <td>0.395341</td>\n",
       "      <td>0.742915</td>\n",
       "      <td>0.449744</td>\n",
       "      <td>0.795083</td>\n",
       "      <td>0.392130</td>\n",
       "      <td>...</td>\n",
       "      <td>0.447869</td>\n",
       "      <td>0.826746</td>\n",
       "      <td>0.409641</td>\n",
       "      <td>0.707987</td>\n",
       "      <td>0.490892</td>\n",
       "      <td>0.934996</td>\n",
       "      <td>0.496131</td>\n",
       "      <td>1.000000</td>\n",
       "      <td>0.486803</td>\n",
       "      <td>0.863319</td>\n",
       "    </tr>\n",
       "    <tr>\n",
       "      <th>target_thomas_20</th>\n",
       "      <td>0.880602</td>\n",
       "      <td>0.880602</td>\n",
       "      <td>0.492558</td>\n",
       "      <td>0.748965</td>\n",
       "      <td>0.447718</td>\n",
       "      <td>0.648114</td>\n",
       "      <td>0.386067</td>\n",
       "      <td>0.872847</td>\n",
       "      <td>0.480622</td>\n",
       "      <td>0.702886</td>\n",
       "      <td>...</td>\n",
       "      <td>0.730521</td>\n",
       "      <td>0.432580</td>\n",
       "      <td>0.731028</td>\n",
       "      <td>0.413474</td>\n",
       "      <td>0.801328</td>\n",
       "      <td>0.479017</td>\n",
       "      <td>0.816706</td>\n",
       "      <td>0.486803</td>\n",
       "      <td>1.000000</td>\n",
       "      <td>0.519180</td>\n",
       "    </tr>\n",
       "    <tr>\n",
       "      <th>target_thomas_60</th>\n",
       "      <td>0.486349</td>\n",
       "      <td>0.486349</td>\n",
       "      <td>0.877989</td>\n",
       "      <td>0.421251</td>\n",
       "      <td>0.789250</td>\n",
       "      <td>0.364063</td>\n",
       "      <td>0.677794</td>\n",
       "      <td>0.476992</td>\n",
       "      <td>0.867900</td>\n",
       "      <td>0.385541</td>\n",
       "      <td>...</td>\n",
       "      <td>0.412473</td>\n",
       "      <td>0.763650</td>\n",
       "      <td>0.417317</td>\n",
       "      <td>0.718592</td>\n",
       "      <td>0.452694</td>\n",
       "      <td>0.848806</td>\n",
       "      <td>0.459133</td>\n",
       "      <td>0.863319</td>\n",
       "      <td>0.519180</td>\n",
       "      <td>1.000000</td>\n",
       "    </tr>\n",
       "  </tbody>\n",
       "</table>\n",
       "<p>21 rows × 21 columns</p>\n",
       "</div>"
      ],
      "text/plain": [
       "                     target  target_nomi_20  target_nomi_60  target_jerome_20  \\\n",
       "target             1.000000        1.000000        0.503147          0.769365   \n",
       "target_nomi_20     1.000000        1.000000        0.503147          0.769365   \n",
       "target_nomi_60     0.503147        0.503147        1.000000          0.433388   \n",
       "target_jerome_20   0.769365        0.769365        0.433388          1.000000   \n",
       "target_jerome_60   0.455448        0.455448        0.817732          0.463756   \n",
       "target_janet_20    0.659012        0.659012        0.373979          0.698353   \n",
       "target_janet_60    0.392255        0.392255        0.689912          0.382269   \n",
       "target_ben_20      0.819540        0.819540        0.456754          0.768737   \n",
       "target_ben_60      0.455063        0.455063        0.813261          0.426895   \n",
       "target_alan_20     0.678464        0.678464        0.384636          0.628114   \n",
       "target_alan_60     0.382948        0.382948        0.673598          0.353125   \n",
       "target_paul_20     0.751827        0.751827        0.423820          0.905954   \n",
       "target_paul_60     0.441127        0.441127        0.791360          0.446691   \n",
       "target_george_20   0.722665        0.722665        0.409423          0.689335   \n",
       "target_george_60   0.401227        0.401227        0.705469          0.379908   \n",
       "target_william_20  0.819724        0.819724        0.464266          0.865786   \n",
       "target_william_60  0.484425        0.484425        0.873005          0.453824   \n",
       "target_arthur_20   0.829850        0.829850        0.468459          0.871040   \n",
       "target_arthur_60   0.490358        0.490358        0.879774          0.457756   \n",
       "target_thomas_20   0.880602        0.880602        0.492558          0.748965   \n",
       "target_thomas_60   0.486349        0.486349        0.877989          0.421251   \n",
       "\n",
       "                   target_jerome_60  target_janet_20  target_janet_60  \\\n",
       "target                     0.455448         0.659012         0.392255   \n",
       "target_nomi_20             0.455448         0.659012         0.392255   \n",
       "target_nomi_60             0.817732         0.373979         0.689912   \n",
       "target_jerome_20           0.463756         0.698353         0.382269   \n",
       "target_jerome_60           1.000000         0.382460         0.693168   \n",
       "target_janet_20            0.382460         1.000000         0.422820   \n",
       "target_janet_60            0.693168         0.422820         1.000000   \n",
       "target_ben_20              0.450810         0.641273         0.378579   \n",
       "target_ben_60              0.821748         0.358757         0.672070   \n",
       "target_alan_20             0.372656         0.718364         0.414573   \n",
       "target_alan_60             0.659323         0.392251         0.769956   \n",
       "target_paul_20             0.451384         0.703169         0.374259   \n",
       "target_paul_60             0.884963         0.370593         0.695526   \n",
       "target_george_20           0.408582         0.576267         0.341069   \n",
       "target_george_60           0.719172         0.318308         0.596787   \n",
       "target_william_20          0.457941         0.724738         0.388464   \n",
       "target_william_60          0.862257         0.385911         0.720954   \n",
       "target_arthur_20           0.459407         0.747625         0.395379   \n",
       "target_arthur_60           0.865918         0.395341         0.742915   \n",
       "target_thomas_20           0.447718         0.648114         0.386067   \n",
       "target_thomas_60           0.789250         0.364063         0.677794   \n",
       "\n",
       "                   target_ben_20  target_ben_60  target_alan_20  ...  \\\n",
       "target                  0.819540       0.455063        0.678464  ...   \n",
       "target_nomi_20          0.819540       0.455063        0.678464  ...   \n",
       "target_nomi_60          0.456754       0.813261        0.384636  ...   \n",
       "target_jerome_20        0.768737       0.426895        0.628114  ...   \n",
       "target_jerome_60        0.450810       0.821748        0.372656  ...   \n",
       "target_janet_20         0.641273       0.358757        0.718364  ...   \n",
       "target_janet_60         0.378579       0.672070        0.414573  ...   \n",
       "target_ben_20           1.000000       0.485953        0.655087  ...   \n",
       "target_ben_60           0.485953       1.000000        0.373185  ...   \n",
       "target_alan_20          0.655087       0.373185        1.000000  ...   \n",
       "target_alan_60          0.373347       0.646430        0.419483  ...   \n",
       "target_paul_20          0.745765       0.416077        0.614438  ...   \n",
       "target_paul_60          0.433137       0.786051        0.361734  ...   \n",
       "target_george_20        0.757761       0.425653        0.581200  ...   \n",
       "target_george_60        0.418228       0.747294        0.328936  ...   \n",
       "target_william_20       0.746513       0.424105        0.642762  ...   \n",
       "target_william_60       0.445281       0.787089        0.381904  ...   \n",
       "target_arthur_20        0.755789       0.427728        0.661255  ...   \n",
       "target_arthur_60        0.449744       0.795083        0.392130  ...   \n",
       "target_thomas_20        0.872847       0.480622        0.702886  ...   \n",
       "target_thomas_60        0.476992       0.867900        0.385541  ...   \n",
       "\n",
       "                   target_paul_20  target_paul_60  target_george_20  \\\n",
       "target                   0.751827        0.441127          0.722665   \n",
       "target_nomi_20           0.751827        0.441127          0.722665   \n",
       "target_nomi_60           0.423820        0.791360          0.409423   \n",
       "target_jerome_20         0.905954        0.446691          0.689335   \n",
       "target_jerome_60         0.451384        0.884963          0.408582   \n",
       "target_janet_20          0.703169        0.370593          0.576267   \n",
       "target_janet_60          0.374259        0.695526          0.341069   \n",
       "target_ben_20            0.745765        0.433137          0.757761   \n",
       "target_ben_60            0.416077        0.786051          0.425653   \n",
       "target_alan_20           0.614438        0.361734          0.581200   \n",
       "target_alan_60           0.346406        0.640502          0.335088   \n",
       "target_paul_20           1.000000        0.473859          0.696137   \n",
       "target_paul_60           0.473859        1.000000          0.417146   \n",
       "target_george_20         0.696137        0.417146          1.000000   \n",
       "target_george_60         0.399401        0.741728          0.482188   \n",
       "target_william_20        0.847479        0.444607          0.676223   \n",
       "target_william_60        0.445068        0.835873          0.406019   \n",
       "target_arthur_20         0.840886        0.444850          0.683647   \n",
       "target_arthur_60         0.447869        0.826746          0.409641   \n",
       "target_thomas_20         0.730521        0.432580          0.731028   \n",
       "target_thomas_60         0.412473        0.763650          0.417317   \n",
       "\n",
       "                   target_george_60  target_william_20  target_william_60  \\\n",
       "target                     0.401227           0.819724           0.484425   \n",
       "target_nomi_20             0.401227           0.819724           0.484425   \n",
       "target_nomi_60             0.705469           0.464266           0.873005   \n",
       "target_jerome_20           0.379908           0.865786           0.453824   \n",
       "target_jerome_60           0.719172           0.457941           0.862257   \n",
       "target_janet_20            0.318308           0.724738           0.385911   \n",
       "target_janet_60            0.596787           0.388464           0.720954   \n",
       "target_ben_20              0.418228           0.746513           0.445281   \n",
       "target_ben_60              0.747294           0.424105           0.787089   \n",
       "target_alan_20             0.328936           0.642762           0.381904   \n",
       "target_alan_60             0.568619           0.363717           0.677427   \n",
       "target_paul_20             0.399401           0.847479           0.445068   \n",
       "target_paul_60             0.741728           0.444607           0.835873   \n",
       "target_george_20           0.482188           0.676223           0.406019   \n",
       "target_george_60           1.000000           0.380864           0.701942   \n",
       "target_william_20          0.380864           1.000000           0.497816   \n",
       "target_william_60          0.701942           0.497816           1.000000   \n",
       "target_arthur_20           0.382972           0.934503           0.488486   \n",
       "target_arthur_60           0.707987           0.490892           0.934996   \n",
       "target_thomas_20           0.413474           0.801328           0.479017   \n",
       "target_thomas_60           0.718592           0.452694           0.848806   \n",
       "\n",
       "                   target_arthur_20  target_arthur_60  target_thomas_20  \\\n",
       "target                     0.829850          0.490358          0.880602   \n",
       "target_nomi_20             0.829850          0.490358          0.880602   \n",
       "target_nomi_60             0.468459          0.879774          0.492558   \n",
       "target_jerome_20           0.871040          0.457756          0.748965   \n",
       "target_jerome_60           0.459407          0.865918          0.447718   \n",
       "target_janet_20            0.747625          0.395341          0.648114   \n",
       "target_janet_60            0.395379          0.742915          0.386067   \n",
       "target_ben_20              0.755789          0.449744          0.872847   \n",
       "target_ben_60              0.427728          0.795083          0.480622   \n",
       "target_alan_20             0.661255          0.392130          0.702886   \n",
       "target_alan_60             0.372271          0.696971          0.388124   \n",
       "target_paul_20             0.840886          0.447869          0.730521   \n",
       "target_paul_60             0.444850          0.826746          0.432580   \n",
       "target_george_20           0.683647          0.409641          0.731028   \n",
       "target_george_60           0.382972          0.707987          0.413474   \n",
       "target_william_20          0.934503          0.490892          0.801328   \n",
       "target_william_60          0.488486          0.934996          0.479017   \n",
       "target_arthur_20           1.000000          0.496131          0.816706   \n",
       "target_arthur_60           0.496131          1.000000          0.486803   \n",
       "target_thomas_20           0.816706          0.486803          1.000000   \n",
       "target_thomas_60           0.459133          0.863319          0.519180   \n",
       "\n",
       "                   target_thomas_60  \n",
       "target                     0.486349  \n",
       "target_nomi_20             0.486349  \n",
       "target_nomi_60             0.877989  \n",
       "target_jerome_20           0.421251  \n",
       "target_jerome_60           0.789250  \n",
       "target_janet_20            0.364063  \n",
       "target_janet_60            0.677794  \n",
       "target_ben_20              0.476992  \n",
       "target_ben_60              0.867900  \n",
       "target_alan_20             0.385541  \n",
       "target_alan_60             0.695771  \n",
       "target_paul_20             0.412473  \n",
       "target_paul_60             0.763650  \n",
       "target_george_20           0.417317  \n",
       "target_george_60           0.718592  \n",
       "target_william_20          0.452694  \n",
       "target_william_60          0.848806  \n",
       "target_arthur_20           0.459133  \n",
       "target_arthur_60           0.863319  \n",
       "target_thomas_20           0.519180  \n",
       "target_thomas_60           1.000000  \n",
       "\n",
       "[21 rows x 21 columns]"
      ]
     },
     "execution_count": 14,
     "metadata": {},
     "output_type": "execute_result"
    },
    {
     "name": "stdout",
     "output_type": "stream",
     "text": [
      "\r"
     ]
    }
   ],
   "source": [
    "# The targets have a wide range of correlations with each other from ~0.3 to ~0.9\n",
    "# This should allow the construction of many diverse models which ensemble nicely\n",
    "df[targets].corr()"
   ]
  },
  {
   "cell_type": "code",
   "execution_count": null,
   "metadata": {},
   "outputs": [],
   "source": [
    "# 1050 features, no feature groups!"
   ]
  },
  {
   "cell_type": "code",
   "execution_count": 16,
   "metadata": {},
   "outputs": [
    {
     "data": {
      "text/plain": [
       "<matplotlib.image.AxesImage at 0x7f549c6df340>"
      ]
     },
     "execution_count": 16,
     "metadata": {},
     "output_type": "execute_result"
    },
    {
     "data": {
      "image/png": "[encoded data removed]",
      "text/plain": [
       "<Figure size 576x576 with 1 Axes>"
      ]
     },
     "metadata": {
      "needs_background": "light"
     },
     "output_type": "display_data"
    },
    {
     "name": "stdout",
     "output_type": "stream",
     "text": [
      "\r"
     ]
    }
   ],
   "source": [
    "# The features are no longer explicit feature groups, but you can see some pretty obvious patterns if you\n",
    "# visualize the feature correlation matrix. Feel free to construct your own groupings!\n",
    "plt.figure(figsize = (8,8))\n",
    "plt.imshow(df[df.era=='0001'][features].corr())"
   ]
  },
  {
   "cell_type": "code",
   "execution_count": 7,
   "metadata": {},
   "outputs": [
    {
     "name": "stdout",
     "output_type": "stream",
     "text": [
      "\r"
     ]
    }
   ],
   "source": [
    "# The models should be scored based on the rank-correlation (spearman) with the target\n",
    "def numerai_score(y_true, y_pred):\n",
    "    rank_pred = y_pred.groupby(eras).apply(lambda x: x.rank(pct=True, method=\"first\"))\n",
    "    return np.corrcoef(y_true, rank_pred)[0,1]\n",
    "\n",
    "# It can also be convenient while working to evaluate based on the regular (pearson) correlation\n",
    "def correlation_score(y_true, y_pred):\n",
    "    return np.corrcoef(y_true, y_pred)[0,1]"
   ]
  },
  {
   "cell_type": "code",
   "execution_count": 21,
   "metadata": {},
   "outputs": [
    {
     "data": {
      "text/plain": [
       "count    2.412105e+06\n",
       "mean     3.043023e+02\n",
       "std      1.598982e+02\n",
       "min      1.000000e+00\n",
       "25%      1.720000e+02\n",
       "50%      3.040000e+02\n",
       "75%      4.430000e+02\n",
       "max      5.740000e+02\n",
       "Name: erano, dtype: float64"
      ]
     },
     "execution_count": 21,
     "metadata": {},
     "output_type": "execute_result"
    },
    {
     "name": "stdout",
     "output_type": "stream",
     "text": [
      "\r"
     ]
    }
   ],
   "source": [
    "# There are 574 eras numbered from 1 to 574\n",
    "eras.describe()\n",
    "# df.era.count()"
   ]
  },
  {
   "cell_type": "code",
   "execution_count": 22,
   "metadata": {},
   "outputs": [
    {
     "data": {
      "text/plain": [
       "<AxesSubplot:xlabel='erano'>"
      ]
     },
     "execution_count": 22,
     "metadata": {},
     "output_type": "execute_result"
    },
    {
     "data": {
      "image/png": "[encoded data removed]",
      "text/plain": [
       "<Figure size 432x288 with 1 Axes>"
      ]
     },
     "metadata": {
      "needs_background": "light"
     },
     "output_type": "display_data"
    },
    {
     "name": "stdout",
     "output_type": "stream",
     "text": [
      "\r"
     ]
    }
   ],
   "source": [
    "# The earlier eras are smaller, but generally each era is 4000-5000 rows\n",
    "df.groupby(eras).size().plot()"
   ]
  },
  {
   "cell_type": "code",
   "execution_count": 8,
   "metadata": {},
   "outputs": [
    {
     "data": {
      "text/plain": [
       "target\n",
       "0.00    0.050003\n",
       "0.25    0.199996\n",
       "0.50    0.499993\n",
       "0.75    0.200015\n",
       "1.00    0.049992\n",
       "dtype: float64"
      ]
     },
     "execution_count": 8,
     "metadata": {},
     "output_type": "execute_result"
    },
    {
     "name": "stdout",
     "output_type": "stream",
     "text": [
      "\r"
     ]
    }
   ],
   "source": [
    "# The target is discrete and takes on 5 different values with about 5% in 0 & 1, 20% in 0.75 & 0.25, and 50% in 0.50\n",
    "df.groupby(target).size()/len(df)"
   ]
  },
  {
   "cell_type": "code",
   "execution_count": 25,
   "metadata": {},
   "outputs": [
    {
     "name": "stdout",
     "output_type": "stream",
     "text": [
      "target_william_20\n",
      "0.000000    0.029735\n",
      "0.166667    0.059873\n",
      "0.333333    0.211150\n",
      "0.500000    0.391798\n",
      "0.666667    0.203550\n",
      "0.833333    0.065247\n",
      "1.000000    0.038511\n",
      "dtype: float64\n",
      "\n",
      "target_arthur_20\n",
      "0.000000    0.028859\n",
      "0.166667    0.073267\n",
      "0.333333    0.258668\n",
      "0.500000    0.384931\n",
      "0.666667    0.173287\n",
      "0.833333    0.052486\n",
      "1.000000    0.028367\n",
      "dtype: float64\n",
      "\r"
     ]
    }
   ],
   "source": [
    "# Some new targets have a different distribution and the bins are less rigid in the percent of samples contained\n",
    "print(df.groupby('target_william_20').size()/len(df))\n",
    "print()\n",
    "print(df.groupby('target_arthur_20').size()/len(df))"
   ]
  },
  {
   "cell_type": "markdown",
   "metadata": {},
   "source": [
    "# Some of the features are very correlated\n",
    "Some even perfectly correlated within a particular era"
   ]
  },
  {
   "cell_type": "code",
   "execution_count": 26,
   "metadata": {},
   "outputs": [
    {
     "name": "stdout",
     "output_type": "stream",
     "text": [
      "\r"
     ]
    }
   ],
   "source": [
    "feature_corrs = df[df.era=='0001'][features].corr()"
   ]
  },
  {
   "cell_type": "code",
   "execution_count": 27,
   "metadata": {},
   "outputs": [
    {
     "data": {
      "text/plain": [
       "feature_dichasial_hammier_spawner  feature_dichasial_hammier_spawner       1.000000\n",
       "                                   feature_rheumy_epistemic_prancer        0.001690\n",
       "                                   feature_pert_performative_hormuz        0.141253\n",
       "                                   feature_hillier_unpitied_theobromine    0.170891\n",
       "                                   feature_perigean_bewitching_thruster   -0.151098\n",
       "dtype: float64"
      ]
     },
     "execution_count": 27,
     "metadata": {},
     "output_type": "execute_result"
    },
    {
     "name": "stdout",
     "output_type": "stream",
     "text": [
      "\r"
     ]
    }
   ],
   "source": [
    "feature_corrs.stack().head()"
   ]
  },
  {
   "cell_type": "code",
   "execution_count": 28,
   "metadata": {
    "scrolled": true
   },
   "outputs": [
    {
     "data": {
      "text/plain": [
       "feature_calycled_living_birmingham            feature_dentilingual_removed_osmometer             -0.947381\n",
       "feature_criticisable_authentical_deprecation  feature_invalid_extortionary_titillation           -0.927235\n",
       "feature_hierologic_assault_candida            feature_multicostate_undescended_monoacid          -0.926623\n",
       "feature_apogamic_obeisant_pondicherry         feature_splitting_sexagesimal_teutonisation        -0.923430\n",
       "feature_earthlier_parian_pistachio            feature_grandmotherly_circumnavigable_homonymity   -0.913526\n",
       "                                                                                                    ...   \n",
       "feature_escutcheoned_timocratic_kotwal        feature_horizontal_snug_description                 1.000000\n",
       "                                              feature_neptunian_supersensitive_stapler            1.000000\n",
       "                                              feature_interoceptive_fifteenth_trey                1.000000\n",
       "                                              feature_savory_engrained_undervest                  1.000000\n",
       "feature_brittle_chautauqua_elite              feature_steepled_transistorized_shelter             1.000000\n",
       "Length: 550725, dtype: float64"
      ]
     },
     "execution_count": 28,
     "metadata": {},
     "output_type": "execute_result"
    },
    {
     "name": "stdout",
     "output_type": "stream",
     "text": [
      "\r"
     ]
    }
   ],
   "source": [
    "tdf = feature_corrs.stack()\n",
    "tdf = tdf[tdf.index.get_level_values(0) < tdf.index.get_level_values(1)]\n",
    "tdf.sort_values()"
   ]
  },
  {
   "cell_type": "code",
   "execution_count": 33,
   "metadata": {},
   "outputs": [
    {
     "name": "stdout",
     "output_type": "stream",
     "text": [
      "\r"
     ]
    }
   ],
   "source": [
    "import seaborn as sns\n",
    "import matplotlib.pyplot as plt\n",
    "%matplotlib inline"
   ]
  },
  {
   "cell_type": "code",
   "execution_count": 10,
   "metadata": {},
   "outputs": [
    {
     "ename": "ValueError",
     "evalue": "could not convert string to float: 'train'",
     "output_type": "error",
     "traceback": [
      "\u001b[0;31m---------------------------------------------------------------------------\u001b[0m",
      "\u001b[0;31mValueError\u001b[0m                                Traceback (most recent call last)",
      "Input \u001b[0;32mIn [10]\u001b[0m, in \u001b[0;36m<cell line: 1>\u001b[0;34m()\u001b[0m\n\u001b[0;32m----> 1\u001b[0m \u001b[43mdf\u001b[49m\u001b[38;5;241;43m.\u001b[39;49m\u001b[43mastype\u001b[49m\u001b[43m(\u001b[49m\u001b[43mdtype\u001b[49m\u001b[38;5;241;43m=\u001b[39;49m\u001b[38;5;124;43m'\u001b[39;49m\u001b[38;5;124;43mfloat\u001b[39;49m\u001b[38;5;124;43m'\u001b[39;49m\u001b[43m)\u001b[49m\n",
      "File \u001b[0;32m~/miniconda3/lib/python3.8/site-packages/pandas/core/generic.py:5920\u001b[0m, in \u001b[0;36mNDFrame.astype\u001b[0;34m(self, dtype, copy, errors)\u001b[0m\n\u001b[1;32m   5913\u001b[0m     results \u001b[38;5;241m=\u001b[39m [\n\u001b[1;32m   5914\u001b[0m         \u001b[38;5;28mself\u001b[39m\u001b[38;5;241m.\u001b[39miloc[:, i]\u001b[38;5;241m.\u001b[39mastype(dtype, copy\u001b[38;5;241m=\u001b[39mcopy)\n\u001b[1;32m   5915\u001b[0m         \u001b[38;5;28;01mfor\u001b[39;00m i \u001b[38;5;129;01min\u001b[39;00m \u001b[38;5;28mrange\u001b[39m(\u001b[38;5;28mlen\u001b[39m(\u001b[38;5;28mself\u001b[39m\u001b[38;5;241m.\u001b[39mcolumns))\n\u001b[1;32m   5916\u001b[0m     ]\n\u001b[1;32m   5918\u001b[0m \u001b[38;5;28;01melse\u001b[39;00m:\n\u001b[1;32m   5919\u001b[0m     \u001b[38;5;66;03m# else, only a single dtype is given\u001b[39;00m\n\u001b[0;32m-> 5920\u001b[0m     new_data \u001b[38;5;241m=\u001b[39m \u001b[38;5;28;43mself\u001b[39;49m\u001b[38;5;241;43m.\u001b[39;49m\u001b[43m_mgr\u001b[49m\u001b[38;5;241;43m.\u001b[39;49m\u001b[43mastype\u001b[49m\u001b[43m(\u001b[49m\u001b[43mdtype\u001b[49m\u001b[38;5;241;43m=\u001b[39;49m\u001b[43mdtype\u001b[49m\u001b[43m,\u001b[49m\u001b[43m \u001b[49m\u001b[43mcopy\u001b[49m\u001b[38;5;241;43m=\u001b[39;49m\u001b[43mcopy\u001b[49m\u001b[43m,\u001b[49m\u001b[43m \u001b[49m\u001b[43merrors\u001b[49m\u001b[38;5;241;43m=\u001b[39;49m\u001b[43merrors\u001b[49m\u001b[43m)\u001b[49m\n\u001b[1;32m   5921\u001b[0m     \u001b[38;5;28;01mreturn\u001b[39;00m \u001b[38;5;28mself\u001b[39m\u001b[38;5;241m.\u001b[39m_constructor(new_data)\u001b[38;5;241m.\u001b[39m__finalize__(\u001b[38;5;28mself\u001b[39m, method\u001b[38;5;241m=\u001b[39m\u001b[38;5;124m\"\u001b[39m\u001b[38;5;124mastype\u001b[39m\u001b[38;5;124m\"\u001b[39m)\n\u001b[1;32m   5923\u001b[0m \u001b[38;5;66;03m# GH 33113: handle empty frame or series\u001b[39;00m\n",
      "File \u001b[0;32m~/miniconda3/lib/python3.8/site-packages/pandas/core/internals/managers.py:419\u001b[0m, in \u001b[0;36mBaseBlockManager.astype\u001b[0;34m(self, dtype, copy, errors)\u001b[0m\n\u001b[1;32m    418\u001b[0m \u001b[38;5;28;01mdef\u001b[39;00m \u001b[38;5;21mastype\u001b[39m(\u001b[38;5;28mself\u001b[39m: T, dtype, copy: \u001b[38;5;28mbool\u001b[39m \u001b[38;5;241m=\u001b[39m \u001b[38;5;28;01mFalse\u001b[39;00m, errors: \u001b[38;5;28mstr\u001b[39m \u001b[38;5;241m=\u001b[39m \u001b[38;5;124m\"\u001b[39m\u001b[38;5;124mraise\u001b[39m\u001b[38;5;124m\"\u001b[39m) \u001b[38;5;241m-\u001b[39m\u001b[38;5;241m>\u001b[39m T:\n\u001b[0;32m--> 419\u001b[0m     \u001b[38;5;28;01mreturn\u001b[39;00m \u001b[38;5;28;43mself\u001b[39;49m\u001b[38;5;241;43m.\u001b[39;49m\u001b[43mapply\u001b[49m\u001b[43m(\u001b[49m\u001b[38;5;124;43m\"\u001b[39;49m\u001b[38;5;124;43mastype\u001b[39;49m\u001b[38;5;124;43m\"\u001b[39;49m\u001b[43m,\u001b[49m\u001b[43m \u001b[49m\u001b[43mdtype\u001b[49m\u001b[38;5;241;43m=\u001b[39;49m\u001b[43mdtype\u001b[49m\u001b[43m,\u001b[49m\u001b[43m \u001b[49m\u001b[43mcopy\u001b[49m\u001b[38;5;241;43m=\u001b[39;49m\u001b[43mcopy\u001b[49m\u001b[43m,\u001b[49m\u001b[43m \u001b[49m\u001b[43merrors\u001b[49m\u001b[38;5;241;43m=\u001b[39;49m\u001b[43merrors\u001b[49m\u001b[43m)\u001b[49m\n",
      "File \u001b[0;32m~/miniconda3/lib/python3.8/site-packages/pandas/core/internals/managers.py:304\u001b[0m, in \u001b[0;36mBaseBlockManager.apply\u001b[0;34m(self, f, align_keys, ignore_failures, **kwargs)\u001b[0m\n\u001b[1;32m    302\u001b[0m         applied \u001b[38;5;241m=\u001b[39m b\u001b[38;5;241m.\u001b[39mapply(f, \u001b[38;5;241m*\u001b[39m\u001b[38;5;241m*\u001b[39mkwargs)\n\u001b[1;32m    303\u001b[0m     \u001b[38;5;28;01melse\u001b[39;00m:\n\u001b[0;32m--> 304\u001b[0m         applied \u001b[38;5;241m=\u001b[39m \u001b[38;5;28;43mgetattr\u001b[39;49m\u001b[43m(\u001b[49m\u001b[43mb\u001b[49m\u001b[43m,\u001b[49m\u001b[43m \u001b[49m\u001b[43mf\u001b[49m\u001b[43m)\u001b[49m\u001b[43m(\u001b[49m\u001b[38;5;241;43m*\u001b[39;49m\u001b[38;5;241;43m*\u001b[39;49m\u001b[43mkwargs\u001b[49m\u001b[43m)\u001b[49m\n\u001b[1;32m    305\u001b[0m \u001b[38;5;28;01mexcept\u001b[39;00m (\u001b[38;5;167;01mTypeError\u001b[39;00m, \u001b[38;5;167;01mNotImplementedError\u001b[39;00m):\n\u001b[1;32m    306\u001b[0m     \u001b[38;5;28;01mif\u001b[39;00m \u001b[38;5;129;01mnot\u001b[39;00m ignore_failures:\n",
      "File \u001b[0;32m~/miniconda3/lib/python3.8/site-packages/pandas/core/internals/blocks.py:580\u001b[0m, in \u001b[0;36mBlock.astype\u001b[0;34m(self, dtype, copy, errors)\u001b[0m\n\u001b[1;32m    562\u001b[0m \u001b[38;5;124;03m\"\"\"\u001b[39;00m\n\u001b[1;32m    563\u001b[0m \u001b[38;5;124;03mCoerce to the new dtype.\u001b[39;00m\n\u001b[1;32m    564\u001b[0m \n\u001b[0;32m   (...)\u001b[0m\n\u001b[1;32m    576\u001b[0m \u001b[38;5;124;03mBlock\u001b[39;00m\n\u001b[1;32m    577\u001b[0m \u001b[38;5;124;03m\"\"\"\u001b[39;00m\n\u001b[1;32m    578\u001b[0m values \u001b[38;5;241m=\u001b[39m \u001b[38;5;28mself\u001b[39m\u001b[38;5;241m.\u001b[39mvalues\n\u001b[0;32m--> 580\u001b[0m new_values \u001b[38;5;241m=\u001b[39m \u001b[43mastype_array_safe\u001b[49m\u001b[43m(\u001b[49m\u001b[43mvalues\u001b[49m\u001b[43m,\u001b[49m\u001b[43m \u001b[49m\u001b[43mdtype\u001b[49m\u001b[43m,\u001b[49m\u001b[43m \u001b[49m\u001b[43mcopy\u001b[49m\u001b[38;5;241;43m=\u001b[39;49m\u001b[43mcopy\u001b[49m\u001b[43m,\u001b[49m\u001b[43m \u001b[49m\u001b[43merrors\u001b[49m\u001b[38;5;241;43m=\u001b[39;49m\u001b[43merrors\u001b[49m\u001b[43m)\u001b[49m\n\u001b[1;32m    582\u001b[0m new_values \u001b[38;5;241m=\u001b[39m maybe_coerce_values(new_values)\n\u001b[1;32m    583\u001b[0m newb \u001b[38;5;241m=\u001b[39m \u001b[38;5;28mself\u001b[39m\u001b[38;5;241m.\u001b[39mmake_block(new_values)\n",
      "File \u001b[0;32m~/miniconda3/lib/python3.8/site-packages/pandas/core/dtypes/cast.py:1292\u001b[0m, in \u001b[0;36mastype_array_safe\u001b[0;34m(values, dtype, copy, errors)\u001b[0m\n\u001b[1;32m   1289\u001b[0m     dtype \u001b[38;5;241m=\u001b[39m dtype\u001b[38;5;241m.\u001b[39mnumpy_dtype\n\u001b[1;32m   1291\u001b[0m \u001b[38;5;28;01mtry\u001b[39;00m:\n\u001b[0;32m-> 1292\u001b[0m     new_values \u001b[38;5;241m=\u001b[39m \u001b[43mastype_array\u001b[49m\u001b[43m(\u001b[49m\u001b[43mvalues\u001b[49m\u001b[43m,\u001b[49m\u001b[43m \u001b[49m\u001b[43mdtype\u001b[49m\u001b[43m,\u001b[49m\u001b[43m \u001b[49m\u001b[43mcopy\u001b[49m\u001b[38;5;241;43m=\u001b[39;49m\u001b[43mcopy\u001b[49m\u001b[43m)\u001b[49m\n\u001b[1;32m   1293\u001b[0m \u001b[38;5;28;01mexcept\u001b[39;00m (\u001b[38;5;167;01mValueError\u001b[39;00m, \u001b[38;5;167;01mTypeError\u001b[39;00m):\n\u001b[1;32m   1294\u001b[0m     \u001b[38;5;66;03m# e.g. astype_nansafe can fail on object-dtype of strings\u001b[39;00m\n\u001b[1;32m   1295\u001b[0m     \u001b[38;5;66;03m#  trying to convert to float\u001b[39;00m\n\u001b[1;32m   1296\u001b[0m     \u001b[38;5;28;01mif\u001b[39;00m errors \u001b[38;5;241m==\u001b[39m \u001b[38;5;124m\"\u001b[39m\u001b[38;5;124mignore\u001b[39m\u001b[38;5;124m\"\u001b[39m:\n",
      "File \u001b[0;32m~/miniconda3/lib/python3.8/site-packages/pandas/core/dtypes/cast.py:1237\u001b[0m, in \u001b[0;36mastype_array\u001b[0;34m(values, dtype, copy)\u001b[0m\n\u001b[1;32m   1234\u001b[0m     values \u001b[38;5;241m=\u001b[39m values\u001b[38;5;241m.\u001b[39mastype(dtype, copy\u001b[38;5;241m=\u001b[39mcopy)\n\u001b[1;32m   1236\u001b[0m \u001b[38;5;28;01melse\u001b[39;00m:\n\u001b[0;32m-> 1237\u001b[0m     values \u001b[38;5;241m=\u001b[39m \u001b[43mastype_nansafe\u001b[49m\u001b[43m(\u001b[49m\u001b[43mvalues\u001b[49m\u001b[43m,\u001b[49m\u001b[43m \u001b[49m\u001b[43mdtype\u001b[49m\u001b[43m,\u001b[49m\u001b[43m \u001b[49m\u001b[43mcopy\u001b[49m\u001b[38;5;241;43m=\u001b[39;49m\u001b[43mcopy\u001b[49m\u001b[43m)\u001b[49m\n\u001b[1;32m   1239\u001b[0m \u001b[38;5;66;03m# in pandas we don't store numpy str dtypes, so convert to object\u001b[39;00m\n\u001b[1;32m   1240\u001b[0m \u001b[38;5;28;01mif\u001b[39;00m \u001b[38;5;28misinstance\u001b[39m(dtype, np\u001b[38;5;241m.\u001b[39mdtype) \u001b[38;5;129;01mand\u001b[39;00m \u001b[38;5;28missubclass\u001b[39m(values\u001b[38;5;241m.\u001b[39mdtype\u001b[38;5;241m.\u001b[39mtype, \u001b[38;5;28mstr\u001b[39m):\n",
      "File \u001b[0;32m~/miniconda3/lib/python3.8/site-packages/pandas/core/dtypes/cast.py:1098\u001b[0m, in \u001b[0;36mastype_nansafe\u001b[0;34m(arr, dtype, copy, skipna)\u001b[0m\n\u001b[1;32m   1096\u001b[0m \u001b[38;5;28;01mif\u001b[39;00m arr\u001b[38;5;241m.\u001b[39mndim \u001b[38;5;241m>\u001b[39m \u001b[38;5;241m1\u001b[39m:\n\u001b[1;32m   1097\u001b[0m     flat \u001b[38;5;241m=\u001b[39m arr\u001b[38;5;241m.\u001b[39mravel()\n\u001b[0;32m-> 1098\u001b[0m     result \u001b[38;5;241m=\u001b[39m \u001b[43mastype_nansafe\u001b[49m\u001b[43m(\u001b[49m\u001b[43mflat\u001b[49m\u001b[43m,\u001b[49m\u001b[43m \u001b[49m\u001b[43mdtype\u001b[49m\u001b[43m,\u001b[49m\u001b[43m \u001b[49m\u001b[43mcopy\u001b[49m\u001b[38;5;241;43m=\u001b[39;49m\u001b[43mcopy\u001b[49m\u001b[43m,\u001b[49m\u001b[43m \u001b[49m\u001b[43mskipna\u001b[49m\u001b[38;5;241;43m=\u001b[39;49m\u001b[43mskipna\u001b[49m\u001b[43m)\u001b[49m\n\u001b[1;32m   1099\u001b[0m     \u001b[38;5;66;03m# error: Item \"ExtensionArray\" of \"Union[ExtensionArray, ndarray]\" has no\u001b[39;00m\n\u001b[1;32m   1100\u001b[0m     \u001b[38;5;66;03m# attribute \"reshape\"\u001b[39;00m\n\u001b[1;32m   1101\u001b[0m     \u001b[38;5;28;01mreturn\u001b[39;00m result\u001b[38;5;241m.\u001b[39mreshape(arr\u001b[38;5;241m.\u001b[39mshape)  \u001b[38;5;66;03m# type: ignore[union-attr]\u001b[39;00m\n",
      "File \u001b[0;32m~/miniconda3/lib/python3.8/site-packages/pandas/core/dtypes/cast.py:1181\u001b[0m, in \u001b[0;36mastype_nansafe\u001b[0;34m(arr, dtype, copy, skipna)\u001b[0m\n\u001b[1;32m   1177\u001b[0m     \u001b[38;5;28;01mraise\u001b[39;00m \u001b[38;5;167;01mValueError\u001b[39;00m(msg)\n\u001b[1;32m   1179\u001b[0m \u001b[38;5;28;01mif\u001b[39;00m copy \u001b[38;5;129;01mor\u001b[39;00m is_object_dtype(arr\u001b[38;5;241m.\u001b[39mdtype) \u001b[38;5;129;01mor\u001b[39;00m is_object_dtype(dtype):\n\u001b[1;32m   1180\u001b[0m     \u001b[38;5;66;03m# Explicit copy, or required since NumPy can't view from / to object.\u001b[39;00m\n\u001b[0;32m-> 1181\u001b[0m     \u001b[38;5;28;01mreturn\u001b[39;00m \u001b[43marr\u001b[49m\u001b[38;5;241;43m.\u001b[39;49m\u001b[43mastype\u001b[49m\u001b[43m(\u001b[49m\u001b[43mdtype\u001b[49m\u001b[43m,\u001b[49m\u001b[43m \u001b[49m\u001b[43mcopy\u001b[49m\u001b[38;5;241;43m=\u001b[39;49m\u001b[38;5;28;43;01mTrue\u001b[39;49;00m\u001b[43m)\u001b[49m\n\u001b[1;32m   1183\u001b[0m \u001b[38;5;28;01mreturn\u001b[39;00m arr\u001b[38;5;241m.\u001b[39mastype(dtype, copy\u001b[38;5;241m=\u001b[39mcopy)\n",
      "\u001b[0;31mValueError\u001b[0m: could not convert string to float: 'train'"
     ]
    },
    {
     "name": "stdout",
     "output_type": "stream",
     "text": [
      "\r"
     ]
    }
   ],
   "source": [
    "df.astype(dtype='float')"
   ]
  },
  {
   "cell_type": "code",
   "execution_count": 11,
   "metadata": {},
   "outputs": [
    {
     "ename": "MemoryError",
     "evalue": "Unable to allocate 1.56 GiB for an array with shape (1050, 200000) and data type float64",
     "output_type": "error",
     "traceback": [
      "\u001b[0;31m---------------------------------------------------------------------------\u001b[0m",
      "\u001b[0;31mMemoryError\u001b[0m                               Traceback (most recent call last)",
      "Input \u001b[0;32mIn [11]\u001b[0m, in \u001b[0;36m<cell line: 3>\u001b[0;34m()\u001b[0m\n\u001b[1;32m      1\u001b[0m X \u001b[38;5;241m=\u001b[39m df_r[features]\n\u001b[1;32m      2\u001b[0m \u001b[38;5;66;03m# calculate the correlation matrix\u001b[39;00m\n\u001b[0;32m----> 3\u001b[0m corr \u001b[38;5;241m=\u001b[39m \u001b[43mX\u001b[49m\u001b[38;5;241;43m.\u001b[39;49m\u001b[43mcorr\u001b[49m\u001b[43m(\u001b[49m\u001b[43m)\u001b[49m\n\u001b[1;32m      4\u001b[0m \u001b[38;5;66;03m# plot set-up\u001b[39;00m\n\u001b[1;32m      5\u001b[0m sns\u001b[38;5;241m.\u001b[39mset_style(\u001b[38;5;124m'\u001b[39m\u001b[38;5;124mticks\u001b[39m\u001b[38;5;124m'\u001b[39m)\n",
      "File \u001b[0;32m~/miniconda3/lib/python3.8/site-packages/pandas/core/frame.py:9525\u001b[0m, in \u001b[0;36mDataFrame.corr\u001b[0;34m(self, method, min_periods)\u001b[0m\n\u001b[1;32m   9523\u001b[0m cols \u001b[38;5;241m=\u001b[39m numeric_df\u001b[38;5;241m.\u001b[39mcolumns\n\u001b[1;32m   9524\u001b[0m idx \u001b[38;5;241m=\u001b[39m cols\u001b[38;5;241m.\u001b[39mcopy()\n\u001b[0;32m-> 9525\u001b[0m mat \u001b[38;5;241m=\u001b[39m \u001b[43mnumeric_df\u001b[49m\u001b[38;5;241;43m.\u001b[39;49m\u001b[43mto_numpy\u001b[49m\u001b[43m(\u001b[49m\u001b[43mdtype\u001b[49m\u001b[38;5;241;43m=\u001b[39;49m\u001b[38;5;28;43mfloat\u001b[39;49m\u001b[43m,\u001b[49m\u001b[43m \u001b[49m\u001b[43mna_value\u001b[49m\u001b[38;5;241;43m=\u001b[39;49m\u001b[43mnp\u001b[49m\u001b[38;5;241;43m.\u001b[39;49m\u001b[43mnan\u001b[49m\u001b[43m,\u001b[49m\u001b[43m \u001b[49m\u001b[43mcopy\u001b[49m\u001b[38;5;241;43m=\u001b[39;49m\u001b[38;5;28;43;01mFalse\u001b[39;49;00m\u001b[43m)\u001b[49m\n\u001b[1;32m   9527\u001b[0m \u001b[38;5;28;01mif\u001b[39;00m method \u001b[38;5;241m==\u001b[39m \u001b[38;5;124m\"\u001b[39m\u001b[38;5;124mpearson\u001b[39m\u001b[38;5;124m\"\u001b[39m:\n\u001b[1;32m   9528\u001b[0m     correl \u001b[38;5;241m=\u001b[39m libalgos\u001b[38;5;241m.\u001b[39mnancorr(mat, minp\u001b[38;5;241m=\u001b[39mmin_periods)\n",
      "File \u001b[0;32m~/miniconda3/lib/python3.8/site-packages/pandas/core/frame.py:1756\u001b[0m, in \u001b[0;36mDataFrame.to_numpy\u001b[0;34m(self, dtype, copy, na_value)\u001b[0m\n\u001b[1;32m   1754\u001b[0m \u001b[38;5;28;01mif\u001b[39;00m dtype \u001b[38;5;129;01mis\u001b[39;00m \u001b[38;5;129;01mnot\u001b[39;00m \u001b[38;5;28;01mNone\u001b[39;00m:\n\u001b[1;32m   1755\u001b[0m     dtype \u001b[38;5;241m=\u001b[39m np\u001b[38;5;241m.\u001b[39mdtype(dtype)\n\u001b[0;32m-> 1756\u001b[0m result \u001b[38;5;241m=\u001b[39m \u001b[38;5;28;43mself\u001b[39;49m\u001b[38;5;241;43m.\u001b[39;49m\u001b[43m_mgr\u001b[49m\u001b[38;5;241;43m.\u001b[39;49m\u001b[43mas_array\u001b[49m\u001b[43m(\u001b[49m\u001b[43mdtype\u001b[49m\u001b[38;5;241;43m=\u001b[39;49m\u001b[43mdtype\u001b[49m\u001b[43m,\u001b[49m\u001b[43m \u001b[49m\u001b[43mcopy\u001b[49m\u001b[38;5;241;43m=\u001b[39;49m\u001b[43mcopy\u001b[49m\u001b[43m,\u001b[49m\u001b[43m \u001b[49m\u001b[43mna_value\u001b[49m\u001b[38;5;241;43m=\u001b[39;49m\u001b[43mna_value\u001b[49m\u001b[43m)\u001b[49m\n\u001b[1;32m   1757\u001b[0m \u001b[38;5;28;01mif\u001b[39;00m result\u001b[38;5;241m.\u001b[39mdtype \u001b[38;5;129;01mis\u001b[39;00m \u001b[38;5;129;01mnot\u001b[39;00m dtype:\n\u001b[1;32m   1758\u001b[0m     result \u001b[38;5;241m=\u001b[39m np\u001b[38;5;241m.\u001b[39marray(result, dtype\u001b[38;5;241m=\u001b[39mdtype, copy\u001b[38;5;241m=\u001b[39m\u001b[38;5;28;01mFalse\u001b[39;00m)\n",
      "File \u001b[0;32m~/miniconda3/lib/python3.8/site-packages/pandas/core/internals/managers.py:1594\u001b[0m, in \u001b[0;36mBlockManager.as_array\u001b[0;34m(self, dtype, copy, na_value)\u001b[0m\n\u001b[1;32m   1591\u001b[0m     copy \u001b[38;5;241m=\u001b[39m \u001b[38;5;28;01mFalse\u001b[39;00m\n\u001b[1;32m   1593\u001b[0m \u001b[38;5;28;01mif\u001b[39;00m copy:\n\u001b[0;32m-> 1594\u001b[0m     arr \u001b[38;5;241m=\u001b[39m \u001b[43marr\u001b[49m\u001b[38;5;241;43m.\u001b[39;49m\u001b[43mcopy\u001b[49m\u001b[43m(\u001b[49m\u001b[43m)\u001b[49m\n\u001b[1;32m   1596\u001b[0m \u001b[38;5;28;01mif\u001b[39;00m na_value \u001b[38;5;129;01mis\u001b[39;00m \u001b[38;5;129;01mnot\u001b[39;00m lib\u001b[38;5;241m.\u001b[39mno_default:\n\u001b[1;32m   1597\u001b[0m     arr[isna(arr)] \u001b[38;5;241m=\u001b[39m na_value\n",
      "\u001b[0;31mMemoryError\u001b[0m: Unable to allocate 1.56 GiB for an array with shape (1050, 200000) and data type float64"
     ]
    },
    {
     "name": "stdout",
     "output_type": "stream",
     "text": [
      "\r"
     ]
    }
   ],
   "source": [
    "\n",
    "X = df_r[features]\n",
    "# calculate the correlation matrix\n",
    "corr = X.corr()\n",
    "# plot set-up\n",
    "sns.set_style('ticks')\n",
    "fig, ax = plt.subplots()\n",
    "# the size of A4 paper\n",
    "fig.set_size_inches(11.7, 8.27)\n",
    "\n",
    "# plot the heatmap\n",
    "sns.heatmap(corr)"
   ]
  },
  {
   "cell_type": "markdown",
   "metadata": {},
   "source": [
    "### The correlation can change over time\n",
    "You can see this by comparing feature correlations on the first half and second half on the training set"
   ]
  },
  {
   "cell_type": "code",
   "execution_count": 29,
   "metadata": {},
   "outputs": [
    {
     "name": "stdout",
     "output_type": "stream",
     "text": [
      "\r"
     ]
    }
   ],
   "source": [
    "df1 = df[eras<=eras.median()]\n",
    "df2 = df[eras>eras.median()]"
   ]
  },
  {
   "cell_type": "code",
   "execution_count": 30,
   "metadata": {},
   "outputs": [
    {
     "name": "stdout",
     "output_type": "stream",
     "text": [
      "\r"
     ]
    }
   ],
   "source": [
    "corr1 = df1[df1.era=='0001'][features].corr().unstack()\n",
    "corr1 = corr1[corr1.index.get_level_values(0) < corr1.index.get_level_values(1)]"
   ]
  },
  {
   "cell_type": "code",
   "execution_count": 31,
   "metadata": {},
   "outputs": [
    {
     "name": "stdout",
     "output_type": "stream",
     "text": [
      "\r"
     ]
    }
   ],
   "source": [
    "corr2 = df2[df2.era=='0574'][features].corr().unstack()\n",
    "corr2 = corr2[corr2.index.get_level_values(0) < corr2.index.get_level_values(1)]"
   ]
  },
  {
   "cell_type": "code",
   "execution_count": 32,
   "metadata": {},
   "outputs": [
    {
     "data": {
      "text/html": [
       "<div>\n",
       "<style scoped>\n",
       "    .dataframe tbody tr th:only-of-type {\n",
       "        vertical-align: middle;\n",
       "    }\n",
       "\n",
       "    .dataframe tbody tr th {\n",
       "        vertical-align: top;\n",
       "    }\n",
       "\n",
       "    .dataframe thead th {\n",
       "        text-align: right;\n",
       "    }\n",
       "</style>\n",
       "<table border=\"1\" class=\"dataframe\">\n",
       "  <thead>\n",
       "    <tr style=\"text-align: right;\">\n",
       "      <th></th>\n",
       "      <th></th>\n",
       "      <th>corr1</th>\n",
       "      <th>corr2</th>\n",
       "      <th>corr_diff</th>\n",
       "    </tr>\n",
       "  </thead>\n",
       "  <tbody>\n",
       "    <tr>\n",
       "      <th>feature_brushed_psychiatrical_lubbock</th>\n",
       "      <th>feature_savory_engrained_undervest</th>\n",
       "      <td>1.000000</td>\n",
       "      <td>-0.159888</td>\n",
       "      <td>-1.159888</td>\n",
       "    </tr>\n",
       "    <tr>\n",
       "      <th>feature_interpenetrative_enabling_elm</th>\n",
       "      <th>feature_savory_engrained_undervest</th>\n",
       "      <td>1.000000</td>\n",
       "      <td>-0.159262</td>\n",
       "      <td>-1.159262</td>\n",
       "    </tr>\n",
       "    <tr>\n",
       "      <th>feature_horizontal_snug_description</th>\n",
       "      <th>feature_savory_engrained_undervest</th>\n",
       "      <td>1.000000</td>\n",
       "      <td>-0.158691</td>\n",
       "      <td>-1.158691</td>\n",
       "    </tr>\n",
       "    <tr>\n",
       "      <th>feature_abstersive_emotional_misinterpreter</th>\n",
       "      <th>feature_horizontal_snug_description</th>\n",
       "      <td>1.000000</td>\n",
       "      <td>-0.156998</td>\n",
       "      <td>-1.156998</td>\n",
       "    </tr>\n",
       "    <tr>\n",
       "      <th>feature_opposable_argumentative_mesoblast</th>\n",
       "      <th>feature_savory_engrained_undervest</th>\n",
       "      <td>1.000000</td>\n",
       "      <td>-0.156654</td>\n",
       "      <td>-1.156654</td>\n",
       "    </tr>\n",
       "    <tr>\n",
       "      <th>...</th>\n",
       "      <th>...</th>\n",
       "      <td>...</td>\n",
       "      <td>...</td>\n",
       "      <td>...</td>\n",
       "    </tr>\n",
       "    <tr>\n",
       "      <th>feature_descendent_decanal_hon</th>\n",
       "      <th>feature_petitionary_evanescent_diallage</th>\n",
       "      <td>0.128122</td>\n",
       "      <td>0.944659</td>\n",
       "      <td>0.816537</td>\n",
       "    </tr>\n",
       "    <tr>\n",
       "      <th>feature_indirect_concrete_canaille</th>\n",
       "      <th>feature_juvenalian_paunchy_uniformitarianism</th>\n",
       "      <td>-0.098432</td>\n",
       "      <td>0.727993</td>\n",
       "      <td>0.826425</td>\n",
       "    </tr>\n",
       "    <tr>\n",
       "      <th>feature_draconic_contractible_romper</th>\n",
       "      <th>feature_indirect_concrete_canaille</th>\n",
       "      <td>-0.098432</td>\n",
       "      <td>0.737243</td>\n",
       "      <td>0.835675</td>\n",
       "    </tr>\n",
       "    <tr>\n",
       "      <th>feature_bleeding_arabesque_pneuma</th>\n",
       "      <th>feature_instrumentalist_extrovert_cassini</th>\n",
       "      <td>-0.135409</td>\n",
       "      <td>0.720442</td>\n",
       "      <td>0.855851</td>\n",
       "    </tr>\n",
       "    <tr>\n",
       "      <th>feature_juvenalian_paunchy_uniformitarianism</th>\n",
       "      <th>feature_lipogrammatic_blowsier_seismometry</th>\n",
       "      <td>-0.089265</td>\n",
       "      <td>0.783615</td>\n",
       "      <td>0.872879</td>\n",
       "    </tr>\n",
       "  </tbody>\n",
       "</table>\n",
       "<p>550725 rows × 3 columns</p>\n",
       "</div>"
      ],
      "text/plain": [
       "                                                                                              corr1  \\\n",
       "feature_brushed_psychiatrical_lubbock        feature_savory_engrained_undervest            1.000000   \n",
       "feature_interpenetrative_enabling_elm        feature_savory_engrained_undervest            1.000000   \n",
       "feature_horizontal_snug_description          feature_savory_engrained_undervest            1.000000   \n",
       "feature_abstersive_emotional_misinterpreter  feature_horizontal_snug_description           1.000000   \n",
       "feature_opposable_argumentative_mesoblast    feature_savory_engrained_undervest            1.000000   \n",
       "...                                                                                             ...   \n",
       "feature_descendent_decanal_hon               feature_petitionary_evanescent_diallage       0.128122   \n",
       "feature_indirect_concrete_canaille           feature_juvenalian_paunchy_uniformitarianism -0.098432   \n",
       "feature_draconic_contractible_romper         feature_indirect_concrete_canaille           -0.098432   \n",
       "feature_bleeding_arabesque_pneuma            feature_instrumentalist_extrovert_cassini    -0.135409   \n",
       "feature_juvenalian_paunchy_uniformitarianism feature_lipogrammatic_blowsier_seismometry   -0.089265   \n",
       "\n",
       "                                                                                              corr2  \\\n",
       "feature_brushed_psychiatrical_lubbock        feature_savory_engrained_undervest           -0.159888   \n",
       "feature_interpenetrative_enabling_elm        feature_savory_engrained_undervest           -0.159262   \n",
       "feature_horizontal_snug_description          feature_savory_engrained_undervest           -0.158691   \n",
       "feature_abstersive_emotional_misinterpreter  feature_horizontal_snug_description          -0.156998   \n",
       "feature_opposable_argumentative_mesoblast    feature_savory_engrained_undervest           -0.156654   \n",
       "...                                                                                             ...   \n",
       "feature_descendent_decanal_hon               feature_petitionary_evanescent_diallage       0.944659   \n",
       "feature_indirect_concrete_canaille           feature_juvenalian_paunchy_uniformitarianism  0.727993   \n",
       "feature_draconic_contractible_romper         feature_indirect_concrete_canaille            0.737243   \n",
       "feature_bleeding_arabesque_pneuma            feature_instrumentalist_extrovert_cassini     0.720442   \n",
       "feature_juvenalian_paunchy_uniformitarianism feature_lipogrammatic_blowsier_seismometry    0.783615   \n",
       "\n",
       "                                                                                           corr_diff  \n",
       "feature_brushed_psychiatrical_lubbock        feature_savory_engrained_undervest            -1.159888  \n",
       "feature_interpenetrative_enabling_elm        feature_savory_engrained_undervest            -1.159262  \n",
       "feature_horizontal_snug_description          feature_savory_engrained_undervest            -1.158691  \n",
       "feature_abstersive_emotional_misinterpreter  feature_horizontal_snug_description           -1.156998  \n",
       "feature_opposable_argumentative_mesoblast    feature_savory_engrained_undervest            -1.156654  \n",
       "...                                                                                              ...  \n",
       "feature_descendent_decanal_hon               feature_petitionary_evanescent_diallage        0.816537  \n",
       "feature_indirect_concrete_canaille           feature_juvenalian_paunchy_uniformitarianism   0.826425  \n",
       "feature_draconic_contractible_romper         feature_indirect_concrete_canaille             0.835675  \n",
       "feature_bleeding_arabesque_pneuma            feature_instrumentalist_extrovert_cassini      0.855851  \n",
       "feature_juvenalian_paunchy_uniformitarianism feature_lipogrammatic_blowsier_seismometry     0.872879  \n",
       "\n",
       "[550725 rows x 3 columns]"
      ]
     },
     "execution_count": 32,
     "metadata": {},
     "output_type": "execute_result"
    },
    {
     "name": "stdout",
     "output_type": "stream",
     "text": [
      "\r"
     ]
    }
   ],
   "source": [
    "tdf = pd.DataFrame({\n",
    "    \"corr1\": corr1,\n",
    "    \"corr2\": corr2,\n",
    "})\n",
    "tdf[\"corr_diff\"] = tdf.corr2 - tdf.corr1\n",
    "tdf.sort_values(by=\"corr_diff\")"
   ]
  },
  {
   "cell_type": "markdown",
   "metadata": {},
   "source": [
    "## Some features are predictive on their own"
   ]
  },
  {
   "cell_type": "code",
   "execution_count": 14,
   "metadata": {},
   "outputs": [
    {
     "name": "stdout",
     "output_type": "stream",
     "text": [
      "\r"
     ]
    }
   ],
   "source": [
    "feature_scores = {feature: score for feature, score in zip(features, np.corrcoef(df_r[df_r.era=='0001'][[target]+features].T)[1:,0])}"
   ]
  },
  {
   "cell_type": "code",
   "execution_count": 15,
   "metadata": {},
   "outputs": [
    {
     "data": {
      "text/plain": [
       "feature_voltairean_consolidative_parallel   -0.155090\n",
       "feature_septicemic_telangiectatic_flake     -0.139367\n",
       "feature_armoured_finable_skywriter          -0.139324\n",
       "feature_literate_treacly_altercation        -0.125702\n",
       "feature_tittering_virgilian_decliner        -0.117656\n",
       "                                               ...   \n",
       "feature_cheering_protonemal_herd             0.111927\n",
       "feature_aggrieved_rammish_tommy              0.118310\n",
       "feature_flavourful_seismic_erica             0.123199\n",
       "feature_axillary_reluctant_shorty            0.134004\n",
       "feature_submediant_serbonian_rangefinder     0.143034\n",
       "Length: 1050, dtype: float64"
      ]
     },
     "execution_count": 15,
     "metadata": {},
     "output_type": "execute_result"
    },
    {
     "name": "stdout",
     "output_type": "stream",
     "text": [
      "\r"
     ]
    }
   ],
   "source": [
    "pd.Series(feature_scores).sort_values()"
   ]
  },
  {
   "cell_type": "code",
   "execution_count": 16,
   "metadata": {},
   "outputs": [
    {
     "data": {
      "text/plain": [
       "<AxesSubplot:>"
      ]
     },
     "execution_count": 16,
     "metadata": {},
     "output_type": "execute_result"
    },
    {
     "data": {
      "image/png": "[encoded data removed]",
      "text/plain": [
       "<Figure size 432x288 with 1 Axes>"
      ]
     },
     "metadata": {
      "needs_background": "light"
     },
     "output_type": "display_data"
    },
    {
     "name": "stdout",
     "output_type": "stream",
     "text": [
      "\r"
     ]
    }
   ],
   "source": [
    "# Single features do not work consistently though\n",
    "by_era_correlation = pd.Series({\n",
    "    era: np.corrcoef(tdf[target], tdf[\"feature_grandmotherly_circumnavigable_homonymity\"])[0,1]\n",
    "    for era, tdf in df.groupby(eras)\n",
    "})\n",
    "by_era_correlation.plot()"
   ]
  },
  {
   "cell_type": "code",
   "execution_count": 21,
   "metadata": {},
   "outputs": [
    {
     "data": {
      "text/plain": [
       "<AxesSubplot:>"
      ]
     },
     "execution_count": 21,
     "metadata": {},
     "output_type": "execute_result"
    },
    {
     "data": {
      "image/png": "[encoded data removed]",
      "text/plain": [
       "<Figure size 432x288 with 1 Axes>"
      ]
     },
     "metadata": {
      "needs_background": "light"
     },
     "output_type": "display_data"
    }
   ],
   "source": [
    "# With a rolling 10 era average you can see some trends\n",
    "by_era_correlation.rolling(10).mean().plot()"
   ]
  },
  {
   "cell_type": "markdown",
   "metadata": {},
   "source": [
    "## The feature exposures of different targets can be very different, even orthogonal"
   ]
  },
  {
   "cell_type": "code",
   "execution_count": 17,
   "metadata": {},
   "outputs": [
    {
     "name": "stdout",
     "output_type": "stream",
     "text": [
      "\r"
     ]
    }
   ],
   "source": [
    "feature_scores_nomi20 = {feature: score for feature, score in zip(features, np.corrcoef(df_r[df_r.era=='0001'][['target_nomi_20']+features].T)[1:,0])}"
   ]
  },
  {
   "cell_type": "code",
   "execution_count": 18,
   "metadata": {},
   "outputs": [
    {
     "name": "stdout",
     "output_type": "stream",
     "text": [
      "\r"
     ]
    }
   ],
   "source": [
    "feature_scores_nomi60 = {feature: score for feature, score in zip(features, np.corrcoef(df_r[df_r.era=='0001'][['target_nomi_60']+features].fillna(0.5).T)[1:,0])}"
   ]
  },
  {
   "cell_type": "code",
   "execution_count": 22,
   "metadata": {},
   "outputs": [
    {
     "name": "stdout",
     "output_type": "stream",
     "text": [
      "0.5211320866734157\n"
     ]
    },
    {
     "data": {
      "image/png": "[encoded data removed]",
      "text/plain": [
       "<Figure size 432x288 with 1 Axes>"
      ]
     },
     "metadata": {
      "needs_background": "light"
     },
     "output_type": "display_data"
    },
    {
     "name": "stdout",
     "output_type": "stream",
     "text": [
      "\r"
     ]
    }
   ],
   "source": [
    "plt.scatter(feature_scores_nomi20.values(), feature_scores_nomi60.values())\n",
    "print(np.corrcoef(list(feature_scores_nomi20.values()), list(feature_scores_nomi60.values()))[0,1])"
   ]
  },
  {
   "cell_type": "code",
   "execution_count": 19,
   "metadata": {},
   "outputs": [
    {
     "name": "stdout",
     "output_type": "stream",
     "text": [
      "\r"
     ]
    }
   ],
   "source": [
    "feature_scores_jerome = {feature: score for feature, score in zip(features, np.corrcoef(df_r[df_r.era=='0001'][['target_jerome_20']+features].T)[1:,0])}"
   ]
  },
  {
   "cell_type": "code",
   "execution_count": 20,
   "metadata": {},
   "outputs": [
    {
     "name": "stdout",
     "output_type": "stream",
     "text": [
      "\r"
     ]
    }
   ],
   "source": [
    "feature_scores_janet = {feature: score for feature, score in zip(features, np.corrcoef(df_r[df_r.era=='0001'][['target_janet_20']+features].T)[1:,0])}"
   ]
  },
  {
   "cell_type": "code",
   "execution_count": 26,
   "metadata": {},
   "outputs": [
    {
     "name": "stdout",
     "output_type": "stream",
     "text": [
      "0.1510121049141406\n"
     ]
    },
    {
     "data": {
      "image/png": "[encoded data removed]",
      "text/plain": [
       "<Figure size 432x288 with 1 Axes>"
      ]
     },
     "metadata": {
      "needs_background": "light"
     },
     "output_type": "display_data"
    },
    {
     "name": "stdout",
     "output_type": "stream",
     "text": [
      "\r"
     ]
    }
   ],
   "source": [
    "plt.scatter(feature_scores_jerome.values(), feature_scores_janet.values())\n",
    "print(np.corrcoef(list(feature_scores_jerome.values()), list(feature_scores_janet.values()))[0,1])"
   ]
  },
  {
   "cell_type": "markdown",
   "metadata": {},
   "source": [
    "# Gotcha: MSE looks worse than correlation out of sample\n",
    "Models will generally be overconfident, so even if they are good at ranking rows, the Mean-Squared-Error of the residuals could be larger than even the Mean-Squared-Error of the target (r-squared<0)"
   ]
  },
  {
   "cell_type": "code",
   "execution_count": 21,
   "metadata": {},
   "outputs": [
    {
     "name": "stdout",
     "output_type": "stream",
     "text": [
      "\r"
     ]
    }
   ],
   "source": [
    "df1 = df_r[eras<=eras.median()]\n",
    "df2 = df_r[eras>eras.median()]"
   ]
  },
  {
   "cell_type": "code",
   "execution_count": 22,
   "metadata": {},
   "outputs": [
    {
     "data": {
      "text/plain": [
       "LinearRegression()"
      ]
     },
     "execution_count": 22,
     "metadata": {},
     "output_type": "execute_result"
    },
    {
     "name": "stdout",
     "output_type": "stream",
     "text": [
      "\r"
     ]
    }
   ],
   "source": [
    "linear1 = linear_model.LinearRegression()\n",
    "linear1.fit(df1[features], df1[target])\n",
    "linear2 = linear_model.LinearRegression()\n",
    "linear2.fit(df2[features], df2[target])"
   ]
  },
  {
   "cell_type": "code",
   "execution_count": 29,
   "metadata": {},
   "outputs": [
    {
     "data": {
      "text/html": [
       "<div>\n",
       "<style scoped>\n",
       "    .dataframe tbody tr th:only-of-type {\n",
       "        vertical-align: middle;\n",
       "    }\n",
       "\n",
       "    .dataframe tbody tr th {\n",
       "        vertical-align: top;\n",
       "    }\n",
       "\n",
       "    .dataframe thead th {\n",
       "        text-align: right;\n",
       "    }\n",
       "</style>\n",
       "<table border=\"1\" class=\"dataframe\">\n",
       "  <thead>\n",
       "    <tr style=\"text-align: right;\">\n",
       "      <th></th>\n",
       "      <th>eval_on_1</th>\n",
       "      <th>eval_on_2</th>\n",
       "    </tr>\n",
       "  </thead>\n",
       "  <tbody>\n",
       "    <tr>\n",
       "      <th>train_on_1</th>\n",
       "      <td>0.010403</td>\n",
       "      <td>-0.004193</td>\n",
       "    </tr>\n",
       "    <tr>\n",
       "      <th>train_on_2</th>\n",
       "      <td>-0.004020</td>\n",
       "      <td>0.009701</td>\n",
       "    </tr>\n",
       "  </tbody>\n",
       "</table>\n",
       "</div>"
      ],
      "text/plain": [
       "            eval_on_1  eval_on_2\n",
       "train_on_1   0.010403  -0.004193\n",
       "train_on_2  -0.004020   0.009701"
      ]
     },
     "execution_count": 29,
     "metadata": {},
     "output_type": "execute_result"
    },
    {
     "name": "stdout",
     "output_type": "stream",
     "text": [
      "\r"
     ]
    }
   ],
   "source": [
    "# Note in particular that the R-squared of (train_on_1, eval_on_2) is slightly negative!\n",
    "r2 = [\n",
    "    [\n",
    "        model.score(dfX[features], dfX[target])\n",
    "        for dfX in [df1, df2]\n",
    "    ]\n",
    "    for model in [linear1, linear2]\n",
    "]\n",
    "pd.DataFrame(r2, columns=[\"eval_on_1\", \"eval_on_2\"], index=[\"train_on_1\", \"train_on_2\"])"
   ]
  },
  {
   "cell_type": "code",
   "execution_count": 30,
   "metadata": {},
   "outputs": [
    {
     "data": {
      "text/html": [
       "<div>\n",
       "<style scoped>\n",
       "    .dataframe tbody tr th:only-of-type {\n",
       "        vertical-align: middle;\n",
       "    }\n",
       "\n",
       "    .dataframe tbody tr th {\n",
       "        vertical-align: top;\n",
       "    }\n",
       "\n",
       "    .dataframe thead th {\n",
       "        text-align: right;\n",
       "    }\n",
       "</style>\n",
       "<table border=\"1\" class=\"dataframe\">\n",
       "  <thead>\n",
       "    <tr style=\"text-align: right;\">\n",
       "      <th></th>\n",
       "      <th>eval_on_1</th>\n",
       "      <th>eval_on_2</th>\n",
       "    </tr>\n",
       "  </thead>\n",
       "  <tbody>\n",
       "    <tr>\n",
       "      <th>train_on_1</th>\n",
       "      <td>0.098994</td>\n",
       "      <td>0.029206</td>\n",
       "    </tr>\n",
       "    <tr>\n",
       "      <th>train_on_2</th>\n",
       "      <td>0.031705</td>\n",
       "      <td>0.094462</td>\n",
       "    </tr>\n",
       "  </tbody>\n",
       "</table>\n",
       "</div>"
      ],
      "text/plain": [
       "            eval_on_1  eval_on_2\n",
       "train_on_1   0.098994   0.029206\n",
       "train_on_2   0.031705   0.094462"
      ]
     },
     "execution_count": 30,
     "metadata": {},
     "output_type": "execute_result"
    },
    {
     "name": "stdout",
     "output_type": "stream",
     "text": [
      "\r"
     ]
    }
   ],
   "source": [
    "# Note in particular that the correlation of (train_on_1, eval_on_2) is quite decent\n",
    "corrs = [\n",
    "    [\n",
    "        numerai_score(dfX[target], pd.Series(model.predict(dfX[features]), index=dfX.index))\n",
    "        for dfX in [df1, df2]\n",
    "    ]\n",
    "    for model in [linear1, linear2]\n",
    "]\n",
    "pd.DataFrame(corrs, columns=[\"eval_on_1\", \"eval_on_2\"], index=[\"train_on_1\", \"train_on_2\"])"
   ]
  },
  {
   "cell_type": "code",
   "execution_count": 34,
   "metadata": {},
   "outputs": [
    {
     "name": "stdout",
     "output_type": "stream",
     "text": [
      "\r"
     ]
    }
   ],
   "source": [
    "# This can be be run with LightGBM as well"
   ]
  },
  {
   "cell_type": "code",
   "execution_count": 31,
   "metadata": {},
   "outputs": [
    {
     "data": {
      "text/plain": [
       "LGBMRegressor()"
      ]
     },
     "execution_count": 31,
     "metadata": {},
     "output_type": "execute_result"
    },
    {
     "name": "stdout",
     "output_type": "stream",
     "text": [
      "\r"
     ]
    }
   ],
   "source": [
    "lgb1 = lightgbm.LGBMRegressor()\n",
    "lgb1.fit(df1[features], df1[target])\n",
    "lgb2 = lightgbm.LGBMRegressor()\n",
    "lgb2.fit(df2[features], df2[target])"
   ]
  },
  {
   "cell_type": "code",
   "execution_count": 32,
   "metadata": {},
   "outputs": [
    {
     "data": {
      "text/html": [
       "<div>\n",
       "<style scoped>\n",
       "    .dataframe tbody tr th:only-of-type {\n",
       "        vertical-align: middle;\n",
       "    }\n",
       "\n",
       "    .dataframe tbody tr th {\n",
       "        vertical-align: top;\n",
       "    }\n",
       "\n",
       "    .dataframe thead th {\n",
       "        text-align: right;\n",
       "    }\n",
       "</style>\n",
       "<table border=\"1\" class=\"dataframe\">\n",
       "  <thead>\n",
       "    <tr style=\"text-align: right;\">\n",
       "      <th></th>\n",
       "      <th>eval_on_1</th>\n",
       "      <th>eval_on_2</th>\n",
       "    </tr>\n",
       "  </thead>\n",
       "  <tbody>\n",
       "    <tr>\n",
       "      <th>train_on_1</th>\n",
       "      <td>0.050527</td>\n",
       "      <td>-0.000202</td>\n",
       "    </tr>\n",
       "    <tr>\n",
       "      <th>train_on_2</th>\n",
       "      <td>-0.000043</td>\n",
       "      <td>0.052082</td>\n",
       "    </tr>\n",
       "  </tbody>\n",
       "</table>\n",
       "</div>"
      ],
      "text/plain": [
       "            eval_on_1  eval_on_2\n",
       "train_on_1   0.050527  -0.000202\n",
       "train_on_2  -0.000043   0.052082"
      ]
     },
     "execution_count": 32,
     "metadata": {},
     "output_type": "execute_result"
    },
    {
     "name": "stdout",
     "output_type": "stream",
     "text": [
      "\r"
     ]
    }
   ],
   "source": [
    "r2 = [\n",
    "    [\n",
    "        model.score(dfX[features], dfX[target])\n",
    "        for dfX in [df1, df2]\n",
    "    ]\n",
    "    for model in [lgb1, lgb2]\n",
    "]\n",
    "pd.DataFrame(r2, columns=[\"eval_on_1\", \"eval_on_2\"], index=[\"train_on_1\", \"train_on_2\"])"
   ]
  },
  {
   "cell_type": "code",
   "execution_count": 33,
   "metadata": {},
   "outputs": [
    {
     "data": {
      "text/html": [
       "<div>\n",
       "<style scoped>\n",
       "    .dataframe tbody tr th:only-of-type {\n",
       "        vertical-align: middle;\n",
       "    }\n",
       "\n",
       "    .dataframe tbody tr th {\n",
       "        vertical-align: top;\n",
       "    }\n",
       "\n",
       "    .dataframe thead th {\n",
       "        text-align: right;\n",
       "    }\n",
       "</style>\n",
       "<table border=\"1\" class=\"dataframe\">\n",
       "  <thead>\n",
       "    <tr style=\"text-align: right;\">\n",
       "      <th></th>\n",
       "      <th>eval_on_1</th>\n",
       "      <th>eval_on_2</th>\n",
       "    </tr>\n",
       "  </thead>\n",
       "  <tbody>\n",
       "    <tr>\n",
       "      <th>train_on_1</th>\n",
       "      <td>0.309456</td>\n",
       "      <td>0.034768</td>\n",
       "    </tr>\n",
       "    <tr>\n",
       "      <th>train_on_2</th>\n",
       "      <td>0.036272</td>\n",
       "      <td>0.311440</td>\n",
       "    </tr>\n",
       "  </tbody>\n",
       "</table>\n",
       "</div>"
      ],
      "text/plain": [
       "            eval_on_1  eval_on_2\n",
       "train_on_1   0.309456   0.034768\n",
       "train_on_2   0.036272   0.311440"
      ]
     },
     "execution_count": 33,
     "metadata": {},
     "output_type": "execute_result"
    },
    {
     "name": "stdout",
     "output_type": "stream",
     "text": [
      "\r"
     ]
    }
   ],
   "source": [
    "corrs = [\n",
    "    [\n",
    "        numerai_score(dfX[target], pd.Series(model.predict(dfX[features]), index=dfX.index))\n",
    "        for dfX in [df1, df2]\n",
    "    ]\n",
    "    for model in [lgb1, lgb2]\n",
    "]\n",
    "pd.DataFrame(corrs, columns=[\"eval_on_1\", \"eval_on_2\"], index=[\"train_on_1\", \"train_on_2\"])"
   ]
  },
  {
   "cell_type": "markdown",
   "metadata": {},
   "source": [
    "# Gotcha: Eras are now overlapping!\n",
    "\n",
    "Eras are weekly (5 days), but the target is four weeks out (20 days). You can subsample the eras (every 4th era) to prevent models from overfitting due to overlapping eras. You can then ensemble the models trained on each of the 4 different ways to subsample."
   ]
  },
  {
   "cell_type": "code",
   "execution_count": 23,
   "metadata": {},
   "outputs": [
    {
     "data": {
      "text/plain": [
       "LGBMRegressor()"
      ]
     },
     "execution_count": 23,
     "metadata": {},
     "output_type": "execute_result"
    },
    {
     "name": "stdout",
     "output_type": "stream",
     "text": [
      "\r"
     ]
    }
   ],
   "source": [
    "# train model on all eras in df1\n",
    "lgb_all = lightgbm.LGBMRegressor()\n",
    "lgb_all.fit(df1[features], df1[target])"
   ]
  },
  {
   "cell_type": "code",
   "execution_count": 45,
   "metadata": {},
   "outputs": [
    {
     "data": {
      "text/plain": [
       "['feature_dichasial_hammier_spawner',\n",
       " 'feature_rheumy_epistemic_prancer',\n",
       " 'feature_pert_performative_hormuz',\n",
       " 'feature_hillier_unpitied_theobromine',\n",
       " 'feature_perigean_bewitching_thruster',\n",
       " 'feature_renegade_undomestic_milord',\n",
       " 'feature_koranic_rude_corf',\n",
       " 'feature_demisable_expiring_millepede',\n",
       " 'feature_unscheduled_malignant_shingling',\n",
       " 'feature_clawed_unwept_adaptability',\n",
       " 'feature_rubblier_chlorotic_stogy',\n",
       " 'feature_untumbled_histologic_inion',\n",
       " 'feature_piffling_inflamed_jupiter',\n",
       " 'feature_abstersive_emotional_misinterpreter',\n",
       " 'feature_unluckiest_mulley_benzyl',\n",
       " 'feature_escutcheoned_timocratic_kotwal',\n",
       " 'feature_integrated_extroversive_ambivalence',\n",
       " 'feature_vedic_mitral_swiz',\n",
       " 'feature_reclaimed_fallibilist_turpentine',\n",
       " 'feature_gone_honduran_worshipper',\n",
       " 'feature_insociable_exultant_tatum',\n",
       " 'feature_outdated_tapered_speciation',\n",
       " 'feature_leggiest_slaggiest_inez',\n",
       " 'feature_chaldean_vixenly_propylite',\n",
       " 'feature_hysteric_mechanized_recklinghausen',\n",
       " 'feature_glare_factional_assessment',\n",
       " 'feature_highland_eocene_berean',\n",
       " 'feature_seemlier_reorient_monandry',\n",
       " 'feature_expressed_abhominable_pruning',\n",
       " 'feature_castrated_presented_quizzer',\n",
       " 'feature_restricted_aggregately_workmanship',\n",
       " 'feature_scorbutic_intellectualism_mongoloid',\n",
       " 'feature_telephonic_shakable_bollock',\n",
       " 'feature_subglobular_unsalable_patzer',\n",
       " 'feature_syrian_coital_counterproof',\n",
       " 'feature_supergene_legible_antarthritic',\n",
       " 'feature_hypothetic_distressing_endemic',\n",
       " 'feature_torturesome_estimable_preferrer',\n",
       " 'feature_greedier_favorable_enthymeme',\n",
       " 'feature_decent_solo_stickup',\n",
       " 'feature_unmalleable_resistant_kingston',\n",
       " 'feature_seamier_jansenism_inflator',\n",
       " 'feature_lordly_lamellicorn_buxtehude',\n",
       " 'feature_mattery_past_moro',\n",
       " 'feature_helpable_chanciest_fractionisation',\n",
       " 'feature_spookiest_expedite_overnighter',\n",
       " 'feature_culinary_pro_offering',\n",
       " 'feature_ganoid_osiered_mineralogy',\n",
       " 'feature_hotfoot_behaviorist_terylene',\n",
       " 'feature_severe_tricky_pinochle',\n",
       " 'feature_maximal_unobserving_desalinisation',\n",
       " 'feature_voltairean_consolidative_parallel',\n",
       " 'feature_unmoved_alt_spoonerism',\n",
       " 'feature_tittering_virgilian_decliner',\n",
       " 'feature_methylated_necrophilic_serendipity',\n",
       " 'feature_calceolate_pudgy_armure',\n",
       " 'feature_unsparing_moralistic_commissary',\n",
       " 'feature_criticisable_authentical_deprecation',\n",
       " 'feature_undetermined_idle_aftergrowth',\n",
       " 'feature_antipathetical_terrorful_ife',\n",
       " 'feature_caressive_cognate_cubature',\n",
       " 'feature_crablike_panniered_gloating',\n",
       " 'feature_exacerbating_presentationism_apagoge',\n",
       " 'feature_epicurean_fetal_seising',\n",
       " 'feature_casuistic_barbarian_monochromy',\n",
       " 'feature_haematoid_runaway_nightjar',\n",
       " 'feature_croupiest_shaded_thermotropism',\n",
       " 'feature_zarathustrian_albigensian_itch',\n",
       " 'feature_unsparred_scarabaeid_anthologist',\n",
       " 'feature_unco_terefah_thirster',\n",
       " 'feature_sallowish_cognisant_romaunt',\n",
       " 'feature_grazed_blameful_desiderative',\n",
       " 'feature_whitened_remanent_blast',\n",
       " 'feature_introvert_symphysial_assegai',\n",
       " 'feature_casemated_ibsenian_grantee',\n",
       " 'feature_intertwined_leeriest_suffragette',\n",
       " 'feature_built_reincarnate_sherbet',\n",
       " 'feature_axillary_reluctant_shorty',\n",
       " 'feature_descendent_decanal_hon',\n",
       " 'feature_untrimmed_monaxial_accompanist',\n",
       " 'feature_desiderative_commiserative_epizoa',\n",
       " 'feature_subdued_spiffier_kano',\n",
       " 'feature_affricative_bromic_raftsman',\n",
       " 'feature_doggish_whacking_headscarf',\n",
       " 'feature_congenital_conched_perithecium',\n",
       " 'feature_terrific_epigamic_affectivity',\n",
       " 'feature_enlightening_mirthful_laurencin',\n",
       " 'feature_continuate_unprocurable_haversine',\n",
       " 'feature_fustiest_voiced_janet',\n",
       " 'feature_ovular_powered_neckar',\n",
       " 'feature_questionable_diplex_caesarist',\n",
       " 'feature_nubblier_plosive_deepening',\n",
       " 'feature_revitalizing_dashing_photomultiplier',\n",
       " 'feature_chafed_undenominational_backstitch',\n",
       " 'feature_assenting_darn_arthropod',\n",
       " 'feature_consecrate_legislative_cavitation',\n",
       " 'feature_inhabited_pettier_veinlet',\n",
       " 'feature_voltairean_dyslogistic_epagoge',\n",
       " 'feature_log_unregenerate_babel',\n",
       " 'feature_agile_unrespited_gaucho',\n",
       " 'feature_whopping_eminent_attempter',\n",
       " 'feature_travelled_semipermeable_perruquier',\n",
       " 'feature_horizontal_snug_description',\n",
       " 'feature_inhibited_snowiest_drawing',\n",
       " 'feature_salian_suggested_ephemeron',\n",
       " 'feature_diverticular_punjabi_matronship',\n",
       " 'feature_reminiscent_unpained_ukulele',\n",
       " 'feature_unsurveyed_chopped_feldspathoid',\n",
       " 'feature_degenerate_officinal_feasibility',\n",
       " 'feature_undrossy_serpentiform_sack',\n",
       " 'feature_festering_controvertible_hostler',\n",
       " 'feature_leukemic_paler_millikan',\n",
       " 'feature_subapostolic_dungy_fermion',\n",
       " 'feature_wale_planned_tolstoy',\n",
       " 'feature_bifacial_hexastyle_hemialgia',\n",
       " 'feature_revealable_aeonian_elvira',\n",
       " 'feature_perceivable_gasiform_psammite',\n",
       " 'feature_smugger_hydroponic_farnesol',\n",
       " 'feature_apostate_impercipient_knighthood',\n",
       " 'feature_unperfect_implemental_cellarage',\n",
       " 'feature_stereotypic_ebracteate_louise',\n",
       " 'feature_offshore_defamatory_catalog',\n",
       " 'feature_tribal_germinable_yarraman',\n",
       " 'feature_dispiriting_araeostyle_jersey',\n",
       " 'feature_clerkish_flowing_chapati',\n",
       " 'feature_venatic_intermetallic_darling',\n",
       " 'feature_nebule_barmier_bibliomania',\n",
       " 'feature_unknown_reusable_cabbage',\n",
       " 'feature_planar_unessential_bride',\n",
       " 'feature_irritant_euphuistic_weka',\n",
       " 'feature_whistleable_unbedimmed_chokey',\n",
       " 'feature_roiling_trimeric_kurosawa',\n",
       " 'feature_loyal_fishy_pith',\n",
       " 'feature_unlivable_morbific_traveling',\n",
       " 'feature_untellable_penal_allegorization',\n",
       " 'feature_coordinated_undecipherable_gag',\n",
       " 'feature_congealed_lee_steek',\n",
       " 'feature_intrusive_effluent_hokkaido',\n",
       " 'feature_epidermic_scruffiest_prosperity',\n",
       " 'feature_quadratic_untouched_liberty',\n",
       " 'feature_hypogastric_effectual_sunlight',\n",
       " 'feature_contused_festal_geochemistry',\n",
       " 'feature_hexametric_ventricose_limnology',\n",
       " 'feature_paramagnetic_complex_gish',\n",
       " 'feature_chuffier_analectic_conchiolin',\n",
       " 'feature_indefatigable_enterprising_calf',\n",
       " 'feature_untouchable_unsolvable_agouti',\n",
       " 'feature_reduplicate_conoid_albite',\n",
       " 'feature_sixteen_inbreed_are',\n",
       " 'feature_dovetailed_winy_hanaper',\n",
       " 'feature_bushwhacking_unaligned_imperturbability',\n",
       " 'feature_undescribed_methylic_friday',\n",
       " 'feature_inflexed_lamaism_crit',\n",
       " 'feature_calefactive_anapaestic_jerome',\n",
       " 'feature_agronomic_cryptal_advisor',\n",
       " 'feature_unbreakable_nosological_comedian',\n",
       " 'feature_unmodernized_vasodilator_galenist',\n",
       " 'feature_paraffinoid_irreplevisable_ombu',\n",
       " 'feature_invalid_extortionary_titillation',\n",
       " 'feature_fake_trident_agitator',\n",
       " 'feature_wieldable_defiled_aperitive',\n",
       " 'feature_contaminative_intrusive_tagrag',\n",
       " 'feature_himyarite_tetragonal_deceit',\n",
       " 'feature_tossing_denominative_threshing',\n",
       " 'feature_dendritic_prothallium_sweeper',\n",
       " 'feature_ruffianly_uncommercial_anatole',\n",
       " 'feature_hellenistic_scraggly_comfort',\n",
       " 'feature_squishiest_unsectarian_support',\n",
       " 'feature_myographic_gawkier_timbale',\n",
       " 'feature_faltering_tergal_tip',\n",
       " 'feature_antisubmarine_foregoing_cryosurgery',\n",
       " 'feature_altern_unnoticed_impregnation',\n",
       " 'feature_foamy_undrilled_glaciology',\n",
       " 'feature_appraisive_anagrammatical_tentacle',\n",
       " 'feature_emmetropic_heraclitean_conducting',\n",
       " 'feature_collective_stigmatic_handfasting',\n",
       " 'feature_iridic_unpropertied_spline',\n",
       " 'feature_farcical_spinal_samantha',\n",
       " 'feature_urochordal_swallowed_curn',\n",
       " 'feature_wombed_reverberatory_colourer',\n",
       " 'feature_merovingian_tenebrism_hartshorn',\n",
       " 'feature_stylistic_honduran_comprador',\n",
       " 'feature_caecilian_unexperienced_ova',\n",
       " 'feature_fumarolic_known_sharkskin',\n",
       " 'feature_belgravian_salopian_sheugh',\n",
       " 'feature_zymotic_varnished_mulga',\n",
       " 'feature_learned_claustral_quiddity',\n",
       " 'feature_brickier_heterostyled_scrutiny',\n",
       " 'feature_unnetted_bay_premillennialist',\n",
       " 'feature_uncurtailed_translucid_coccid',\n",
       " 'feature_jiggish_tritheist_probity',\n",
       " 'feature_groggy_undescried_geosphere',\n",
       " 'feature_hawkish_domiciliary_duramen',\n",
       " 'feature_base_ingrain_calligrapher',\n",
       " 'feature_accessorial_aroused_crochet',\n",
       " 'feature_fierier_goofier_follicle',\n",
       " 'feature_unburied_exponent_pace',\n",
       " 'feature_chelonian_pyknic_delphi',\n",
       " 'feature_tarry_meet_chapel',\n",
       " 'feature_generative_honorific_tughrik',\n",
       " 'feature_smoggy_niftiest_lunch',\n",
       " 'feature_coalier_typhoid_muntin',\n",
       " 'feature_chopfallen_fasciate_orchidologist',\n",
       " 'feature_euterpean_frazzled_williamsburg',\n",
       " 'feature_quinsied_increased_braincase',\n",
       " 'feature_unlawful_superintendent_brunet',\n",
       " 'feature_naval_edified_decarbonize',\n",
       " 'feature_scenic_cormophytic_bilirubin',\n",
       " 'feature_unvaried_social_bangkok',\n",
       " 'feature_fissirostral_multifoliate_chillon',\n",
       " 'feature_citified_certified_progestin',\n",
       " 'feature_otherworldly_hallstatt_tolerator',\n",
       " 'feature_unawakening_escapism_totemist',\n",
       " 'feature_chillier_consultatory_latest',\n",
       " 'feature_fustier_crossing_pharyngology',\n",
       " 'feature_nobiliary_nativist_pull',\n",
       " 'feature_hieroglyphic_scalar_synchroflash',\n",
       " 'feature_tricksy_dithyrambic_pallet',\n",
       " 'feature_unfearing_phraseological_adder',\n",
       " 'feature_symphysial_cossack_bonaparte',\n",
       " 'feature_dextrogyrate_permitted_mystagogy',\n",
       " 'feature_interfertile_neozoic_solder',\n",
       " 'feature_theocratic_discriminate_subchloride',\n",
       " 'feature_neptunian_supersensitive_stapler',\n",
       " 'feature_auroral_glary_quamash',\n",
       " 'feature_interoceptive_fifteenth_trey',\n",
       " 'feature_embryo_sloping_albertine',\n",
       " 'feature_beery_somatologic_elimination',\n",
       " 'feature_gustier_maladjusted_bargeman',\n",
       " 'feature_septarian_vapory_thatching',\n",
       " 'feature_seismographic_matronly_dimeter',\n",
       " 'feature_burning_incunabular_clodhopper',\n",
       " 'feature_poachier_unsufferable_bile',\n",
       " 'feature_incidental_unveiled_bobbysoxer',\n",
       " 'feature_prevailing_thrifty_organicism',\n",
       " \"feature_dirtiest_possessory_nuku'alofa\",\n",
       " 'feature_chinked_preborn_hideaway',\n",
       " 'feature_caudated_judicial_crossette',\n",
       " 'feature_hyperbaric_populated_optimum',\n",
       " 'feature_petalled_backmost_crimplene',\n",
       " 'feature_capitate_plaguy_hooper',\n",
       " 'feature_faced_moline_gavotte',\n",
       " 'feature_russety_boustrophedon_dactylogram',\n",
       " 'feature_inherited_accelerated_astaire',\n",
       " 'feature_waving_unmourned_bloke',\n",
       " 'feature_sidearm_pitchiest_line',\n",
       " 'feature_eating_lanose_linguini',\n",
       " 'feature_foliated_psychokinetic_vivian',\n",
       " 'feature_emissive_perinephric_conveniency',\n",
       " 'feature_unforced_atwitter_nailer',\n",
       " 'feature_provisionary_unfostered_subadar',\n",
       " 'feature_liverpudlian_multicellular_torsk',\n",
       " 'feature_frowzy_berserk_lag',\n",
       " 'feature_screwy_asianic_balanchine',\n",
       " 'feature_unmeaning_ungyved_outboard',\n",
       " 'feature_unexceptionable_saprozoic_culturist',\n",
       " 'feature_unheaded_unmated_behaviour',\n",
       " 'feature_unblunted_titubant_sequoia',\n",
       " 'feature_perturbed_dry_grosvenor',\n",
       " 'feature_mortal_sovran_powerboat',\n",
       " 'feature_geodic_corky_clinic',\n",
       " 'feature_latin_throwback_lactoscope',\n",
       " 'feature_spicier_caller_billfold',\n",
       " 'feature_bathypelagic_companionate_disenchanter',\n",
       " 'feature_adept_unsensitive_hieroglyph',\n",
       " 'feature_hotshot_undefied_aten',\n",
       " 'feature_innumerate_alated_soliped',\n",
       " 'feature_apogamic_obeisant_pondicherry',\n",
       " 'feature_shabbiest_bewildering_editorialization',\n",
       " 'feature_irreplaceable_regurgitate_ctenophore',\n",
       " 'feature_socialized_obconical_itemization',\n",
       " 'feature_amphictyonic_secretarial_induline',\n",
       " 'feature_unsatisfied_mesopotamian_woodruff',\n",
       " 'feature_backswept_cryptogenic_baku',\n",
       " 'feature_healthiest_glial_cliquism',\n",
       " 'feature_absent_herpetological_genitor',\n",
       " 'feature_accountable_ethnographic_counterexample',\n",
       " 'feature_unseparable_cedarn_orcadian',\n",
       " 'feature_inhabited_collectable_soda',\n",
       " 'feature_arizonan_endurable_daw',\n",
       " 'feature_tanagrine_balconied_shut',\n",
       " 'feature_powdered_incased_project',\n",
       " 'feature_unassimilated_waxed_vesicle',\n",
       " 'feature_conjunctional_maned_banian',\n",
       " 'feature_contorted_weaponed_piaffe',\n",
       " 'feature_leadiest_unliveable_macadamia',\n",
       " 'feature_ignored_splay_management',\n",
       " 'feature_aggrieved_rammish_tommy',\n",
       " 'feature_coelomate_orbiculate_osteology',\n",
       " 'feature_amoebic_scarabaeid_gypsum',\n",
       " 'feature_unforbidden_flaming_settlement',\n",
       " 'feature_edge_hanoverian_cockneyfication',\n",
       " 'feature_picked_inferrible_lanark',\n",
       " 'feature_geographical_ecstatic_geta',\n",
       " 'feature_gymnastic_neap_thoracostomy',\n",
       " 'feature_nonclinical_stewed_disreputability',\n",
       " 'feature_tensed_cinnamonic_league',\n",
       " 'feature_pongid_agentive_rhomboid',\n",
       " 'feature_alloyed_copyright_protium',\n",
       " 'feature_afloat_brickiest_supernationalism',\n",
       " 'feature_healthful_mitigated_magnesium',\n",
       " 'feature_hypertrophied_embryologic_forfeiter',\n",
       " 'feature_few_lagoonal_alcyonarian',\n",
       " 'feature_temporary_dreamful_aldershot',\n",
       " 'feature_midnightly_falser_replacement',\n",
       " 'feature_nomothetic_autistic_ilk',\n",
       " 'feature_tyrian_wretched_frangipane',\n",
       " 'feature_waxiest_orthogonal_hiroshima',\n",
       " 'feature_raglan_gouty_twiddler',\n",
       " 'feature_cleanly_kickable_miriam',\n",
       " 'feature_necrophiliac_unsublimated_rudd',\n",
       " 'feature_delimited_doable_jim',\n",
       " 'feature_brushed_psychiatrical_lubbock',\n",
       " 'feature_exsanguine_ethereal_archon',\n",
       " 'feature_evaporative_largo_aster',\n",
       " 'feature_incendiary_failing_fluff',\n",
       " 'feature_aloetic_presented_scarer',\n",
       " 'feature_ruly_comtist_passerine',\n",
       " 'feature_gymnasial_supremacist_osteopathy',\n",
       " 'feature_protolithic_ontogenic_fusibility',\n",
       " 'feature_representable_ungored_zoffany',\n",
       " 'feature_curvier_antinodal_absolute',\n",
       " 'feature_zionist_enterable_vagabond',\n",
       " 'feature_elegiac_isolationism_lookout',\n",
       " 'feature_toilful_exordial_synchro',\n",
       " 'feature_auxetic_cholagogue_sexton',\n",
       " 'feature_inane_ribald_adrenal',\n",
       " 'feature_sere_hateable_conspicuity',\n",
       " 'feature_capsulate_rival_marcel',\n",
       " 'feature_pressed_animalcular_garden',\n",
       " 'feature_scythian_supposed_fortalice',\n",
       " 'feature_elating_apeak_hoodwinker',\n",
       " 'feature_telangiectatic_unwon_machtpolitik',\n",
       " 'feature_quaggy_constabulary_mismanagement',\n",
       " 'feature_intersidereal_chewy_sinusoid',\n",
       " 'feature_yearning_tippy_taking',\n",
       " 'feature_healthy_preterhuman_conto',\n",
       " 'feature_wispy_reverberating_fyrd',\n",
       " 'feature_inebriant_unhopeful_beecham',\n",
       " 'feature_limbic_pulverizable_hindfoot',\n",
       " 'feature_avowed_cloying_anthropologist',\n",
       " 'feature_deformed_unenslaved_graniteware',\n",
       " 'feature_foudroyant_undersigned_ascendance',\n",
       " 'feature_aberrant_frustrate_drosophila',\n",
       " 'feature_loved_purpure_malthusian',\n",
       " 'feature_unsyllabled_skin_underworkman',\n",
       " 'feature_catercorner_seemliest_prepostor',\n",
       " 'feature_proletary_nonionic_varment',\n",
       " 'feature_concessible_carpal_telesthesia',\n",
       " 'feature_acquirable_helvetic_tercel',\n",
       " 'feature_adynamic_glossier_ghana',\n",
       " 'feature_frizzier_alcoholic_gadolinium',\n",
       " 'feature_dyeline_catechistic_placet',\n",
       " 'feature_unaltered_squeezable_subway',\n",
       " 'feature_eyed_scotistic_diabolism',\n",
       " 'feature_imperviable_surprised_running',\n",
       " 'feature_overfraught_chinked_jinx',\n",
       " 'feature_nonfunctional_cnemial_illocution',\n",
       " 'feature_sunk_pyrrho_allah',\n",
       " 'feature_marxian_subminiature_minx',\n",
       " 'feature_telling_collinear_estanciero',\n",
       " 'feature_battled_beating_radiotelephony',\n",
       " 'feature_messy_glottic_ciborium',\n",
       " 'feature_adducent_ailing_gene',\n",
       " 'feature_inoperable_monegasque_infuriation',\n",
       " 'feature_suggestive_sexological_massasauga',\n",
       " 'feature_radiculose_perfectionistic_swing',\n",
       " 'feature_deliquescent_lintiest_protamine',\n",
       " 'feature_splitting_sexagesimal_teutonisation',\n",
       " 'feature_jauntier_talc_noreen',\n",
       " 'feature_yankee_nonary_okavango',\n",
       " 'feature_divulsive_cordial_bremsstrahlung',\n",
       " 'feature_widespread_mannish_seaquake',\n",
       " 'feature_registered_arrayed_galactagogue',\n",
       " 'feature_dropping_naevoid_swag',\n",
       " 'feature_unmown_circumventive_drayage',\n",
       " 'feature_inelastic_verist_graf',\n",
       " 'feature_streamlined_constricting_boz',\n",
       " 'feature_sole_soapy_tangible',\n",
       " 'feature_gnathic_terminological_defector',\n",
       " 'feature_bucktooth_stockish_sideropenia',\n",
       " 'feature_affable_yellow_terne',\n",
       " 'feature_bedded_neutral_relishing',\n",
       " 'feature_olid_reunionistic_malachi',\n",
       " 'feature_imitable_artificial_titration',\n",
       " 'feature_viverrine_lockable_quitch',\n",
       " 'feature_mephitic_televisionary_breeder',\n",
       " 'feature_talcose_patelliform_cana',\n",
       " 'feature_muddier_besieged_escarp',\n",
       " 'feature_protanopic_reptant_nimiety',\n",
       " 'feature_wicker_crescent_slavocrat',\n",
       " 'feature_fictile_shadowy_esse',\n",
       " 'feature_guttering_liberating_conurbation',\n",
       " 'feature_transpiring_subsolar_biggy',\n",
       " 'feature_rascal_unprintable_lansing',\n",
       " 'feature_carnassial_undecided_suspensor',\n",
       " 'feature_unkindled_apterygial_contributory',\n",
       " 'feature_equipotent_undefeated_anointer',\n",
       " 'feature_gregorian_electromagnetic_hepar',\n",
       " 'feature_dyspeptic_disseminative_anglophobia',\n",
       " 'feature_durative_cuboidal_mirepoix',\n",
       " 'feature_gyral_extrapolated_serotherapy',\n",
       " 'feature_literary_live_taxon',\n",
       " 'feature_deliberative_connatural_kinetoscope',\n",
       " 'feature_dozier_mad_outrush',\n",
       " 'feature_polybasic_unbreathed_magdeburg',\n",
       " 'feature_attainable_solonian_impropriator',\n",
       " 'feature_underlying_pegmatitic_disperser',\n",
       " 'feature_counter_arbitral_gyration',\n",
       " 'feature_biased_puzzling_cessation',\n",
       " 'feature_stylar_denudate_intonation',\n",
       " 'feature_bold_brindle_playground',\n",
       " 'feature_brachydactylic_azonic_strife',\n",
       " 'feature_saving_inhabitable_lighthouse',\n",
       " 'feature_totemic_unshaded_encore',\n",
       " 'feature_echoic_dustproof_indiscernibility',\n",
       " 'feature_passable_premed_independent',\n",
       " 'feature_dreary_penal_acroterium',\n",
       " 'feature_haziest_lifelike_horseback',\n",
       " 'feature_prevailing_nubile_hearst',\n",
       " 'feature_iraqi_gentled_hector',\n",
       " 'feature_theban_byronic_prolation',\n",
       " 'feature_resolutive_betrothed_recession',\n",
       " 'feature_motherly_chalkier_woking',\n",
       " 'feature_untinged_crystallographic_succulent',\n",
       " 'feature_plutonian_unsegregated_meringue',\n",
       " 'feature_myological_adducent_puebla',\n",
       " 'feature_cromwellian_imbecilic_algonkian',\n",
       " 'feature_exterminated_grumbling_lawing',\n",
       " 'feature_bhutan_imagism_dolerite',\n",
       " 'feature_overt_smart_stendhal',\n",
       " 'feature_bipinnate_oriented_earmuff',\n",
       " 'feature_telial_gnarliest_darmstadt',\n",
       " 'feature_savory_engrained_undervest',\n",
       " 'feature_vibrational_schooled_quadrivalence',\n",
       " 'feature_steepled_transistorized_shelter',\n",
       " 'feature_heliocentric_stealthy_waning',\n",
       " 'feature_aberdeen_tangled_providence',\n",
       " 'feature_quarrelsome_sneakiest_misadventure',\n",
       " 'feature_haunted_fussier_vaunt',\n",
       " 'feature_astronomic_gripple_culverin',\n",
       " 'feature_reproving_aurorean_parlour',\n",
       " 'feature_baldish_cognitional_naha',\n",
       " 'feature_grummest_confounding_quinquagesima',\n",
       " 'feature_frowsiest_bonapartean_income',\n",
       " 'feature_subcordate_hypsometric_matriarchate',\n",
       " 'feature_cymose_prima_guardhouse',\n",
       " 'feature_deceased_peppiest_hitlerism',\n",
       " 'feature_unstitched_peppercorny_value',\n",
       " 'feature_slack_calefacient_tableau',\n",
       " 'feature_mesoblastic_anatolian_deodand',\n",
       " 'feature_undissociated_fuzziest_monoamine',\n",
       " 'feature_whitewashed_aliunde_mesopotamia',\n",
       " 'feature_unsolvable_majuscular_caique',\n",
       " 'feature_unwinding_prettyish_megger',\n",
       " 'feature_estuarine_candescent_podunk',\n",
       " 'feature_plaguy_preceding_hosteller',\n",
       " 'feature_septic_cuticular_cape',\n",
       " 'feature_fertilized_quartile_roll',\n",
       " 'feature_elating_diluvian_telepathist',\n",
       " 'feature_ginger_unexplored_sadduceeism',\n",
       " 'feature_satanic_hominoid_lingo',\n",
       " 'feature_bristly_encysted_vendue',\n",
       " 'feature_semibold_disparaging_turnip',\n",
       " 'feature_scythian_lithographical_whigmaleerie',\n",
       " 'feature_store_apteral_isocheim',\n",
       " 'feature_overmerry_quinary_raisin',\n",
       " 'feature_vedic_laryngitic_battuta',\n",
       " 'feature_lotic_anticorrosive_acetone',\n",
       " 'feature_hungry_thermoluminescent_shareholding',\n",
       " 'feature_multiplicate_taunt_vena',\n",
       " 'feature_rationalist_crippled_dreadnaught',\n",
       " 'feature_blue_swedenborgianism_squinter',\n",
       " 'feature_pictographic_epithetic_pleiocene',\n",
       " 'feature_rival_leninist_philippine',\n",
       " 'feature_unsafe_perspectivist_dairyman',\n",
       " 'feature_verism_awing_countrywoman',\n",
       " 'feature_grandmotherly_circumnavigable_homonymity',\n",
       " 'feature_twinning_inconsequent_quercetin',\n",
       " 'feature_dustiest_algonkian_plasticity',\n",
       " 'feature_formational_preventive_capp',\n",
       " 'feature_ruptured_activist_twill',\n",
       " 'feature_inapproachable_aging_lully',\n",
       " 'feature_tidied_tinnier_sacker',\n",
       " 'feature_crookbacked_irreplaceable_heresiography',\n",
       " 'feature_twentieth_pampered_statocyst',\n",
       " 'feature_burled_zinky_verdin',\n",
       " 'feature_unhygienic_brevipennate_viol',\n",
       " 'feature_glued_antemundane_eschscholtzia',\n",
       " 'feature_rockier_overdelicate_barostat',\n",
       " 'feature_persnickety_schmalziest_dolichocephaly',\n",
       " 'feature_phenomenal_photosynthetic_berg',\n",
       " 'feature_peritectic_medallic_leaper',\n",
       " 'feature_gripple_bracteal_huckster',\n",
       " 'feature_holophytic_fiercest_ruining',\n",
       " 'feature_octave_tingly_flitch',\n",
       " 'feature_beauish_seismal_lobe',\n",
       " 'feature_campestral_salted_romanism',\n",
       " 'feature_eclectic_citified_testator',\n",
       " 'feature_unministerial_albinotic_salish',\n",
       " 'feature_tercentenary_triliteral_formosa',\n",
       " 'feature_porky_gyratory_whitewall',\n",
       " 'feature_dissilient_stunning_ribwort',\n",
       " 'feature_ovidian_compelling_popsy',\n",
       " 'feature_semestral_unapplausive_warfarin',\n",
       " 'feature_newish_vortical_upthrow',\n",
       " 'feature_compurgatorial_demeaning_purser',\n",
       " 'feature_antiphrastical_tipsy_chinquapin',\n",
       " 'feature_provable_downstair_titicaca',\n",
       " 'feature_dorsolumbar_dolesome_marshmallow',\n",
       " 'feature_trochaic_metonymic_dichogamy',\n",
       " 'feature_antiscorbutic_visored_convalescent',\n",
       " 'feature_unblamed_mammoth_commie',\n",
       " 'feature_wiliest_specialistic_azrael',\n",
       " 'feature_kenotic_hispanic_yulan',\n",
       " 'feature_fine_aberrational_deducibility',\n",
       " 'feature_reachable_angled_irrevocability',\n",
       " 'feature_cachectical_metaphysic_patency',\n",
       " 'feature_gory_ratite_santir',\n",
       " 'feature_derogative_sawdusty_photolithography',\n",
       " 'feature_conciliable_fleeting_equestrienne',\n",
       " 'feature_newish_eosinophilic_sciaenoid',\n",
       " 'feature_opposable_argumentative_mesoblast',\n",
       " 'feature_guileful_congenerical_literation',\n",
       " 'feature_liquefacient_premium_pyxidium',\n",
       " 'feature_sleaziest_neediest_yawn',\n",
       " 'feature_unforeboding_cometic_billionaire',\n",
       " 'feature_jubilant_ghostlier_pedestrianism',\n",
       " 'feature_doctrinal_popular_disqualifying',\n",
       " 'feature_pseudo_ungeared_dullard',\n",
       " 'feature_sclerotic_resupinate_hard',\n",
       " 'feature_encased_jutting_gasometer',\n",
       " 'feature_calycled_necrologic_naboth',\n",
       " 'feature_teenage_tapetal_infector',\n",
       " 'feature_undebauched_conservatory_doronicum',\n",
       " 'feature_fescennine_intramundane_flamen',\n",
       " 'feature_gymnastic_erective_tranche',\n",
       " 'feature_phantasmal_stomachal_peperoni',\n",
       " 'feature_pulverulent_tarnal_sitting',\n",
       " 'feature_hetero_overweary_hylotheist',\n",
       " 'feature_imponderable_seasoned_kinetograph',\n",
       " 'feature_anoxic_froward_europe',\n",
       " 'feature_antiperspirant_degradable_voltaire',\n",
       " 'feature_stockier_ghastlier_spectrogram',\n",
       " 'feature_appalachian_realistic_butyrate',\n",
       " 'feature_mobile_savoyard_maidenhead',\n",
       " 'feature_destructive_winterweight_towbar',\n",
       " 'feature_jammed_morphotic_destruction',\n",
       " 'feature_vaunting_offshore_bogey',\n",
       " 'feature_floricultural_unimpeded_nomen',\n",
       " 'feature_unwonted_trusted_fixative',\n",
       " 'feature_affined_pushier_haranguer',\n",
       " 'feature_unadjusted_citified_tupelo',\n",
       " 'feature_down_delinquent_madagascar',\n",
       " 'feature_nicer_fernier_banderilla',\n",
       " 'feature_laggard_mincing_gemologist',\n",
       " 'feature_cauterant_paly_discant',\n",
       " 'feature_wastable_nobler_peeling',\n",
       " 'feature_preparatory_sown_rehearser',\n",
       " 'feature_articulated_shamefaced_orzo',\n",
       " 'feature_scholiastic_dreamful_wardship',\n",
       " 'feature_resoluble_shortened_albumin',\n",
       " 'feature_crowning_frustrate_kampala',\n",
       " 'feature_unforbidden_highbrow_kafir',\n",
       " 'feature_equiprobable_unsisterly_mississauga',\n",
       " 'feature_jumping_homemaking_shaveling',\n",
       " 'feature_gleetier_unpared_pentecost',\n",
       " 'feature_fishier_groggier_corporeity',\n",
       " 'feature_lashed_dirigible_scrubber',\n",
       " 'feature_unstaying_contrary_ichor',\n",
       " 'feature_conventionalized_volitant_citadel',\n",
       " 'feature_tepidity_endocrinal_altaic',\n",
       " 'feature_servomechanical_wally_picul',\n",
       " 'feature_resonant_elusive_monetisation',\n",
       " 'feature_thalamencephalic_derisory_carte',\n",
       " 'feature_ratable_wrapround_epitome',\n",
       " 'feature_often_awry_chyme',\n",
       " 'feature_limitative_traditional_yodeller',\n",
       " 'feature_earthlier_parian_pistachio',\n",
       " 'feature_clashing_disheartening_rattler',\n",
       " 'feature_monocarpic_grey_hanger',\n",
       " 'feature_macrocephalic_tiresome_piroshki',\n",
       " 'feature_unshaped_compound_trunkfish',\n",
       " 'feature_malarian_multinuclear_averroist',\n",
       " 'feature_thousandfold_cairned_commutator',\n",
       " 'feature_incog_decolorant_refluence',\n",
       " 'feature_gay_deceased_reen',\n",
       " 'feature_fortunate_unorthodoxy_trish',\n",
       " 'feature_impartable_unpeaceful_pennsylvanian',\n",
       " 'feature_maintained_childbearing_isagoge',\n",
       " 'feature_illegible_punishing_lunacy',\n",
       " 'feature_craziest_cordate_ravishment',\n",
       " 'feature_voltairian_blackened_lodge',\n",
       " 'feature_renowned_phthisic_ferrate',\n",
       " 'feature_jeffersonian_torrent_cobaltite',\n",
       " 'feature_reflected_vast_rhetor',\n",
       " 'feature_arithmetic_delicate_pantagruelist',\n",
       " 'feature_sooth_declinatory_chaton',\n",
       " 'feature_qualifiable_dragging_mankind',\n",
       " \"feature_whatsoe'er_discredited_faerie\",\n",
       " 'feature_prepotent_swedish_superexcellence',\n",
       " 'feature_principled_inspiratory_loupe',\n",
       " 'feature_aesthetical_daltonian_anemology',\n",
       " 'feature_ectodermal_unfeigning_chester',\n",
       " 'feature_continental_archival_katmandu',\n",
       " 'feature_fraternal_whackiest_poppy',\n",
       " 'feature_polymorphic_climactic_corslet',\n",
       " 'feature_contraband_pyorrhoeal_vernalisation',\n",
       " 'feature_sainted_nosiest_covenant',\n",
       " 'feature_subcultural_overbearing_assiduity',\n",
       " 'feature_airborne_genitival_cathouse',\n",
       " 'feature_adventive_eristic_wedlock',\n",
       " 'feature_triadic_vitreum_gelding',\n",
       " 'feature_accusatory_disinfectant_deportment',\n",
       " 'feature_gainly_tritheism_syndactyl',\n",
       " 'feature_canalicular_peeling_lilienthal',\n",
       " 'feature_enslaved_fattest_radiotelegraph',\n",
       " 'feature_childing_funest_turbidity',\n",
       " 'feature_pycnostyle_unenjoyable_balladry',\n",
       " 'feature_sludgiest_telltale_mutant',\n",
       " 'feature_tested_kinkiest_levigation',\n",
       " 'feature_mailed_harried_grant',\n",
       " 'feature_diabasic_prescribed_autograft',\n",
       " 'feature_persuasible_ablest_menology',\n",
       " 'feature_budgetary_surrounded_formicary',\n",
       " 'feature_neurophysiological_runcinate_yardang',\n",
       " 'feature_antichristian_slangiest_idyllist',\n",
       " 'feature_flintier_enslaved_borsch',\n",
       " 'feature_exorbitant_myeloid_crinkle',\n",
       " 'feature_moralistic_heartier_typhoid',\n",
       " 'feature_gutta_exploitive_simpson',\n",
       " 'feature_assertive_worsened_scarper',\n",
       " 'feature_intersubjective_juristic_sagebrush',\n",
       " 'feature_rowable_unshod_noise',\n",
       " 'feature_volitional_ascensive_selfhood',\n",
       " 'feature_barest_kempt_crowd',\n",
       " 'feature_curtained_gushier_tranquilizer',\n",
       " 'feature_intermontane_vertical_moo',\n",
       " 'feature_isotopic_hymenial_starwort',\n",
       " 'feature_inseminated_filarial_mesoderm',\n",
       " 'feature_passerine_ultraist_neon',\n",
       " 'feature_westering_immunosuppressive_crapaud',\n",
       " 'feature_reported_slimy_rhapsody',\n",
       " 'feature_juvenalian_paunchy_uniformitarianism',\n",
       " 'feature_lipogrammatic_blowsier_seismometry',\n",
       " 'feature_draconic_contractible_romper',\n",
       " 'feature_indirect_concrete_canaille',\n",
       " 'feature_puberulent_nondescript_laparoscope',\n",
       " 'feature_unsurveyed_boyish_aleph',\n",
       " 'feature_dismaying_chaldean_tallith',\n",
       " 'feature_epitaxial_loathsome_essen',\n",
       " 'feature_malagasy_abounding_circumciser',\n",
       " 'feature_tortured_arsenical_arable',\n",
       " 'feature_sludgy_implemental_sicily',\n",
       " 'feature_uretic_seral_decoding',\n",
       " 'feature_roasting_slaked_reposition',\n",
       " 'feature_peculiar_sheenier_quintal',\n",
       " 'feature_publishable_apiarian_rollick',\n",
       " 'feature_interdental_mongolian_anarchism',\n",
       " 'feature_reserved_cleanable_soldan',\n",
       " 'feature_eruptive_seasoned_pharmacognosy',\n",
       " 'feature_softish_unseparated_caudex',\n",
       " 'feature_univalve_abdicant_distrail',\n",
       " 'feature_levigate_kindly_dyspareunia',\n",
       " 'feature_intercalative_helvetian_infirmarian',\n",
       " 'feature_centric_shaggier_cranko',\n",
       " 'feature_unliving_bit_bengaline',\n",
       " 'feature_misanthropic_knurliest_freebooty',\n",
       " 'feature_confiscatory_triennial_pelting',\n",
       " 'feature_peltate_okay_info',\n",
       " 'feature_reconciling_dauby_database',\n",
       " 'feature_unspotted_practiced_gland',\n",
       " 'feature_iconomatic_boozier_age',\n",
       " 'feature_congenial_transmigrant_isobel',\n",
       " 'feature_impractical_endorsed_tide',\n",
       " 'feature_huskiest_compartmental_jacquerie',\n",
       " 'feature_cairned_fumiest_ordaining',\n",
       " 'feature_calculating_unenchanted_microscopium',\n",
       " 'feature_mucky_loanable_gastrostomy',\n",
       " 'feature_loricate_cryptocrystalline_ethnology',\n",
       " 'feature_ctenoid_moaning_fontainebleau',\n",
       " 'feature_armoured_finable_skywriter',\n",
       " 'feature_intended_involute_highbinder',\n",
       " 'feature_commensurable_industrial_jungfrau',\n",
       " 'feature_spagyric_echt_alum',\n",
       " 'feature_illiterate_stomachal_terpene',\n",
       " 'feature_demure_groutiest_housedog',\n",
       " 'feature_dentilingual_removed_osmometer',\n",
       " 'feature_plexiform_won_elk',\n",
       " 'feature_induplicate_hoarse_disbursement',\n",
       " 'feature_vizierial_courtlier_hampton',\n",
       " 'feature_lost_quirky_botel',\n",
       " 'feature_hydrologic_cymric_nyctophobia',\n",
       " 'feature_atlantic_uveal_incommunicability',\n",
       " 'feature_incommensurable_diffused_curability',\n",
       " 'feature_midget_noncognizable_plenary',\n",
       " 'feature_unapplicable_jerkiest_klemperer',\n",
       " 'feature_unamazed_tumular_photomicrograph',\n",
       " 'feature_nucleophilic_uremic_endogen',\n",
       " 'feature_unnourishing_indiscreet_occiput',\n",
       " 'feature_hypersonic_volcanological_footwear',\n",
       " 'feature_uncomplimentary_malignant_scoff',\n",
       " 'feature_interrogatory_isohyetal_atacamite',\n",
       " 'feature_invalid_chromatographic_cornishman',\n",
       " 'feature_encompassing_skeptical_salience',\n",
       " 'feature_beady_unkind_barret',\n",
       " 'feature_gossamer_placable_wycliffite',\n",
       " 'feature_flavourful_seismic_erica',\n",
       " 'feature_petitionary_evanescent_diallage',\n",
       " 'feature_leisurable_dehortatory_pretoria',\n",
       " 'feature_chaotic_granitoid_theist',\n",
       " 'feature_cerebrovascular_weeny_advocate',\n",
       " 'feature_cyrenaic_unschooled_silurian',\n",
       " 'feature_uninclosed_handcrafted_springing',\n",
       " 'feature_indentured_communicant_tulipomania',\n",
       " 'feature_synoptic_botryose_earthwork',\n",
       " 'feature_acerb_venusian_piety',\n",
       " 'feature_vestmental_hoofed_transpose',\n",
       " 'feature_unrated_intact_balmoral',\n",
       " 'feature_tonal_graptolitic_corsac',\n",
       " 'feature_refreshed_untombed_skinhead',\n",
       " 'feature_communicatory_unrecommended_velure',\n",
       " 'feature_sudsy_polymeric_posteriority',\n",
       " 'feature_inexpugnable_gleg_candelilla',\n",
       " 'feature_headhunting_unsatisfied_phenomena',\n",
       " 'feature_scenographical_dissentient_trek',\n",
       " 'feature_trim_axial_suffocation',\n",
       " 'feature_buxom_curtained_sienna',\n",
       " 'feature_recidivism_petitory_methyltestosterone',\n",
       " 'feature_irresponsive_compositive_ramson',\n",
       " 'feature_more_hindoo_diageotropism',\n",
       " 'feature_apomictical_motorized_vaporisation',\n",
       " 'feature_seclusive_emendatory_plangency',\n",
       " 'feature_discrepant_ventral_shicker',\n",
       " 'feature_obeisant_vicarial_passibility',\n",
       " 'feature_unrelieved_rawish_cement',\n",
       " 'feature_strychnic_structuralist_chital',\n",
       " 'feature_unaimed_yonder_filmland',\n",
       " 'feature_designer_notchy_epiploon',\n",
       " 'feature_favoring_prescript_unorthodoxy',\n",
       " 'feature_cheering_protonemal_herd',\n",
       " 'feature_conjugal_postvocalic_rowe',\n",
       " 'feature_palmy_superfluid_argyrodite',\n",
       " 'feature_outsized_admonishing_errantry',\n",
       " 'feature_brawny_confocal_frail',\n",
       " 'feature_arillate_nickelic_hemorrhage',\n",
       " 'feature_bloodied_twinkling_andante',\n",
       " 'feature_rusted_unassisting_menaquinone',\n",
       " 'feature_biannual_maleficent_thack',\n",
       " 'feature_extractable_serrulate_swing',\n",
       " 'feature_covalent_methodological_brash',\n",
       " 'feature_periscopic_thirteenth_cartage',\n",
       " 'feature_tranquilizing_abashed_glyceria',\n",
       " 'feature_faustian_unventilated_lackluster',\n",
       " 'feature_frequentative_participial_waft',\n",
       " 'feature_flakiest_fleecy_novelese',\n",
       " 'feature_liege_unexercised_ennoblement',\n",
       " 'feature_amygdaloidal_intersectional_canonry',\n",
       " 'feature_rural_inquisitional_trotline',\n",
       " 'feature_caespitose_unverifiable_intent',\n",
       " 'feature_precooled_inoperable_credence',\n",
       " 'feature_ruthenian_uncluttered_vocalizing',\n",
       " 'feature_camphorated_spry_freemartin',\n",
       " 'feature_mined_game_curse',\n",
       " 'feature_amoebaean_wolfish_heeler',\n",
       " 'feature_peaty_vulgar_branchia',\n",
       " 'feature_ratlike_matrilinear_collapsability',\n",
       " 'feature_attuned_southward_heckle',\n",
       " 'feature_substandard_permissible_paresthesia',\n",
       " 'feature_curling_aurorean_iseult',\n",
       " 'feature_fleshly_bedimmed_enfacement',\n",
       " 'feature_hendecagonal_deathly_stiver',\n",
       " 'feature_massed_nonracial_ecclesiologist',\n",
       " 'feature_instrumentalist_extrovert_cassini',\n",
       " 'feature_patristical_analysable_langouste',\n",
       " 'feature_gullable_sanguine_incongruity',\n",
       " 'feature_phellogenetic_vibrational_jocelyn',\n",
       " 'feature_autodidactic_gnarlier_pericardium',\n",
       " 'feature_unbeaten_orological_dentin',\n",
       " 'feature_resuscitative_communicable_brede',\n",
       " 'feature_limitable_astable_physiology',\n",
       " 'feature_chartered_conceptual_spitting',\n",
       " 'feature_oversea_permed_insulter',\n",
       " 'feature_busty_unfitted_keratotomy',\n",
       " 'feature_alkaline_pistachio_sunstone',\n",
       " 'feature_incitant_trochoidal_oculist',\n",
       " 'feature_stelar_balmiest_pellitory',\n",
       " 'feature_hypermetropic_unsighted_forsyth',\n",
       " 'feature_calycled_living_birmingham',\n",
       " 'feature_transmontane_clerkly_value',\n",
       " 'feature_together_suppositive_aster',\n",
       " 'feature_planned_superimposed_bend',\n",
       " 'feature_undirected_perdu_ylem',\n",
       " 'feature_antipodal_unable_thievery',\n",
       " 'feature_scrobiculate_unexcitable_alder',\n",
       " 'feature_apophthegmatical_catechetical_millet',\n",
       " 'feature_fragrant_fifteen_brian',\n",
       " 'feature_churrigueresque_talc_archaicism',\n",
       " 'feature_uncompromising_fancy_kyle',\n",
       " 'feature_retinoscopy_flinty_wool',\n",
       " 'feature_pansophic_merino_pintado',\n",
       " 'feature_galvanometric_sturdied_billingsgate',\n",
       " 'feature_mazy_superrefined_punishment',\n",
       " 'feature_aztecan_encomiastic_pitcherful',\n",
       " 'feature_sorted_ignitable_sagitta',\n",
       " 'feature_padded_peripteral_pericranium',\n",
       " 'feature_trabeate_eutherian_valedictory',\n",
       " 'feature_undisguised_whatever_gaul',\n",
       " 'feature_migrant_reliable_chirurgery',\n",
       " 'feature_permanent_cottony_ballpen',\n",
       " 'feature_conceding_ingrate_tablespoonful',\n",
       " 'feature_vulcanological_sepulchral_spean',\n",
       " 'feature_unrequired_waxing_skeptic',\n",
       " 'feature_hibernating_soritic_croupe',\n",
       " 'feature_unstacked_trackable_blizzard',\n",
       " 'feature_multilinear_sharpened_mouse',\n",
       " 'feature_autarkic_constabulary_dukedom',\n",
       " 'feature_christadelphian_euclidean_boon',\n",
       " 'feature_covalent_unreformed_frogbit',\n",
       " 'feature_basaltic_arid_scallion',\n",
       " 'feature_uncharged_unovercome_smolder',\n",
       " 'feature_leaky_maroon_pyrometry',\n",
       " 'feature_polaroid_squalliest_applause',\n",
       " 'feature_jerkwater_eustatic_electrocardiograph',\n",
       " 'feature_malacological_differential_defeated',\n",
       " 'feature_ambisexual_boiled_blunderer',\n",
       " 'feature_endangered_unthreaded_firebrick',\n",
       " 'feature_unextinct_smectic_isa',\n",
       " 'feature_kerygmatic_splashed_ziegfeld',\n",
       " 'feature_palatalized_unsucceeded_induration',\n",
       " 'feature_springlike_crackjaw_bheesty',\n",
       " 'feature_unweary_congolese_captain',\n",
       " 'feature_uncertified_myrmecological_nagger',\n",
       " 'feature_hemispherical_unabsolved_aeolipile',\n",
       " 'feature_glyptic_unrubbed_holloway',\n",
       " 'feature_rimmed_conditional_archipelago',\n",
       " 'feature_bleeding_arabesque_pneuma',\n",
       " 'feature_dipped_sent_giuseppe',\n",
       " 'feature_undivorced_unsatisfying_praetorium',\n",
       " 'feature_reclinate_cruciform_lilo',\n",
       " 'feature_dermal_extortive_inversion',\n",
       " 'feature_tiniest_rangiest_investment',\n",
       " 'feature_creedal_greediest_vibrant',\n",
       " 'feature_plausive_carboxyl_elaborator',\n",
       " 'feature_undemocratic_unrhymed_subarea',\n",
       " 'feature_theocratical_shredded_categorist',\n",
       " 'feature_hedonistic_entertaining_pelting',\n",
       " 'feature_placable_conscionable_mickey',\n",
       " 'feature_crawlier_residuary_biracialism',\n",
       " 'feature_close_abloom_boomlet',\n",
       " 'feature_virtual_standard_instigator',\n",
       " 'feature_hagiographical_swelling_homager',\n",
       " 'feature_stereo_orthotone_infernal',\n",
       " 'feature_brittle_chautauqua_elite',\n",
       " 'feature_antinomical_swart_coo',\n",
       " 'feature_thumblike_aniconic_plantagenet',\n",
       " 'feature_stentorian_contraband_swarajism',\n",
       " 'feature_coveted_finniest_lipogram',\n",
       " 'feature_cut_rouged_defilement',\n",
       " 'feature_nude_revived_unpredictability',\n",
       " 'feature_subject_shaggier_relapse',\n",
       " 'feature_fraternal_manx_tambourine',\n",
       " 'feature_clarified_mimic_slash',\n",
       " 'feature_invincible_unroofed_tetrachord',\n",
       " 'feature_phantasmagorial_lyophilized_chippendale',\n",
       " 'feature_deathy_hylomorphic_christine',\n",
       " 'feature_antediluvial_contributive_statecraft',\n",
       " 'feature_equalized_statuary_more',\n",
       " 'feature_difficile_oxalic_spheroid',\n",
       " 'feature_macrobiotic_benignant_eurasia',\n",
       " 'feature_secernent_condensed_lynchet',\n",
       " 'feature_ternary_plump_floridity',\n",
       " 'feature_sumatran_lobose_novice',\n",
       " 'feature_twilled_eliminable_orthoepy',\n",
       " 'feature_photolithographic_attenuate_serapeum',\n",
       " 'feature_umbonate_haired_grisette',\n",
       " 'feature_gobony_configured_judicatory',\n",
       " 'feature_ruthenic_pinchbeck_limitarian',\n",
       " 'feature_acoustical_infirm_ascent',\n",
       " 'feature_saclike_pulverizable_doornail',\n",
       " 'feature_shielded_specialized_goalie',\n",
       " 'feature_institutionalized_individualized_worcestershire',\n",
       " 'feature_unmentioned_peddling_arboretum',\n",
       " 'feature_gabby_glimmery_azalea',\n",
       " 'feature_saturate_unsentimental_allograph',\n",
       " 'feature_interdigital_sewn_glucagon',\n",
       " 'feature_watery_behaviorist_incitation',\n",
       " 'feature_unshuttered_curly_uvular',\n",
       " 'feature_bareheaded_satisfied_copartner',\n",
       " 'feature_unseasonable_weathered_med',\n",
       " 'feature_undersexed_agone_metaplasm',\n",
       " 'feature_septicemic_telangiectatic_flake',\n",
       " 'feature_correlative_nociceptive_development',\n",
       " 'feature_literate_treacly_altercation',\n",
       " 'feature_nipping_pinnate_attempter',\n",
       " 'feature_eradicable_douce_teleconference',\n",
       " 'feature_prettyish_lapsed_manifest',\n",
       " 'feature_hierologic_assault_candida',\n",
       " 'feature_pellicular_comeliest_charlatan',\n",
       " 'feature_cottony_ischaemic_venery',\n",
       " 'feature_undersealed_waxiest_floriculturist',\n",
       " 'feature_upturned_epicanthic_galilee',\n",
       " 'feature_tweedy_noncontroversial_poisoner',\n",
       " 'feature_extrorse_idling_vinificator',\n",
       " 'feature_wavier_estranged_handstand',\n",
       " 'feature_interjaculatory_anhedonic_lindisfarne',\n",
       " 'feature_unmechanized_completed_specializer',\n",
       " 'feature_residentiary_rollable_boaz',\n",
       " 'feature_hypertensive_aroused_urquhart',\n",
       " 'feature_seven_entomological_boothose',\n",
       " 'feature_lageniform_theodicean_terylene',\n",
       " 'feature_unattached_flowing_longfellow',\n",
       " 'feature_hypertensive_seared_adenauer',\n",
       " 'feature_cambial_bigoted_bacterioid',\n",
       " 'feature_attributable_shagged_nourishment',\n",
       " 'feature_randomized_dystonic_knar',\n",
       " 'feature_pedal_dissident_thummim',\n",
       " 'feature_submediant_serbonian_rangefinder',\n",
       " 'feature_philologic_errhine_nubbin',\n",
       " 'feature_unlike_guelfic_sculp',\n",
       " 'feature_theophanic_winded_passacaglia',\n",
       " 'feature_haploid_occluded_moral',\n",
       " 'feature_livelong_sounded_squirm',\n",
       " 'feature_mandibulate_whining_localizer',\n",
       " 'feature_heliotropic_inane_papistry',\n",
       " 'feature_treed_nomographic_trivet',\n",
       " 'feature_sulkier_inebriated_sadduceeism',\n",
       " 'feature_distorted_bit_frilling',\n",
       " 'feature_subovate_deicidal_brett',\n",
       " 'feature_devoted_straggly_charlotte',\n",
       " 'feature_unlike_creeping_mammock',\n",
       " 'feature_antarthritic_rhinocerotic_marquette',\n",
       " 'feature_resupine_pectic_marathonian',\n",
       " 'feature_madrigalian_distichal_otranto',\n",
       " 'feature_systematic_nappiest_bruiser',\n",
       " 'feature_pinioned_desiccated_renegade',\n",
       " 'feature_aliped_subclavicular_nasopharynx',\n",
       " 'feature_branched_dilatory_sunbelt',\n",
       " 'feature_biochemical_searching_sodalite',\n",
       " 'feature_unsealed_suffixal_babar',\n",
       " 'feature_forficate_martensitic_huckaback',\n",
       " 'feature_silver_handworked_scauper',\n",
       " 'feature_interpenetrative_enabling_elm',\n",
       " 'feature_wholesale_contrived_caracole',\n",
       " 'feature_wry_bursal_treadler',\n",
       " 'feature_obverse_plumy_ultramontanism',\n",
       " 'feature_zoochemical_brimful_hector',\n",
       " 'feature_mouldiest_clostridial_paper',\n",
       " 'feature_unabolished_monographical_egestion',\n",
       " 'feature_hawaiian_adrenocorticotropic_right',\n",
       " 'feature_preservable_panchromatic_roadhouse',\n",
       " 'feature_pozzolanic_keltic_nymphomania',\n",
       " 'feature_spiroid_chuffy_dachshund',\n",
       " 'feature_prefab_stabbing_declivity',\n",
       " 'feature_lethal_stringy_substantial',\n",
       " 'feature_lowermost_tetrastichic_transvestism',\n",
       " 'feature_huge_neoclassic_crossbencher',\n",
       " 'feature_unsensualized_classier_professionalisation',\n",
       " 'feature_weldable_beribboned_margate',\n",
       " 'feature_alleviatory_novercal_semivowel',\n",
       " 'feature_dwarfish_equestrian_vaporizer',\n",
       " 'feature_limnological_proboscidean_nomologist',\n",
       " 'feature_unlocked_tetraethyl_mobility',\n",
       " 'feature_contralto_unblushing_beowulf',\n",
       " 'feature_shouted_weary_hagberry',\n",
       " 'feature_unwarrantable_egotistic_guayule',\n",
       " 'feature_canonical_dermatographic_mellowing',\n",
       " 'feature_unaired_operose_lactoprotein',\n",
       " 'feature_halting_disguisable_syllabicity',\n",
       " 'feature_aristotelian_eurasian_nooky',\n",
       " 'feature_titillative_pledged_breccia',\n",
       " 'feature_parallelism_later_triennial',\n",
       " 'feature_cupulate_mettlesome_extensimeter',\n",
       " 'feature_lowliest_oblatory_sprattle',\n",
       " 'feature_fluorometric_guarded_dioxin',\n",
       " 'feature_enorm_taboo_abysm',\n",
       " 'feature_compliable_buccaneerish_lyddite',\n",
       " 'feature_sulpha_wiring_ambiance',\n",
       " 'feature_faeroese_inapposite_plum',\n",
       " 'feature_fake_lentoid_helotism',\n",
       " 'feature_gardant_irreverent_inferiority',\n",
       " 'feature_munificent_stupid_hitlerism',\n",
       " 'feature_driving_neurasthenic_perimysium',\n",
       " 'feature_arborescent_fungal_despiser',\n",
       " 'feature_unbenign_unpromising_aglet',\n",
       " 'feature_conscionable_insouciant_pariah',\n",
       " 'feature_inconsequential_scincoid_sextant',\n",
       " 'feature_boyish_ductile_ninety',\n",
       " 'feature_spongiest_sunbeamed_connolly',\n",
       " 'feature_unbagged_parliamentary_plough',\n",
       " 'feature_unshingled_dotier_bose',\n",
       " 'feature_unfathered_roofed_taskmaster',\n",
       " 'feature_unwatered_sightable_hardtack',\n",
       " 'feature_teriyaki_splashy_inaptitude',\n",
       " 'feature_frumpy_squishiest_burley',\n",
       " 'feature_archaean_seething_hoyle',\n",
       " 'feature_subsidiary_enzymatic_hedonist',\n",
       " 'feature_oblate_quivery_bottrop',\n",
       " 'feature_multicostate_undescended_monoacid',\n",
       " 'feature_gradely_dippy_gaol',\n",
       " ...]"
      ]
     },
     "execution_count": 45,
     "metadata": {},
     "output_type": "execute_result"
    }
   ],
   "source": [
    "lgb_all.feature_name_"
   ]
  },
  {
   "cell_type": "code",
   "execution_count": 24,
   "metadata": {},
   "outputs": [
    {
     "name": "stderr",
     "output_type": "stream",
     "text": [
      "/tmp/ipykernel_128009/3774019056.py:3: UserWarning: Boolean Series key will be reindexed to match DataFrame index.\n",
      "  lgb1.fit(df1[eras.isin(np.arange(1, 304, 4))][features], df1[eras.isin(np.arange(1, 304, 4))][target])\n",
      "/tmp/ipykernel_128009/3774019056.py:3: UserWarning: Boolean Series key will be reindexed to match DataFrame index.\n",
      "  lgb1.fit(df1[eras.isin(np.arange(1, 304, 4))][features], df1[eras.isin(np.arange(1, 304, 4))][target])\n",
      "/tmp/ipykernel_128009/3774019056.py:6: UserWarning: Boolean Series key will be reindexed to match DataFrame index.\n",
      "  lgb2.fit(df1[eras.isin(np.arange(2, 304, 4))][features], df1[eras.isin(np.arange(2, 304, 4))][target])\n",
      "/tmp/ipykernel_128009/3774019056.py:6: UserWarning: Boolean Series key will be reindexed to match DataFrame index.\n",
      "  lgb2.fit(df1[eras.isin(np.arange(2, 304, 4))][features], df1[eras.isin(np.arange(2, 304, 4))][target])\n",
      "/tmp/ipykernel_128009/3774019056.py:9: UserWarning: Boolean Series key will be reindexed to match DataFrame index.\n",
      "  lgb3.fit(df1[eras.isin(np.arange(3, 304, 4))][features], df1[eras.isin(np.arange(3, 304, 4))][target])\n",
      "/tmp/ipykernel_128009/3774019056.py:9: UserWarning: Boolean Series key will be reindexed to match DataFrame index.\n",
      "  lgb3.fit(df1[eras.isin(np.arange(3, 304, 4))][features], df1[eras.isin(np.arange(3, 304, 4))][target])\n",
      "/tmp/ipykernel_128009/3774019056.py:12: UserWarning: Boolean Series key will be reindexed to match DataFrame index.\n",
      "  lgb4.fit(df1[eras.isin(np.arange(4, 304, 4))][features], df1[eras.isin(np.arange(4, 304, 4))][target])\n",
      "/tmp/ipykernel_128009/3774019056.py:12: UserWarning: Boolean Series key will be reindexed to match DataFrame index.\n",
      "  lgb4.fit(df1[eras.isin(np.arange(4, 304, 4))][features], df1[eras.isin(np.arange(4, 304, 4))][target])\n"
     ]
    },
    {
     "data": {
      "text/plain": [
       "LGBMRegressor()"
      ]
     },
     "execution_count": 24,
     "metadata": {},
     "output_type": "execute_result"
    },
    {
     "name": "stdout",
     "output_type": "stream",
     "text": [
      "\r"
     ]
    }
   ],
   "source": [
    "# train models on subsamples eras in df1\n",
    "lgb1 = lightgbm.LGBMRegressor()\n",
    "lgb1.fit(df1[eras.isin(np.arange(1, 304, 4))][features], df1[eras.isin(np.arange(1, 304, 4))][target])\n",
    "\n",
    "lgb2 = lightgbm.LGBMRegressor()\n",
    "lgb2.fit(df1[eras.isin(np.arange(2, 304, 4))][features], df1[eras.isin(np.arange(2, 304, 4))][target])\n",
    "\n",
    "lgb3 = lightgbm.LGBMRegressor()\n",
    "lgb3.fit(df1[eras.isin(np.arange(3, 304, 4))][features], df1[eras.isin(np.arange(3, 304, 4))][target])\n",
    "\n",
    "lgb4 = lightgbm.LGBMRegressor()\n",
    "lgb4.fit(df1[eras.isin(np.arange(4, 304, 4))][features], df1[eras.isin(np.arange(4, 304, 4))][target])"
   ]
  },
  {
   "cell_type": "code",
   "execution_count": 25,
   "metadata": {},
   "outputs": [
    {
     "name": "stdout",
     "output_type": "stream",
     "text": [
      "\r"
     ]
    }
   ],
   "source": [
    "# calculate predictions for each model\n",
    "preds = [\n",
    "        pd.Series(model.predict(df2[features]), index=df2.index)\n",
    "    for model in [lgb_all, lgb1, lgb2, lgb3, lgb4]\n",
    "]"
   ]
  },
  {
   "cell_type": "code",
   "execution_count": 28,
   "metadata": {},
   "outputs": [
    {
     "data": {
      "text/plain": [
       "0.042100636854863906"
      ]
     },
     "execution_count": 28,
     "metadata": {},
     "output_type": "execute_result"
    },
    {
     "name": "stdout",
     "output_type": "stream",
     "text": [
      "\r"
     ]
    }
   ],
   "source": [
    "# numerai score of model trained on all eras of df1\n",
    "numerai_score(df2[target], preds[0])"
   ]
  },
  {
   "cell_type": "code",
   "execution_count": 29,
   "metadata": {},
   "outputs": [
    {
     "data": {
      "text/plain": [
       "0.04417881399166067"
      ]
     },
     "execution_count": 29,
     "metadata": {},
     "output_type": "execute_result"
    },
    {
     "name": "stdout",
     "output_type": "stream",
     "text": [
      "\r"
     ]
    }
   ],
   "source": [
    "# numerai score of ensemble of models trained on all subsampled eras of df1\n",
    "numerai_score(df2[target], pd.concat(preds, axis=1)[[1,2,3,4]].mean(axis=1))"
   ]
  },
  {
   "cell_type": "markdown",
   "metadata": {},
   "source": [
    "# Gotcha: eras are homogenous, but different from each other\n",
    "##  Random cross-validation will look much better than cross-validating by era\n",
    "\n",
    "Even for a simple linear model, taking a random shuffle reports a correlation of ~5.1%, but a time series split reports a lower score of ~2.6%"
   ]
  },
  {
   "cell_type": "markdown",
   "metadata": {},
   "source": [
    "# Gotcha: Eras are now overlapping!\n",
    "##  Even era-wise cross-validation will now have leakage!\n",
    "Eras are weekly (5 days), but the target is four weeks out (20 days). You can either use blocks of eras and purge the overlapping sections or subsample the eras (every 4th era) to make them not overlapping and prevent leakage"
   ]
  },
  {
   "cell_type": "code",
   "execution_count": 42,
   "metadata": {},
   "outputs": [
    {
     "name": "stdout",
     "output_type": "stream",
     "text": [
      "\r"
     ]
    }
   ],
   "source": [
    "# Subsample data to every 4th era to prevent overlapping eras\n",
    "df = df[eras.isin(np.arange(1, 575, 4))]\n",
    "df1 = df[eras<=eras.median()]\n",
    "df2 = df[eras>eras.median()]"
   ]
  },
  {
   "cell_type": "code",
   "execution_count": 43,
   "metadata": {},
   "outputs": [
    {
     "name": "stdout",
     "output_type": "stream",
     "text": [
      "\r"
     ]
    }
   ],
   "source": [
    "eras = eras[eras.isin(np.arange(1, 575, 4))]"
   ]
  },
  {
   "cell_type": "code",
   "execution_count": null,
   "metadata": {},
   "outputs": [],
   "source": [
    "df1.nan_to_num(X)\n",
    "df2.nan_to_num(X)\n",
    "df1.dropna()\n",
    "df1.dropna()"
   ]
  },
  {
   "cell_type": "code",
   "execution_count": 45,
   "metadata": {},
   "outputs": [
    {
     "name": "stdout",
     "output_type": "stream",
     "text": [
      "\r"
     ]
    }
   ],
   "source": [
    "#Now we have two dataframes, and need to define X, y and era twice. Let's do that now.\n",
    "#kopie Cross_validation notebook [38]\n",
    "\n",
    "\n",
    "X_train = df1[features].values\n",
    "\n",
    "X_test = df2[features].values\n",
    "\n",
    "y_train = df1.target_jerome_20.values\n",
    "\n",
    "y_test = df2.target_jerome_20.values\n",
    "\n",
    "era_train = df1.era.values\n",
    "\n",
    "era_test = df2.era.values"
   ]
  },
  {
   "cell_type": "code",
   "execution_count": 47,
   "metadata": {},
   "outputs": [
    {
     "name": "stderr",
     "output_type": "stream",
     "text": [
      "/tmp/ipykernel_92993/2722149778.py:1: FutureWarning: Dropping of nuisance columns in DataFrame reductions (with 'numeric_only=None') is deprecated; in a future version this will raise TypeError.  Select only valid columns before calling the reduction.\n",
      "  df1.fillna(df1.mean(), inplace=True)\n",
      "/tmp/ipykernel_92993/2722149778.py:1: SettingWithCopyWarning: \n",
      "A value is trying to be set on a copy of a slice from a DataFrame.\n",
      "Try using .loc[row_indexer,col_indexer] = value instead\n",
      "\n",
      "See the caveats in the documentation: https://pandas.pydata.org/pandas-docs/stable/user_guide/indexing.html#returning-a-view-versus-a-copy\n",
      "  df1.fillna(df1.mean(), inplace=True)\n",
      "/tmp/ipykernel_92993/2722149778.py:2: FutureWarning: Dropping of nuisance columns in DataFrame reductions (with 'numeric_only=None') is deprecated; in a future version this will raise TypeError.  Select only valid columns before calling the reduction.\n",
      "  df2.fillna(df2.mean(), inplace=True)\n",
      "/tmp/ipykernel_92993/2722149778.py:2: SettingWithCopyWarning: \n",
      "A value is trying to be set on a copy of a slice from a DataFrame.\n",
      "Try using .loc[row_indexer,col_indexer] = value instead\n",
      "\n",
      "See the caveats in the documentation: https://pandas.pydata.org/pandas-docs/stable/user_guide/indexing.html#returning-a-view-versus-a-copy\n",
      "  df2.fillna(df2.mean(), inplace=True)\n"
     ]
    },
    {
     "name": "stdout",
     "output_type": "stream",
     "text": [
      "\r"
     ]
    }
   ],
   "source": [
    "df1.fillna(df1.mean(), inplace=True)\n",
    "df2.fillna(df2.mean(), inplace=True)"
   ]
  },
  {
   "cell_type": "code",
   "execution_count": 48,
   "metadata": {},
   "outputs": [
    {
     "name": "stdout",
     "output_type": "stream",
     "text": [
      "\r"
     ]
    }
   ],
   "source": [
    "#import the model_selection module\n",
    "\n",
    "from sklearn import model_selection\n",
    "\n",
    "#define your cross-validation iterator\n",
    "\n",
    "CV = model_selection.GroupKFold(n_splits = 5)"
   ]
  },
  {
   "cell_type": "code",
   "execution_count": 49,
   "metadata": {},
   "outputs": [
    {
     "name": "stdout",
     "output_type": "stream",
     "text": [
      "\r"
     ]
    }
   ],
   "source": [
    "#We can now define a new variable which stores these row identifiers for algorithms to use.\n",
    "\n",
    "grp = list(CV.split(X = X_train, y = y_train,  groups = era_train))\n",
    "\n",
    "#what this line does is:\n",
    "\n",
    "#1 - define a new variable: grp = \n",
    "#2 - use the python 'list' function: list(\n",
    "#3 - within the list function, we use the .split() method on our group k-fold iterator, which we defined as CV: CV.split(\n",
    "#4 - within the .split() method, we defined the required parameters and closed the .split parenthesis: X = X_train, y = y_train, groups = era_train)\n",
    "#5 - we enclosed the list function: )\n",
    "\n",
    "#this is called nested function."
   ]
  },
  {
   "cell_type": "code",
   "execution_count": 14,
   "metadata": {},
   "outputs": [
    {
     "name": "stdout",
     "output_type": "stream",
     "text": [
      "                    era  data_type  feature_dichasial_hammier_spawner  \\\n",
      "id                                                                      \n",
      "n003bba8a98662e4  False      False                              False   \n",
      "n003bee128c2fcfc  False      False                              False   \n",
      "n0048ac83aff7194  False      False                              False   \n",
      "n00691bec80d3e02  False      False                              False   \n",
      "n00b8720a2fdc4f2  False      False                              False   \n",
      "...                 ...        ...                                ...   \n",
      "nffca5ac25673dd8  False      False                              False   \n",
      "nffd52bb5dd6afba  False      False                              False   \n",
      "nffed72498a8e3a9  False      False                              False   \n",
      "nfff95e6328556f7  False      False                              False   \n",
      "nfffd7597bd23140  False      False                              False   \n",
      "\n",
      "                  feature_rheumy_epistemic_prancer  \\\n",
      "id                                                   \n",
      "n003bba8a98662e4                             False   \n",
      "n003bee128c2fcfc                             False   \n",
      "n0048ac83aff7194                             False   \n",
      "n00691bec80d3e02                             False   \n",
      "n00b8720a2fdc4f2                             False   \n",
      "...                                            ...   \n",
      "nffca5ac25673dd8                             False   \n",
      "nffd52bb5dd6afba                             False   \n",
      "nffed72498a8e3a9                             False   \n",
      "nfff95e6328556f7                             False   \n",
      "nfffd7597bd23140                             False   \n",
      "\n",
      "                  feature_pert_performative_hormuz  \\\n",
      "id                                                   \n",
      "n003bba8a98662e4                             False   \n",
      "n003bee128c2fcfc                             False   \n",
      "n0048ac83aff7194                             False   \n",
      "n00691bec80d3e02                             False   \n",
      "n00b8720a2fdc4f2                             False   \n",
      "...                                            ...   \n",
      "nffca5ac25673dd8                             False   \n",
      "nffd52bb5dd6afba                             False   \n",
      "nffed72498a8e3a9                             False   \n",
      "nfff95e6328556f7                             False   \n",
      "nfffd7597bd23140                             False   \n",
      "\n",
      "                  feature_hillier_unpitied_theobromine  \\\n",
      "id                                                       \n",
      "n003bba8a98662e4                                 False   \n",
      "n003bee128c2fcfc                                 False   \n",
      "n0048ac83aff7194                                 False   \n",
      "n00691bec80d3e02                                 False   \n",
      "n00b8720a2fdc4f2                                 False   \n",
      "...                                                ...   \n",
      "nffca5ac25673dd8                                 False   \n",
      "nffd52bb5dd6afba                                 False   \n",
      "nffed72498a8e3a9                                 False   \n",
      "nfff95e6328556f7                                 False   \n",
      "nfffd7597bd23140                                 False   \n",
      "\n",
      "                  feature_perigean_bewitching_thruster  \\\n",
      "id                                                       \n",
      "n003bba8a98662e4                                 False   \n",
      "n003bee128c2fcfc                                 False   \n",
      "n0048ac83aff7194                                 False   \n",
      "n00691bec80d3e02                                 False   \n",
      "n00b8720a2fdc4f2                                 False   \n",
      "...                                                ...   \n",
      "nffca5ac25673dd8                                 False   \n",
      "nffd52bb5dd6afba                                 False   \n",
      "nffed72498a8e3a9                                 False   \n",
      "nfff95e6328556f7                                 False   \n",
      "nfffd7597bd23140                                 False   \n",
      "\n",
      "                  feature_renegade_undomestic_milord  \\\n",
      "id                                                     \n",
      "n003bba8a98662e4                               False   \n",
      "n003bee128c2fcfc                               False   \n",
      "n0048ac83aff7194                               False   \n",
      "n00691bec80d3e02                               False   \n",
      "n00b8720a2fdc4f2                               False   \n",
      "...                                              ...   \n",
      "nffca5ac25673dd8                               False   \n",
      "nffd52bb5dd6afba                               False   \n",
      "nffed72498a8e3a9                               False   \n",
      "nfff95e6328556f7                               False   \n",
      "nfffd7597bd23140                               False   \n",
      "\n",
      "                  feature_koranic_rude_corf  \\\n",
      "id                                            \n",
      "n003bba8a98662e4                      False   \n",
      "n003bee128c2fcfc                      False   \n",
      "n0048ac83aff7194                      False   \n",
      "n00691bec80d3e02                      False   \n",
      "n00b8720a2fdc4f2                      False   \n",
      "...                                     ...   \n",
      "nffca5ac25673dd8                      False   \n",
      "nffd52bb5dd6afba                      False   \n",
      "nffed72498a8e3a9                      False   \n",
      "nfff95e6328556f7                      False   \n",
      "nfffd7597bd23140                      False   \n",
      "\n",
      "                  feature_demisable_expiring_millepede  ...  target_paul_60  \\\n",
      "id                                                      ...                   \n",
      "n003bba8a98662e4                                 False  ...           False   \n",
      "n003bee128c2fcfc                                 False  ...           False   \n",
      "n0048ac83aff7194                                 False  ...           False   \n",
      "n00691bec80d3e02                                 False  ...           False   \n",
      "n00b8720a2fdc4f2                                 False  ...           False   \n",
      "...                                                ...  ...             ...   \n",
      "nffca5ac25673dd8                                 False  ...           False   \n",
      "nffd52bb5dd6afba                                 False  ...           False   \n",
      "nffed72498a8e3a9                                 False  ...           False   \n",
      "nfff95e6328556f7                                 False  ...           False   \n",
      "nfffd7597bd23140                                 False  ...           False   \n",
      "\n",
      "                  target_george_20  target_george_60  target_william_20  \\\n",
      "id                                                                        \n",
      "n003bba8a98662e4             False             False              False   \n",
      "n003bee128c2fcfc             False             False              False   \n",
      "n0048ac83aff7194             False             False              False   \n",
      "n00691bec80d3e02             False             False              False   \n",
      "n00b8720a2fdc4f2             False             False              False   \n",
      "...                            ...               ...                ...   \n",
      "nffca5ac25673dd8             False             False              False   \n",
      "nffd52bb5dd6afba             False             False              False   \n",
      "nffed72498a8e3a9             False             False              False   \n",
      "nfff95e6328556f7             False             False              False   \n",
      "nfffd7597bd23140             False             False              False   \n",
      "\n",
      "                  target_william_60  target_arthur_20  target_arthur_60  \\\n",
      "id                                                                        \n",
      "n003bba8a98662e4              False             False             False   \n",
      "n003bee128c2fcfc              False             False             False   \n",
      "n0048ac83aff7194              False             False             False   \n",
      "n00691bec80d3e02              False             False             False   \n",
      "n00b8720a2fdc4f2              False             False             False   \n",
      "...                             ...               ...               ...   \n",
      "nffca5ac25673dd8              False             False             False   \n",
      "nffd52bb5dd6afba              False             False             False   \n",
      "nffed72498a8e3a9              False             False             False   \n",
      "nfff95e6328556f7              False             False             False   \n",
      "nfffd7597bd23140              False             False             False   \n",
      "\n",
      "                  target_thomas_20  target_thomas_60  erano  \n",
      "id                                                           \n",
      "n003bba8a98662e4             False             False  False  \n",
      "n003bee128c2fcfc             False             False  False  \n",
      "n0048ac83aff7194             False             False  False  \n",
      "n00691bec80d3e02             False             False  False  \n",
      "n00b8720a2fdc4f2             False             False  False  \n",
      "...                            ...               ...    ...  \n",
      "nffca5ac25673dd8             False             False  False  \n",
      "nffd52bb5dd6afba             False             False  False  \n",
      "nffed72498a8e3a9             False             False  False  \n",
      "nfff95e6328556f7             False             False  False  \n",
      "nfffd7597bd23140             False             False  False  \n",
      "\n"
     ]
    },
    {
     "name": "stdout",
     "output_type": "stream",
     "text": [
      "[301127 rows x 1074 columns]\n",
      "\r"
     ]
    }
   ],
   "source": [
    "check_nan_in_df = df1.isnull()\n",
    "print (check_nan_in_df)"
   ]
  },
  {
   "cell_type": "code",
   "execution_count": 34,
   "metadata": {},
   "outputs": [
    {
     "name": "stdout",
     "output_type": "stream",
     "text": [
      "\r"
     ]
    }
   ],
   "source": [
    "pd.set_option('use_inf_as_na', True)"
   ]
  },
  {
   "cell_type": "code",
   "execution_count": 36,
   "metadata": {},
   "outputs": [
    {
     "data": {
      "text/html": [
       "<div>\n",
       "<style scoped>\n",
       "    .dataframe tbody tr th:only-of-type {\n",
       "        vertical-align: middle;\n",
       "    }\n",
       "\n",
       "    .dataframe tbody tr th {\n",
       "        vertical-align: top;\n",
       "    }\n",
       "\n",
       "    .dataframe thead th {\n",
       "        text-align: right;\n",
       "    }\n",
       "</style>\n",
       "<table border=\"1\" class=\"dataframe\">\n",
       "  <thead>\n",
       "    <tr style=\"text-align: right;\">\n",
       "      <th></th>\n",
       "      <th>era</th>\n",
       "      <th>data_type</th>\n",
       "      <th>feature_dichasial_hammier_spawner</th>\n",
       "      <th>feature_rheumy_epistemic_prancer</th>\n",
       "      <th>feature_pert_performative_hormuz</th>\n",
       "      <th>feature_hillier_unpitied_theobromine</th>\n",
       "      <th>feature_perigean_bewitching_thruster</th>\n",
       "      <th>feature_renegade_undomestic_milord</th>\n",
       "      <th>feature_koranic_rude_corf</th>\n",
       "      <th>feature_demisable_expiring_millepede</th>\n",
       "      <th>...</th>\n",
       "      <th>target_paul_60</th>\n",
       "      <th>target_george_20</th>\n",
       "      <th>target_george_60</th>\n",
       "      <th>target_william_20</th>\n",
       "      <th>target_william_60</th>\n",
       "      <th>target_arthur_20</th>\n",
       "      <th>target_arthur_60</th>\n",
       "      <th>target_thomas_20</th>\n",
       "      <th>target_thomas_60</th>\n",
       "      <th>erano</th>\n",
       "    </tr>\n",
       "    <tr>\n",
       "      <th>id</th>\n",
       "      <th></th>\n",
       "      <th></th>\n",
       "      <th></th>\n",
       "      <th></th>\n",
       "      <th></th>\n",
       "      <th></th>\n",
       "      <th></th>\n",
       "      <th></th>\n",
       "      <th></th>\n",
       "      <th></th>\n",
       "      <th></th>\n",
       "      <th></th>\n",
       "      <th></th>\n",
       "      <th></th>\n",
       "      <th></th>\n",
       "      <th></th>\n",
       "      <th></th>\n",
       "      <th></th>\n",
       "      <th></th>\n",
       "      <th></th>\n",
       "      <th></th>\n",
       "    </tr>\n",
       "  </thead>\n",
       "  <tbody>\n",
       "    <tr>\n",
       "      <th>n000381ad0c8af9b</th>\n",
       "      <td>0305</td>\n",
       "      <td>train</td>\n",
       "      <td>0</td>\n",
       "      <td>3</td>\n",
       "      <td>1</td>\n",
       "      <td>3</td>\n",
       "      <td>1</td>\n",
       "      <td>3</td>\n",
       "      <td>3</td>\n",
       "      <td>0</td>\n",
       "      <td>...</td>\n",
       "      <td>0.50</td>\n",
       "      <td>0.50</td>\n",
       "      <td>0.25</td>\n",
       "      <td>0.666667</td>\n",
       "      <td>0.500000</td>\n",
       "      <td>0.500000</td>\n",
       "      <td>0.500000</td>\n",
       "      <td>0.500000</td>\n",
       "      <td>0.500000</td>\n",
       "      <td>305</td>\n",
       "    </tr>\n",
       "    <tr>\n",
       "      <th>n000ac54b6e92b06</th>\n",
       "      <td>0305</td>\n",
       "      <td>train</td>\n",
       "      <td>1</td>\n",
       "      <td>2</td>\n",
       "      <td>1</td>\n",
       "      <td>2</td>\n",
       "      <td>1</td>\n",
       "      <td>2</td>\n",
       "      <td>4</td>\n",
       "      <td>1</td>\n",
       "      <td>...</td>\n",
       "      <td>0.75</td>\n",
       "      <td>0.75</td>\n",
       "      <td>0.50</td>\n",
       "      <td>0.833333</td>\n",
       "      <td>0.666667</td>\n",
       "      <td>0.666667</td>\n",
       "      <td>0.666667</td>\n",
       "      <td>0.500000</td>\n",
       "      <td>0.500000</td>\n",
       "      <td>305</td>\n",
       "    </tr>\n",
       "    <tr>\n",
       "      <th>n002da3f2943306f</th>\n",
       "      <td>0305</td>\n",
       "      <td>train</td>\n",
       "      <td>3</td>\n",
       "      <td>1</td>\n",
       "      <td>3</td>\n",
       "      <td>3</td>\n",
       "      <td>2</td>\n",
       "      <td>2</td>\n",
       "      <td>3</td>\n",
       "      <td>4</td>\n",
       "      <td>...</td>\n",
       "      <td>0.50</td>\n",
       "      <td>0.50</td>\n",
       "      <td>0.50</td>\n",
       "      <td>0.666667</td>\n",
       "      <td>0.666667</td>\n",
       "      <td>0.500000</td>\n",
       "      <td>0.500000</td>\n",
       "      <td>0.500000</td>\n",
       "      <td>0.500000</td>\n",
       "      <td>305</td>\n",
       "    </tr>\n",
       "    <tr>\n",
       "      <th>n003ce01108ee7fe</th>\n",
       "      <td>0305</td>\n",
       "      <td>train</td>\n",
       "      <td>3</td>\n",
       "      <td>2</td>\n",
       "      <td>4</td>\n",
       "      <td>2</td>\n",
       "      <td>1</td>\n",
       "      <td>4</td>\n",
       "      <td>2</td>\n",
       "      <td>3</td>\n",
       "      <td>...</td>\n",
       "      <td>0.50</td>\n",
       "      <td>0.50</td>\n",
       "      <td>0.50</td>\n",
       "      <td>0.333333</td>\n",
       "      <td>0.333333</td>\n",
       "      <td>0.333333</td>\n",
       "      <td>0.333333</td>\n",
       "      <td>0.333333</td>\n",
       "      <td>0.333333</td>\n",
       "      <td>305</td>\n",
       "    </tr>\n",
       "    <tr>\n",
       "      <th>n004a5425ef72d68</th>\n",
       "      <td>0305</td>\n",
       "      <td>train</td>\n",
       "      <td>4</td>\n",
       "      <td>0</td>\n",
       "      <td>4</td>\n",
       "      <td>0</td>\n",
       "      <td>0</td>\n",
       "      <td>0</td>\n",
       "      <td>4</td>\n",
       "      <td>3</td>\n",
       "      <td>...</td>\n",
       "      <td>0.50</td>\n",
       "      <td>0.50</td>\n",
       "      <td>0.50</td>\n",
       "      <td>0.833333</td>\n",
       "      <td>0.666667</td>\n",
       "      <td>0.666667</td>\n",
       "      <td>0.666667</td>\n",
       "      <td>0.500000</td>\n",
       "      <td>0.500000</td>\n",
       "      <td>305</td>\n",
       "    </tr>\n",
       "    <tr>\n",
       "      <th>...</th>\n",
       "      <td>...</td>\n",
       "      <td>...</td>\n",
       "      <td>...</td>\n",
       "      <td>...</td>\n",
       "      <td>...</td>\n",
       "      <td>...</td>\n",
       "      <td>...</td>\n",
       "      <td>...</td>\n",
       "      <td>...</td>\n",
       "      <td>...</td>\n",
       "      <td>...</td>\n",
       "      <td>...</td>\n",
       "      <td>...</td>\n",
       "      <td>...</td>\n",
       "      <td>...</td>\n",
       "      <td>...</td>\n",
       "      <td>...</td>\n",
       "      <td>...</td>\n",
       "      <td>...</td>\n",
       "      <td>...</td>\n",
       "      <td>...</td>\n",
       "    </tr>\n",
       "    <tr>\n",
       "      <th>nffc2d5e4b79a7ae</th>\n",
       "      <td>0573</td>\n",
       "      <td>train</td>\n",
       "      <td>1</td>\n",
       "      <td>2</td>\n",
       "      <td>3</td>\n",
       "      <td>2</td>\n",
       "      <td>3</td>\n",
       "      <td>2</td>\n",
       "      <td>2</td>\n",
       "      <td>1</td>\n",
       "      <td>...</td>\n",
       "      <td>0.50</td>\n",
       "      <td>0.00</td>\n",
       "      <td>0.50</td>\n",
       "      <td>0.166667</td>\n",
       "      <td>0.500000</td>\n",
       "      <td>0.166667</td>\n",
       "      <td>0.333333</td>\n",
       "      <td>0.333333</td>\n",
       "      <td>0.333333</td>\n",
       "      <td>573</td>\n",
       "    </tr>\n",
       "    <tr>\n",
       "      <th>nffc7d24176548a4</th>\n",
       "      <td>0573</td>\n",
       "      <td>train</td>\n",
       "      <td>4</td>\n",
       "      <td>2</td>\n",
       "      <td>3</td>\n",
       "      <td>4</td>\n",
       "      <td>2</td>\n",
       "      <td>0</td>\n",
       "      <td>3</td>\n",
       "      <td>2</td>\n",
       "      <td>...</td>\n",
       "      <td>0.25</td>\n",
       "      <td>0.50</td>\n",
       "      <td>0.25</td>\n",
       "      <td>0.500000</td>\n",
       "      <td>0.333333</td>\n",
       "      <td>0.500000</td>\n",
       "      <td>0.333333</td>\n",
       "      <td>0.500000</td>\n",
       "      <td>0.333333</td>\n",
       "      <td>573</td>\n",
       "    </tr>\n",
       "    <tr>\n",
       "      <th>nffc9844c1c7a6a9</th>\n",
       "      <td>0573</td>\n",
       "      <td>train</td>\n",
       "      <td>4</td>\n",
       "      <td>3</td>\n",
       "      <td>3</td>\n",
       "      <td>4</td>\n",
       "      <td>1</td>\n",
       "      <td>1</td>\n",
       "      <td>3</td>\n",
       "      <td>3</td>\n",
       "      <td>...</td>\n",
       "      <td>0.75</td>\n",
       "      <td>0.50</td>\n",
       "      <td>0.50</td>\n",
       "      <td>0.333333</td>\n",
       "      <td>0.500000</td>\n",
       "      <td>0.333333</td>\n",
       "      <td>0.500000</td>\n",
       "      <td>0.500000</td>\n",
       "      <td>0.500000</td>\n",
       "      <td>573</td>\n",
       "    </tr>\n",
       "    <tr>\n",
       "      <th>nffd79773f4109bb</th>\n",
       "      <td>0573</td>\n",
       "      <td>train</td>\n",
       "      <td>1</td>\n",
       "      <td>3</td>\n",
       "      <td>0</td>\n",
       "      <td>2</td>\n",
       "      <td>2</td>\n",
       "      <td>3</td>\n",
       "      <td>0</td>\n",
       "      <td>1</td>\n",
       "      <td>...</td>\n",
       "      <td>0.75</td>\n",
       "      <td>0.50</td>\n",
       "      <td>0.50</td>\n",
       "      <td>0.500000</td>\n",
       "      <td>0.500000</td>\n",
       "      <td>0.500000</td>\n",
       "      <td>0.500000</td>\n",
       "      <td>0.500000</td>\n",
       "      <td>0.500000</td>\n",
       "      <td>573</td>\n",
       "    </tr>\n",
       "    <tr>\n",
       "      <th>nfff87b21e4db902</th>\n",
       "      <td>0573</td>\n",
       "      <td>train</td>\n",
       "      <td>3</td>\n",
       "      <td>3</td>\n",
       "      <td>2</td>\n",
       "      <td>2</td>\n",
       "      <td>1</td>\n",
       "      <td>4</td>\n",
       "      <td>0</td>\n",
       "      <td>3</td>\n",
       "      <td>...</td>\n",
       "      <td>0.50</td>\n",
       "      <td>0.50</td>\n",
       "      <td>0.50</td>\n",
       "      <td>0.500000</td>\n",
       "      <td>0.500000</td>\n",
       "      <td>0.500000</td>\n",
       "      <td>0.500000</td>\n",
       "      <td>0.500000</td>\n",
       "      <td>0.500000</td>\n",
       "      <td>573</td>\n",
       "    </tr>\n",
       "  </tbody>\n",
       "</table>\n",
       "<p>302984 rows × 1074 columns</p>\n",
       "</div>"
      ],
      "text/plain": [
       "                   era data_type  feature_dichasial_hammier_spawner  \\\n",
       "id                                                                    \n",
       "n000381ad0c8af9b  0305     train                                  0   \n",
       "n000ac54b6e92b06  0305     train                                  1   \n",
       "n002da3f2943306f  0305     train                                  3   \n",
       "n003ce01108ee7fe  0305     train                                  3   \n",
       "n004a5425ef72d68  0305     train                                  4   \n",
       "...                ...       ...                                ...   \n",
       "nffc2d5e4b79a7ae  0573     train                                  1   \n",
       "nffc7d24176548a4  0573     train                                  4   \n",
       "nffc9844c1c7a6a9  0573     train                                  4   \n",
       "nffd79773f4109bb  0573     train                                  1   \n",
       "nfff87b21e4db902  0573     train                                  3   \n",
       "\n",
       "                  feature_rheumy_epistemic_prancer  \\\n",
       "id                                                   \n",
       "n000381ad0c8af9b                                 3   \n",
       "n000ac54b6e92b06                                 2   \n",
       "n002da3f2943306f                                 1   \n",
       "n003ce01108ee7fe                                 2   \n",
       "n004a5425ef72d68                                 0   \n",
       "...                                            ...   \n",
       "nffc2d5e4b79a7ae                                 2   \n",
       "nffc7d24176548a4                                 2   \n",
       "nffc9844c1c7a6a9                                 3   \n",
       "nffd79773f4109bb                                 3   \n",
       "nfff87b21e4db902                                 3   \n",
       "\n",
       "                  feature_pert_performative_hormuz  \\\n",
       "id                                                   \n",
       "n000381ad0c8af9b                                 1   \n",
       "n000ac54b6e92b06                                 1   \n",
       "n002da3f2943306f                                 3   \n",
       "n003ce01108ee7fe                                 4   \n",
       "n004a5425ef72d68                                 4   \n",
       "...                                            ...   \n",
       "nffc2d5e4b79a7ae                                 3   \n",
       "nffc7d24176548a4                                 3   \n",
       "nffc9844c1c7a6a9                                 3   \n",
       "nffd79773f4109bb                                 0   \n",
       "nfff87b21e4db902                                 2   \n",
       "\n",
       "                  feature_hillier_unpitied_theobromine  \\\n",
       "id                                                       \n",
       "n000381ad0c8af9b                                     3   \n",
       "n000ac54b6e92b06                                     2   \n",
       "n002da3f2943306f                                     3   \n",
       "n003ce01108ee7fe                                     2   \n",
       "n004a5425ef72d68                                     0   \n",
       "...                                                ...   \n",
       "nffc2d5e4b79a7ae                                     2   \n",
       "nffc7d24176548a4                                     4   \n",
       "nffc9844c1c7a6a9                                     4   \n",
       "nffd79773f4109bb                                     2   \n",
       "nfff87b21e4db902                                     2   \n",
       "\n",
       "                  feature_perigean_bewitching_thruster  \\\n",
       "id                                                       \n",
       "n000381ad0c8af9b                                     1   \n",
       "n000ac54b6e92b06                                     1   \n",
       "n002da3f2943306f                                     2   \n",
       "n003ce01108ee7fe                                     1   \n",
       "n004a5425ef72d68                                     0   \n",
       "...                                                ...   \n",
       "nffc2d5e4b79a7ae                                     3   \n",
       "nffc7d24176548a4                                     2   \n",
       "nffc9844c1c7a6a9                                     1   \n",
       "nffd79773f4109bb                                     2   \n",
       "nfff87b21e4db902                                     1   \n",
       "\n",
       "                  feature_renegade_undomestic_milord  \\\n",
       "id                                                     \n",
       "n000381ad0c8af9b                                   3   \n",
       "n000ac54b6e92b06                                   2   \n",
       "n002da3f2943306f                                   2   \n",
       "n003ce01108ee7fe                                   4   \n",
       "n004a5425ef72d68                                   0   \n",
       "...                                              ...   \n",
       "nffc2d5e4b79a7ae                                   2   \n",
       "nffc7d24176548a4                                   0   \n",
       "nffc9844c1c7a6a9                                   1   \n",
       "nffd79773f4109bb                                   3   \n",
       "nfff87b21e4db902                                   4   \n",
       "\n",
       "                  feature_koranic_rude_corf  \\\n",
       "id                                            \n",
       "n000381ad0c8af9b                          3   \n",
       "n000ac54b6e92b06                          4   \n",
       "n002da3f2943306f                          3   \n",
       "n003ce01108ee7fe                          2   \n",
       "n004a5425ef72d68                          4   \n",
       "...                                     ...   \n",
       "nffc2d5e4b79a7ae                          2   \n",
       "nffc7d24176548a4                          3   \n",
       "nffc9844c1c7a6a9                          3   \n",
       "nffd79773f4109bb                          0   \n",
       "nfff87b21e4db902                          0   \n",
       "\n",
       "                  feature_demisable_expiring_millepede  ...  target_paul_60  \\\n",
       "id                                                      ...                   \n",
       "n000381ad0c8af9b                                     0  ...            0.50   \n",
       "n000ac54b6e92b06                                     1  ...            0.75   \n",
       "n002da3f2943306f                                     4  ...            0.50   \n",
       "n003ce01108ee7fe                                     3  ...            0.50   \n",
       "n004a5425ef72d68                                     3  ...            0.50   \n",
       "...                                                ...  ...             ...   \n",
       "nffc2d5e4b79a7ae                                     1  ...            0.50   \n",
       "nffc7d24176548a4                                     2  ...            0.25   \n",
       "nffc9844c1c7a6a9                                     3  ...            0.75   \n",
       "nffd79773f4109bb                                     1  ...            0.75   \n",
       "nfff87b21e4db902                                     3  ...            0.50   \n",
       "\n",
       "                  target_george_20  target_george_60  target_william_20  \\\n",
       "id                                                                        \n",
       "n000381ad0c8af9b              0.50              0.25           0.666667   \n",
       "n000ac54b6e92b06              0.75              0.50           0.833333   \n",
       "n002da3f2943306f              0.50              0.50           0.666667   \n",
       "n003ce01108ee7fe              0.50              0.50           0.333333   \n",
       "n004a5425ef72d68              0.50              0.50           0.833333   \n",
       "...                            ...               ...                ...   \n",
       "nffc2d5e4b79a7ae              0.00              0.50           0.166667   \n",
       "nffc7d24176548a4              0.50              0.25           0.500000   \n",
       "nffc9844c1c7a6a9              0.50              0.50           0.333333   \n",
       "nffd79773f4109bb              0.50              0.50           0.500000   \n",
       "nfff87b21e4db902              0.50              0.50           0.500000   \n",
       "\n",
       "                  target_william_60  target_arthur_20  target_arthur_60  \\\n",
       "id                                                                        \n",
       "n000381ad0c8af9b           0.500000          0.500000          0.500000   \n",
       "n000ac54b6e92b06           0.666667          0.666667          0.666667   \n",
       "n002da3f2943306f           0.666667          0.500000          0.500000   \n",
       "n003ce01108ee7fe           0.333333          0.333333          0.333333   \n",
       "n004a5425ef72d68           0.666667          0.666667          0.666667   \n",
       "...                             ...               ...               ...   \n",
       "nffc2d5e4b79a7ae           0.500000          0.166667          0.333333   \n",
       "nffc7d24176548a4           0.333333          0.500000          0.333333   \n",
       "nffc9844c1c7a6a9           0.500000          0.333333          0.500000   \n",
       "nffd79773f4109bb           0.500000          0.500000          0.500000   \n",
       "nfff87b21e4db902           0.500000          0.500000          0.500000   \n",
       "\n",
       "                  target_thomas_20  target_thomas_60  erano  \n",
       "id                                                           \n",
       "n000381ad0c8af9b          0.500000          0.500000    305  \n",
       "n000ac54b6e92b06          0.500000          0.500000    305  \n",
       "n002da3f2943306f          0.500000          0.500000    305  \n",
       "n003ce01108ee7fe          0.333333          0.333333    305  \n",
       "n004a5425ef72d68          0.500000          0.500000    305  \n",
       "...                            ...               ...    ...  \n",
       "nffc2d5e4b79a7ae          0.333333          0.333333    573  \n",
       "nffc7d24176548a4          0.500000          0.333333    573  \n",
       "nffc9844c1c7a6a9          0.500000          0.500000    573  \n",
       "nffd79773f4109bb          0.500000          0.500000    573  \n",
       "nfff87b21e4db902          0.500000          0.500000    573  \n",
       "\n",
       "[302984 rows x 1074 columns]"
      ]
     },
     "execution_count": 36,
     "metadata": {},
     "output_type": "execute_result"
    },
    {
     "name": "stdout",
     "output_type": "stream",
     "text": [
      "\r"
     ]
    }
   ],
   "source": [
    "df1.replace([np.inf, -np.inf], np.nan)\n",
    "df2.replace([np.inf, -np.inf], np.nan)"
   ]
  },
  {
   "cell_type": "code",
   "execution_count": 29,
   "metadata": {},
   "outputs": [
    {
     "data": {
      "text/plain": [
       "era                                     0\n",
       "data_type                               0\n",
       "feature_dichasial_hammier_spawner       0\n",
       "feature_rheumy_epistemic_prancer        0\n",
       "feature_pert_performative_hormuz        0\n",
       "                                     ... \n",
       "target_arthur_20                       62\n",
       "target_arthur_60                     3280\n",
       "target_thomas_20                        0\n",
       "target_thomas_60                     2490\n",
       "erano                                   0\n",
       "Length: 1074, dtype: int64"
      ]
     },
     "execution_count": 29,
     "metadata": {},
     "output_type": "execute_result"
    },
    {
     "name": "stdout",
     "output_type": "stream",
     "text": [
      "\r"
     ]
    }
   ],
   "source": [
    "df1.isna().sum()"
   ]
  },
  {
   "cell_type": "code",
   "execution_count": 50,
   "metadata": {},
   "outputs": [
    {
     "name": "stderr",
     "output_type": "stream",
     "text": [
      "/home/mathiasvanaelten/miniconda3/lib/python3.8/site-packages/sklearn/model_selection/_validation.py:372: FitFailedWarning: \n",
      "20 fits failed out of a total of 20.\n",
      "The score on these train-test partitions for these parameters will be set to nan.\n",
      "If these failures are not expected, you can try to debug them by setting error_score='raise'.\n",
      "\n",
      "Below are more details about the failures:\n",
      "--------------------------------------------------------------------------------\n",
      "20 fits failed with the following error:\n",
      "Traceback (most recent call last):\n",
      "  File \"/home/mathiasvanaelten/miniconda3/lib/python3.8/site-packages/sklearn/model_selection/_validation.py\", line 680, in _fit_and_score\n",
      "    estimator.fit(X_train, y_train, **fit_params)\n",
      "  File \"/home/mathiasvanaelten/miniconda3/lib/python3.8/site-packages/sklearn/linear_model/_ridge.py\", line 1003, in fit\n",
      "    X, y = self._validate_data(\n",
      "  File \"/home/mathiasvanaelten/miniconda3/lib/python3.8/site-packages/sklearn/base.py\", line 581, in _validate_data\n",
      "    X, y = check_X_y(X, y, **check_params)\n",
      "  File \"/home/mathiasvanaelten/miniconda3/lib/python3.8/site-packages/sklearn/utils/validation.py\", line 979, in check_X_y\n",
      "    y = _check_y(y, multi_output=multi_output, y_numeric=y_numeric)\n",
      "  File \"/home/mathiasvanaelten/miniconda3/lib/python3.8/site-packages/sklearn/utils/validation.py\", line 989, in _check_y\n",
      "    y = check_array(\n",
      "  File \"/home/mathiasvanaelten/miniconda3/lib/python3.8/site-packages/sklearn/utils/validation.py\", line 800, in check_array\n",
      "    _assert_all_finite(array, allow_nan=force_all_finite == \"allow-nan\")\n",
      "  File \"/home/mathiasvanaelten/miniconda3/lib/python3.8/site-packages/sklearn/utils/validation.py\", line 114, in _assert_all_finite\n",
      "    raise ValueError(\n",
      "ValueError: Input contains NaN, infinity or a value too large for dtype('float32').\n",
      "\n",
      "  warnings.warn(some_fits_failed_message, FitFailedWarning)\n",
      "/home/mathiasvanaelten/miniconda3/lib/python3.8/site-packages/sklearn/model_selection/_search.py:969: UserWarning: One or more of the test scores are non-finite: [nan nan nan nan]\n",
      "  warnings.warn(\n"
     ]
    },
    {
     "ename": "ValueError",
     "evalue": "Input contains NaN, infinity or a value too large for dtype('float32').",
     "output_type": "error",
     "traceback": [
      "\u001b[0;31m---------------------------------------------------------------------------\u001b[0m",
      "\u001b[0;31mValueError\u001b[0m                                Traceback (most recent call last)",
      "Input \u001b[0;32mIn [50]\u001b[0m, in \u001b[0;36m<cell line: 4>\u001b[0;34m()\u001b[0m\n\u001b[1;32m      2\u001b[0m alphas \u001b[38;5;241m=\u001b[39m (\u001b[38;5;241m0.1\u001b[39m, \u001b[38;5;241m0.5\u001b[39m, \u001b[38;5;241m1.0\u001b[39m, \u001b[38;5;241m10.0\u001b[39m)\n\u001b[1;32m      3\u001b[0m REG1 \u001b[38;5;241m=\u001b[39m linear_model\u001b[38;5;241m.\u001b[39mRidgeCV(alphas \u001b[38;5;241m=\u001b[39m alphas, cv \u001b[38;5;241m=\u001b[39m grp)\n\u001b[0;32m----> 4\u001b[0m \u001b[43mREG1\u001b[49m\u001b[38;5;241;43m.\u001b[39;49m\u001b[43mfit\u001b[49m\u001b[43m(\u001b[49m\u001b[43mX_train\u001b[49m\u001b[43m,\u001b[49m\u001b[43m \u001b[49m\u001b[43my_train\u001b[49m\u001b[43m)\u001b[49m\n",
      "File \u001b[0;32m~/miniconda3/lib/python3.8/site-packages/sklearn/linear_model/_ridge.py:2053\u001b[0m, in \u001b[0;36m_BaseRidgeCV.fit\u001b[0;34m(self, X, y, sample_weight)\u001b[0m\n\u001b[1;32m   2042\u001b[0m model \u001b[38;5;241m=\u001b[39m RidgeClassifier \u001b[38;5;28;01mif\u001b[39;00m is_classifier(\u001b[38;5;28mself\u001b[39m) \u001b[38;5;28;01melse\u001b[39;00m Ridge\n\u001b[1;32m   2043\u001b[0m gs \u001b[38;5;241m=\u001b[39m GridSearchCV(\n\u001b[1;32m   2044\u001b[0m     model(\n\u001b[1;32m   2045\u001b[0m         fit_intercept\u001b[38;5;241m=\u001b[39m\u001b[38;5;28mself\u001b[39m\u001b[38;5;241m.\u001b[39mfit_intercept,\n\u001b[0;32m   (...)\u001b[0m\n\u001b[1;32m   2051\u001b[0m     scoring\u001b[38;5;241m=\u001b[39m\u001b[38;5;28mself\u001b[39m\u001b[38;5;241m.\u001b[39mscoring,\n\u001b[1;32m   2052\u001b[0m )\n\u001b[0;32m-> 2053\u001b[0m \u001b[43mgs\u001b[49m\u001b[38;5;241;43m.\u001b[39;49m\u001b[43mfit\u001b[49m\u001b[43m(\u001b[49m\u001b[43mX\u001b[49m\u001b[43m,\u001b[49m\u001b[43m \u001b[49m\u001b[43my\u001b[49m\u001b[43m,\u001b[49m\u001b[43m \u001b[49m\u001b[43msample_weight\u001b[49m\u001b[38;5;241;43m=\u001b[39;49m\u001b[43msample_weight\u001b[49m\u001b[43m)\u001b[49m\n\u001b[1;32m   2054\u001b[0m estimator \u001b[38;5;241m=\u001b[39m gs\u001b[38;5;241m.\u001b[39mbest_estimator_\n\u001b[1;32m   2055\u001b[0m \u001b[38;5;28mself\u001b[39m\u001b[38;5;241m.\u001b[39malpha_ \u001b[38;5;241m=\u001b[39m gs\u001b[38;5;241m.\u001b[39mbest_estimator_\u001b[38;5;241m.\u001b[39malpha\n",
      "File \u001b[0;32m~/miniconda3/lib/python3.8/site-packages/sklearn/model_selection/_search.py:926\u001b[0m, in \u001b[0;36mBaseSearchCV.fit\u001b[0;34m(self, X, y, groups, **fit_params)\u001b[0m\n\u001b[1;32m    924\u001b[0m refit_start_time \u001b[38;5;241m=\u001b[39m time\u001b[38;5;241m.\u001b[39mtime()\n\u001b[1;32m    925\u001b[0m \u001b[38;5;28;01mif\u001b[39;00m y \u001b[38;5;129;01mis\u001b[39;00m \u001b[38;5;129;01mnot\u001b[39;00m \u001b[38;5;28;01mNone\u001b[39;00m:\n\u001b[0;32m--> 926\u001b[0m     \u001b[38;5;28;43mself\u001b[39;49m\u001b[38;5;241;43m.\u001b[39;49m\u001b[43mbest_estimator_\u001b[49m\u001b[38;5;241;43m.\u001b[39;49m\u001b[43mfit\u001b[49m\u001b[43m(\u001b[49m\u001b[43mX\u001b[49m\u001b[43m,\u001b[49m\u001b[43m \u001b[49m\u001b[43my\u001b[49m\u001b[43m,\u001b[49m\u001b[43m \u001b[49m\u001b[38;5;241;43m*\u001b[39;49m\u001b[38;5;241;43m*\u001b[39;49m\u001b[43mfit_params\u001b[49m\u001b[43m)\u001b[49m\n\u001b[1;32m    927\u001b[0m \u001b[38;5;28;01melse\u001b[39;00m:\n\u001b[1;32m    928\u001b[0m     \u001b[38;5;28mself\u001b[39m\u001b[38;5;241m.\u001b[39mbest_estimator_\u001b[38;5;241m.\u001b[39mfit(X, \u001b[38;5;241m*\u001b[39m\u001b[38;5;241m*\u001b[39mfit_params)\n",
      "File \u001b[0;32m~/miniconda3/lib/python3.8/site-packages/sklearn/linear_model/_ridge.py:1003\u001b[0m, in \u001b[0;36mRidge.fit\u001b[0;34m(self, X, y, sample_weight)\u001b[0m\n\u001b[1;32m    983\u001b[0m \u001b[38;5;124;03m\"\"\"Fit Ridge regression model.\u001b[39;00m\n\u001b[1;32m    984\u001b[0m \n\u001b[1;32m    985\u001b[0m \u001b[38;5;124;03mParameters\u001b[39;00m\n\u001b[0;32m   (...)\u001b[0m\n\u001b[1;32m   1000\u001b[0m \u001b[38;5;124;03m    Fitted estimator.\u001b[39;00m\n\u001b[1;32m   1001\u001b[0m \u001b[38;5;124;03m\"\"\"\u001b[39;00m\n\u001b[1;32m   1002\u001b[0m _accept_sparse \u001b[38;5;241m=\u001b[39m _get_valid_accept_sparse(sparse\u001b[38;5;241m.\u001b[39missparse(X), \u001b[38;5;28mself\u001b[39m\u001b[38;5;241m.\u001b[39msolver)\n\u001b[0;32m-> 1003\u001b[0m X, y \u001b[38;5;241m=\u001b[39m \u001b[38;5;28;43mself\u001b[39;49m\u001b[38;5;241;43m.\u001b[39;49m\u001b[43m_validate_data\u001b[49m\u001b[43m(\u001b[49m\n\u001b[1;32m   1004\u001b[0m \u001b[43m    \u001b[49m\u001b[43mX\u001b[49m\u001b[43m,\u001b[49m\n\u001b[1;32m   1005\u001b[0m \u001b[43m    \u001b[49m\u001b[43my\u001b[49m\u001b[43m,\u001b[49m\n\u001b[1;32m   1006\u001b[0m \u001b[43m    \u001b[49m\u001b[43maccept_sparse\u001b[49m\u001b[38;5;241;43m=\u001b[39;49m\u001b[43m_accept_sparse\u001b[49m\u001b[43m,\u001b[49m\n\u001b[1;32m   1007\u001b[0m \u001b[43m    \u001b[49m\u001b[43mdtype\u001b[49m\u001b[38;5;241;43m=\u001b[39;49m\u001b[43m[\u001b[49m\u001b[43mnp\u001b[49m\u001b[38;5;241;43m.\u001b[39;49m\u001b[43mfloat64\u001b[49m\u001b[43m,\u001b[49m\u001b[43m \u001b[49m\u001b[43mnp\u001b[49m\u001b[38;5;241;43m.\u001b[39;49m\u001b[43mfloat32\u001b[49m\u001b[43m]\u001b[49m\u001b[43m,\u001b[49m\n\u001b[1;32m   1008\u001b[0m \u001b[43m    \u001b[49m\u001b[43mmulti_output\u001b[49m\u001b[38;5;241;43m=\u001b[39;49m\u001b[38;5;28;43;01mTrue\u001b[39;49;00m\u001b[43m,\u001b[49m\n\u001b[1;32m   1009\u001b[0m \u001b[43m    \u001b[49m\u001b[43my_numeric\u001b[49m\u001b[38;5;241;43m=\u001b[39;49m\u001b[38;5;28;43;01mTrue\u001b[39;49;00m\u001b[43m,\u001b[49m\n\u001b[1;32m   1010\u001b[0m \u001b[43m\u001b[49m\u001b[43m)\u001b[49m\n\u001b[1;32m   1011\u001b[0m \u001b[38;5;28;01mreturn\u001b[39;00m \u001b[38;5;28msuper\u001b[39m()\u001b[38;5;241m.\u001b[39mfit(X, y, sample_weight\u001b[38;5;241m=\u001b[39msample_weight)\n",
      "File \u001b[0;32m~/miniconda3/lib/python3.8/site-packages/sklearn/base.py:581\u001b[0m, in \u001b[0;36mBaseEstimator._validate_data\u001b[0;34m(self, X, y, reset, validate_separately, **check_params)\u001b[0m\n\u001b[1;32m    579\u001b[0m         y \u001b[38;5;241m=\u001b[39m check_array(y, \u001b[38;5;241m*\u001b[39m\u001b[38;5;241m*\u001b[39mcheck_y_params)\n\u001b[1;32m    580\u001b[0m     \u001b[38;5;28;01melse\u001b[39;00m:\n\u001b[0;32m--> 581\u001b[0m         X, y \u001b[38;5;241m=\u001b[39m \u001b[43mcheck_X_y\u001b[49m\u001b[43m(\u001b[49m\u001b[43mX\u001b[49m\u001b[43m,\u001b[49m\u001b[43m \u001b[49m\u001b[43my\u001b[49m\u001b[43m,\u001b[49m\u001b[43m \u001b[49m\u001b[38;5;241;43m*\u001b[39;49m\u001b[38;5;241;43m*\u001b[39;49m\u001b[43mcheck_params\u001b[49m\u001b[43m)\u001b[49m\n\u001b[1;32m    582\u001b[0m     out \u001b[38;5;241m=\u001b[39m X, y\n\u001b[1;32m    584\u001b[0m \u001b[38;5;28;01mif\u001b[39;00m \u001b[38;5;129;01mnot\u001b[39;00m no_val_X \u001b[38;5;129;01mand\u001b[39;00m check_params\u001b[38;5;241m.\u001b[39mget(\u001b[38;5;124m\"\u001b[39m\u001b[38;5;124mensure_2d\u001b[39m\u001b[38;5;124m\"\u001b[39m, \u001b[38;5;28;01mTrue\u001b[39;00m):\n",
      "File \u001b[0;32m~/miniconda3/lib/python3.8/site-packages/sklearn/utils/validation.py:979\u001b[0m, in \u001b[0;36mcheck_X_y\u001b[0;34m(X, y, accept_sparse, accept_large_sparse, dtype, order, copy, force_all_finite, ensure_2d, allow_nd, multi_output, ensure_min_samples, ensure_min_features, y_numeric, estimator)\u001b[0m\n\u001b[1;32m    962\u001b[0m     \u001b[38;5;28;01mraise\u001b[39;00m \u001b[38;5;167;01mValueError\u001b[39;00m(\u001b[38;5;124m\"\u001b[39m\u001b[38;5;124my cannot be None\u001b[39m\u001b[38;5;124m\"\u001b[39m)\n\u001b[1;32m    964\u001b[0m X \u001b[38;5;241m=\u001b[39m check_array(\n\u001b[1;32m    965\u001b[0m     X,\n\u001b[1;32m    966\u001b[0m     accept_sparse\u001b[38;5;241m=\u001b[39maccept_sparse,\n\u001b[0;32m   (...)\u001b[0m\n\u001b[1;32m    976\u001b[0m     estimator\u001b[38;5;241m=\u001b[39mestimator,\n\u001b[1;32m    977\u001b[0m )\n\u001b[0;32m--> 979\u001b[0m y \u001b[38;5;241m=\u001b[39m \u001b[43m_check_y\u001b[49m\u001b[43m(\u001b[49m\u001b[43my\u001b[49m\u001b[43m,\u001b[49m\u001b[43m \u001b[49m\u001b[43mmulti_output\u001b[49m\u001b[38;5;241;43m=\u001b[39;49m\u001b[43mmulti_output\u001b[49m\u001b[43m,\u001b[49m\u001b[43m \u001b[49m\u001b[43my_numeric\u001b[49m\u001b[38;5;241;43m=\u001b[39;49m\u001b[43my_numeric\u001b[49m\u001b[43m)\u001b[49m\n\u001b[1;32m    981\u001b[0m check_consistent_length(X, y)\n\u001b[1;32m    983\u001b[0m \u001b[38;5;28;01mreturn\u001b[39;00m X, y\n",
      "File \u001b[0;32m~/miniconda3/lib/python3.8/site-packages/sklearn/utils/validation.py:989\u001b[0m, in \u001b[0;36m_check_y\u001b[0;34m(y, multi_output, y_numeric)\u001b[0m\n\u001b[1;32m    987\u001b[0m \u001b[38;5;124;03m\"\"\"Isolated part of check_X_y dedicated to y validation\"\"\"\u001b[39;00m\n\u001b[1;32m    988\u001b[0m \u001b[38;5;28;01mif\u001b[39;00m multi_output:\n\u001b[0;32m--> 989\u001b[0m     y \u001b[38;5;241m=\u001b[39m \u001b[43mcheck_array\u001b[49m\u001b[43m(\u001b[49m\n\u001b[1;32m    990\u001b[0m \u001b[43m        \u001b[49m\u001b[43my\u001b[49m\u001b[43m,\u001b[49m\u001b[43m \u001b[49m\u001b[43maccept_sparse\u001b[49m\u001b[38;5;241;43m=\u001b[39;49m\u001b[38;5;124;43m\"\u001b[39;49m\u001b[38;5;124;43mcsr\u001b[39;49m\u001b[38;5;124;43m\"\u001b[39;49m\u001b[43m,\u001b[49m\u001b[43m \u001b[49m\u001b[43mforce_all_finite\u001b[49m\u001b[38;5;241;43m=\u001b[39;49m\u001b[38;5;28;43;01mTrue\u001b[39;49;00m\u001b[43m,\u001b[49m\u001b[43m \u001b[49m\u001b[43mensure_2d\u001b[49m\u001b[38;5;241;43m=\u001b[39;49m\u001b[38;5;28;43;01mFalse\u001b[39;49;00m\u001b[43m,\u001b[49m\u001b[43m \u001b[49m\u001b[43mdtype\u001b[49m\u001b[38;5;241;43m=\u001b[39;49m\u001b[38;5;28;43;01mNone\u001b[39;49;00m\n\u001b[1;32m    991\u001b[0m \u001b[43m    \u001b[49m\u001b[43m)\u001b[49m\n\u001b[1;32m    992\u001b[0m \u001b[38;5;28;01melse\u001b[39;00m:\n\u001b[1;32m    993\u001b[0m     y \u001b[38;5;241m=\u001b[39m column_or_1d(y, warn\u001b[38;5;241m=\u001b[39m\u001b[38;5;28;01mTrue\u001b[39;00m)\n",
      "File \u001b[0;32m~/miniconda3/lib/python3.8/site-packages/sklearn/utils/validation.py:800\u001b[0m, in \u001b[0;36mcheck_array\u001b[0;34m(array, accept_sparse, accept_large_sparse, dtype, order, copy, force_all_finite, ensure_2d, allow_nd, ensure_min_samples, ensure_min_features, estimator)\u001b[0m\n\u001b[1;32m    794\u001b[0m         \u001b[38;5;28;01mraise\u001b[39;00m \u001b[38;5;167;01mValueError\u001b[39;00m(\n\u001b[1;32m    795\u001b[0m             \u001b[38;5;124m\"\u001b[39m\u001b[38;5;124mFound array with dim \u001b[39m\u001b[38;5;132;01m%d\u001b[39;00m\u001b[38;5;124m. \u001b[39m\u001b[38;5;132;01m%s\u001b[39;00m\u001b[38;5;124m expected <= 2.\u001b[39m\u001b[38;5;124m\"\u001b[39m\n\u001b[1;32m    796\u001b[0m             \u001b[38;5;241m%\u001b[39m (array\u001b[38;5;241m.\u001b[39mndim, estimator_name)\n\u001b[1;32m    797\u001b[0m         )\n\u001b[1;32m    799\u001b[0m     \u001b[38;5;28;01mif\u001b[39;00m force_all_finite:\n\u001b[0;32m--> 800\u001b[0m         \u001b[43m_assert_all_finite\u001b[49m\u001b[43m(\u001b[49m\u001b[43marray\u001b[49m\u001b[43m,\u001b[49m\u001b[43m \u001b[49m\u001b[43mallow_nan\u001b[49m\u001b[38;5;241;43m=\u001b[39;49m\u001b[43mforce_all_finite\u001b[49m\u001b[43m \u001b[49m\u001b[38;5;241;43m==\u001b[39;49m\u001b[43m \u001b[49m\u001b[38;5;124;43m\"\u001b[39;49m\u001b[38;5;124;43mallow-nan\u001b[39;49m\u001b[38;5;124;43m\"\u001b[39;49m\u001b[43m)\u001b[49m\n\u001b[1;32m    802\u001b[0m \u001b[38;5;28;01mif\u001b[39;00m ensure_min_samples \u001b[38;5;241m>\u001b[39m \u001b[38;5;241m0\u001b[39m:\n\u001b[1;32m    803\u001b[0m     n_samples \u001b[38;5;241m=\u001b[39m _num_samples(array)\n",
      "File \u001b[0;32m~/miniconda3/lib/python3.8/site-packages/sklearn/utils/validation.py:114\u001b[0m, in \u001b[0;36m_assert_all_finite\u001b[0;34m(X, allow_nan, msg_dtype)\u001b[0m\n\u001b[1;32m    107\u001b[0m     \u001b[38;5;28;01mif\u001b[39;00m (\n\u001b[1;32m    108\u001b[0m         allow_nan\n\u001b[1;32m    109\u001b[0m         \u001b[38;5;129;01mand\u001b[39;00m np\u001b[38;5;241m.\u001b[39misinf(X)\u001b[38;5;241m.\u001b[39many()\n\u001b[1;32m    110\u001b[0m         \u001b[38;5;129;01mor\u001b[39;00m \u001b[38;5;129;01mnot\u001b[39;00m allow_nan\n\u001b[1;32m    111\u001b[0m         \u001b[38;5;129;01mand\u001b[39;00m \u001b[38;5;129;01mnot\u001b[39;00m np\u001b[38;5;241m.\u001b[39misfinite(X)\u001b[38;5;241m.\u001b[39mall()\n\u001b[1;32m    112\u001b[0m     ):\n\u001b[1;32m    113\u001b[0m         type_err \u001b[38;5;241m=\u001b[39m \u001b[38;5;124m\"\u001b[39m\u001b[38;5;124minfinity\u001b[39m\u001b[38;5;124m\"\u001b[39m \u001b[38;5;28;01mif\u001b[39;00m allow_nan \u001b[38;5;28;01melse\u001b[39;00m \u001b[38;5;124m\"\u001b[39m\u001b[38;5;124mNaN, infinity\u001b[39m\u001b[38;5;124m\"\u001b[39m\n\u001b[0;32m--> 114\u001b[0m         \u001b[38;5;28;01mraise\u001b[39;00m \u001b[38;5;167;01mValueError\u001b[39;00m(\n\u001b[1;32m    115\u001b[0m             msg_err\u001b[38;5;241m.\u001b[39mformat(\n\u001b[1;32m    116\u001b[0m                 type_err, msg_dtype \u001b[38;5;28;01mif\u001b[39;00m msg_dtype \u001b[38;5;129;01mis\u001b[39;00m \u001b[38;5;129;01mnot\u001b[39;00m \u001b[38;5;28;01mNone\u001b[39;00m \u001b[38;5;28;01melse\u001b[39;00m X\u001b[38;5;241m.\u001b[39mdtype\n\u001b[1;32m    117\u001b[0m             )\n\u001b[1;32m    118\u001b[0m         )\n\u001b[1;32m    119\u001b[0m \u001b[38;5;66;03m# for object dtype data, we only check for NaNs (GH-13254)\u001b[39;00m\n\u001b[1;32m    120\u001b[0m \u001b[38;5;28;01melif\u001b[39;00m X\u001b[38;5;241m.\u001b[39mdtype \u001b[38;5;241m==\u001b[39m np\u001b[38;5;241m.\u001b[39mdtype(\u001b[38;5;124m\"\u001b[39m\u001b[38;5;124mobject\u001b[39m\u001b[38;5;124m\"\u001b[39m) \u001b[38;5;129;01mand\u001b[39;00m \u001b[38;5;129;01mnot\u001b[39;00m allow_nan:\n",
      "\u001b[0;31mValueError\u001b[0m: Input contains NaN, infinity or a value too large for dtype('float32')."
     ]
    },
    {
     "name": "stdout",
     "output_type": "stream",
     "text": [
      "\r"
     ]
    }
   ],
   "source": [
    "from sklearn import linear_model\n",
    "alphas = (0.1, 0.5, 1.0, 10.0)\n",
    "REG1 = linear_model.RidgeCV(alphas = alphas, cv = grp)\n",
    "REG1.fit(X_train, y_train)"
   ]
  },
  {
   "cell_type": "code",
   "execution_count": 9,
   "metadata": {},
   "outputs": [
    {
     "name": "stdout",
     "output_type": "stream",
     "text": [
      "\r"
     ]
    }
   ],
   "source": [
    "# Because the TimeSeriesSplit class in sklearn does not use groups and won't respect era boundries, we implement\n",
    "# a version that will\n",
    "\n",
    "from sklearn.model_selection._split import _BaseKFold, indexable, _num_samples\n",
    "\n",
    "class TimeSeriesSplitGroups(_BaseKFold):\n",
    "    def __init__(self, n_splits=5):\n",
    "        super().__init__(n_splits, shuffle=False, random_state=None)\n",
    "\n",
    "    def split(self, X, y=None, groups=None):\n",
    "        X, y, groups = indexable(X, y, groups)\n",
    "        n_samples = _num_samples(X)\n",
    "        n_splits = self.n_splits\n",
    "        n_folds = n_splits + 1\n",
    "        group_list = np.unique(groups)\n",
    "        n_groups = len(group_list)\n",
    "        if n_folds > n_groups:\n",
    "            raise ValueError(\n",
    "                (\"Cannot have number of folds ={0} greater\"\n",
    "                 \" than the number of samples: {1}.\").format(n_folds,\n",
    "                                                             n_groups))\n",
    "        indices = np.arange(n_samples)\n",
    "        test_size = (n_groups // n_folds)\n",
    "        test_starts = range(test_size + n_groups % n_folds,\n",
    "                            n_groups, test_size)\n",
    "        test_starts = list(test_starts)[::-1]\n",
    "        for test_start in test_starts:\n",
    "            \n",
    "            yield (indices[groups.isin(group_list[:test_start])],\n",
    "                   indices[groups.isin(group_list[test_start:test_start + test_size])])\n"
   ]
  },
  {
   "cell_type": "code",
   "execution_count": 10,
   "metadata": {},
   "outputs": [
    {
     "name": "stdout",
     "output_type": "stream",
     "text": [
      "\r"
     ]
    }
   ],
   "source": [
    "crossvalidators = [\n",
    "    model_selection.KFold(5),\n",
    "    model_selection.KFold(5, shuffle=True),\n",
    "    model_selection.GroupKFold(5),\n",
    "    TimeSeriesSplitGroups(5)\n",
    "]"
   ]
  },
  {
   "cell_type": "code",
   "execution_count": 11,
   "metadata": {},
   "outputs": [
    {
     "name": "stdout",
     "output_type": "stream",
     "text": [
      "\r"
     ]
    }
   ],
   "source": [
    "def correlation_score(y_true, y_pred):\n",
    "    return np.corrcoef(y_true, y_pred)[0,1]"
   ]
  },
  {
   "cell_type": "code",
   "execution_count": null,
   "metadata": {},
   "outputs": [
    {
     "name": "stdout",
     "output_type": "stream",
     "text": [
      "KFold(n_splits=5, random_state=None, shuffle=False)\n"
     ]
    }
   ],
   "source": [
    "for cv in crossvalidators:\n",
    "    print(cv)\n",
    "    print(np.mean(\n",
    "            model_selection.cross_val_score(\n",
    "            linear_model.LinearRegression(),\n",
    "            df[features],\n",
    "            df[target],\n",
    "            cv=cv,\n",
    "            n_jobs=1,\n",
    "            groups=eras,\n",
    "            scoring=metrics.make_scorer(correlation_score, greater_is_better=True)\n",
    "        )))\n",
    "    print()"
   ]
  },
  {
   "cell_type": "markdown",
   "metadata": {},
   "source": [
    "# Gotcha:  {0, 1} are noticeably different from {0.25, 0.75}\n",
    "This makes training a classifier one-versus-rest behave counterintuitively.\n",
    "\n",
    "Specifically, a multinomial classifier seem to learn how to pick out extreme targets, and their predictions are the most correlated"
   ]
  },
  {
   "cell_type": "code",
   "execution_count": 104,
   "metadata": {},
   "outputs": [
    {
     "name": "stderr",
     "output_type": "stream",
     "text": [
      "/home/mathiasvanaelten/miniconda3/lib/python3.8/site-packages/sklearn/linear_model/_sag.py:352: ConvergenceWarning: The max_iter was reached which means the coef_ did not converge\n",
      "  warnings.warn(\n"
     ]
    },
    {
     "data": {
      "text/plain": [
       "0.4997027832110704"
      ]
     },
     "execution_count": 104,
     "metadata": {},
     "output_type": "execute_result"
    },
    {
     "name": "stdout",
     "output_type": "stream",
     "text": [
      "\r"
     ]
    }
   ],
   "source": [
    "# Train a standard logistic regression as a classifier\n",
    "logistic = linear_model.LogisticRegression(multi_class='multinomial', solver='saga')\n",
    "logistic.fit(df1[features], (df1[target]*4).astype(int))\n",
    "logistic.score(df1[features], (df1[target]*4).astype(int))"
   ]
  },
  {
   "cell_type": "code",
   "execution_count": 105,
   "metadata": {},
   "outputs": [
    {
     "data": {
      "text/plain": [
       "array([[ 1.        ,  0.33340721, -0.83285677,  0.27459881,  0.75232883],\n",
       "       [ 0.33340721,  1.        , -0.58463168,  0.17494748,  0.21275609],\n",
       "       [-0.83285677, -0.58463168,  1.        , -0.62027599, -0.83121278],\n",
       "       [ 0.27459881,  0.17494748, -0.62027599,  1.        ,  0.37187111],\n",
       "       [ 0.75232883,  0.21275609, -0.83121278,  0.37187111,  1.        ]])"
      ]
     },
     "execution_count": 105,
     "metadata": {},
     "output_type": "execute_result"
    },
    {
     "data": {
      "image/png": "[encoded data removed]",
      "text/plain": [
       "<Figure size 432x288 with 1 Axes>"
      ]
     },
     "metadata": {
      "needs_background": "light"
     },
     "output_type": "display_data"
    },
    {
     "name": "stdout",
     "output_type": "stream",
     "text": [
      "\r"
     ]
    }
   ],
   "source": [
    "# The first and last class are highly correlated\n",
    "corrs=np.corrcoef(logistic.predict_proba(df2[features]).T)\n",
    "plt.imshow(corrs, vmin=-1, vmax=1, cmap=\"RdYlGn\")\n",
    "corrs"
   ]
  },
  {
   "cell_type": "code",
   "execution_count": 106,
   "metadata": {},
   "outputs": [
    {
     "data": {
      "text/plain": [
       "0.034821680070081934"
      ]
     },
     "execution_count": 106,
     "metadata": {},
     "output_type": "execute_result"
    },
    {
     "name": "stdout",
     "output_type": "stream",
     "text": [
      "\r"
     ]
    }
   ],
   "source": [
    "# Out-of-sample correlation is 3.5%\n",
    "preds = pd.Series(logistic.predict_proba(df2[features]).dot(logistic.classes_), index=df2.index)\n",
    "numerai_score(df2[target], preds)"
   ]
  },
  {
   "cell_type": "code",
   "execution_count": 107,
   "metadata": {},
   "outputs": [
    {
     "data": {
      "text/plain": [
       "0.03469890516866748"
      ]
     },
     "execution_count": 107,
     "metadata": {},
     "output_type": "execute_result"
    },
    {
     "name": "stdout",
     "output_type": "stream",
     "text": [
      "\r"
     ]
    }
   ],
   "source": [
    "# A standard linear model has a slightly lower correlation out-of-sample\n",
    "linear = linear_model.LinearRegression()\n",
    "linear.fit(df1[features], df1[target])\n",
    "linear.score(df2[features], df2[target])\n",
    "preds = pd.Series(linear.predict(df2[features]), index=df2.index)\n",
    "numerai_score(df2[target], preds)"
   ]
  },
  {
   "cell_type": "markdown",
   "metadata": {},
   "source": [
    "## Eras can be more or less applicable to other eras\n",
    "You can test this be splitting the eras into blocks of 15, training on each block, and evaluating on each other block."
   ]
  },
  {
   "cell_type": "code",
   "execution_count": 108,
   "metadata": {},
   "outputs": [
    {
     "name": "stdout",
     "output_type": "stream",
     "text": [
      "\r"
     ]
    }
   ],
   "source": [
    "# convert the subsampled era labels to continuous integers\n",
    "eras_sub = (eras-1)//4"
   ]
  },
  {
   "cell_type": "code",
   "execution_count": 109,
   "metadata": {},
   "outputs": [
    {
     "data": {
      "text/plain": [
       "60     71000\n",
       "105    69251\n",
       "120    67610\n",
       "45     67268\n",
       "90     66300\n",
       "75     61933\n",
       "30     61333\n",
       "15     54214\n",
       "0      42920\n",
       "135    42282\n",
       "Name: erano, dtype: int64"
      ]
     },
     "execution_count": 109,
     "metadata": {},
     "output_type": "execute_result"
    },
    {
     "name": "stdout",
     "output_type": "stream",
     "text": [
      "\r"
     ]
    }
   ],
   "source": [
    "eras15 = (eras_sub // 15) * 15\n",
    "eras15.value_counts()"
   ]
  },
  {
   "cell_type": "code",
   "execution_count": 111,
   "metadata": {},
   "outputs": [
    {
     "name": "stdout",
     "output_type": "stream",
     "text": [
      "0\n",
      "15\n",
      "30\n",
      "45\n",
      "60\n",
      "75\n",
      "90\n",
      "105\n",
      "120\n",
      "135\n",
      "\r"
     ]
    }
   ],
   "source": [
    "results15 = []\n",
    "for train_era, tdf in df.groupby(eras15):\n",
    "    print(train_era)\n",
    "    model = linear_model.LinearRegression()\n",
    "    model.fit(tdf[features], tdf[target])\n",
    "    for test_era, tdf in df.groupby(eras15):\n",
    "        results15.append([\n",
    "            train_era,\n",
    "            test_era,\n",
    "            correlation_score(tdf[target], model.predict(tdf[features]))\n",
    "        ])"
   ]
  },
  {
   "cell_type": "code",
   "execution_count": 112,
   "metadata": {},
   "outputs": [
    {
     "data": {
      "text/html": [
       "<div>\n",
       "<style scoped>\n",
       "    .dataframe tbody tr th:only-of-type {\n",
       "        vertical-align: middle;\n",
       "    }\n",
       "\n",
       "    .dataframe tbody tr th {\n",
       "        vertical-align: top;\n",
       "    }\n",
       "\n",
       "    .dataframe thead th {\n",
       "        text-align: right;\n",
       "    }\n",
       "</style>\n",
       "<table border=\"1\" class=\"dataframe\">\n",
       "  <thead>\n",
       "    <tr style=\"text-align: right;\">\n",
       "      <th>test_era</th>\n",
       "      <th>0</th>\n",
       "      <th>15</th>\n",
       "      <th>30</th>\n",
       "      <th>45</th>\n",
       "      <th>60</th>\n",
       "      <th>75</th>\n",
       "      <th>90</th>\n",
       "      <th>105</th>\n",
       "      <th>120</th>\n",
       "      <th>135</th>\n",
       "    </tr>\n",
       "    <tr>\n",
       "      <th>train_era</th>\n",
       "      <th></th>\n",
       "      <th></th>\n",
       "      <th></th>\n",
       "      <th></th>\n",
       "      <th></th>\n",
       "      <th></th>\n",
       "      <th></th>\n",
       "      <th></th>\n",
       "      <th></th>\n",
       "      <th></th>\n",
       "    </tr>\n",
       "  </thead>\n",
       "  <tbody>\n",
       "    <tr>\n",
       "      <th>0</th>\n",
       "      <td>0.194912</td>\n",
       "      <td>-0.005616</td>\n",
       "      <td>0.002637</td>\n",
       "      <td>-0.000948</td>\n",
       "      <td>-0.005057</td>\n",
       "      <td>-0.001581</td>\n",
       "      <td>-0.002018</td>\n",
       "      <td>0.002041</td>\n",
       "      <td>-0.001608</td>\n",
       "      <td>-0.003278</td>\n",
       "    </tr>\n",
       "    <tr>\n",
       "      <th>15</th>\n",
       "      <td>0.046597</td>\n",
       "      <td>0.170731</td>\n",
       "      <td>0.029354</td>\n",
       "      <td>-0.002530</td>\n",
       "      <td>-0.000635</td>\n",
       "      <td>0.000452</td>\n",
       "      <td>0.005381</td>\n",
       "      <td>-0.004351</td>\n",
       "      <td>0.002867</td>\n",
       "      <td>-0.000605</td>\n",
       "    </tr>\n",
       "    <tr>\n",
       "      <th>30</th>\n",
       "      <td>0.039442</td>\n",
       "      <td>0.032834</td>\n",
       "      <td>0.156106</td>\n",
       "      <td>0.001567</td>\n",
       "      <td>-0.000632</td>\n",
       "      <td>-0.002577</td>\n",
       "      <td>-0.006966</td>\n",
       "      <td>0.005070</td>\n",
       "      <td>-0.002746</td>\n",
       "      <td>0.001488</td>\n",
       "    </tr>\n",
       "    <tr>\n",
       "      <th>45</th>\n",
       "      <td>0.023706</td>\n",
       "      <td>0.030027</td>\n",
       "      <td>0.035148</td>\n",
       "      <td>0.148862</td>\n",
       "      <td>0.010267</td>\n",
       "      <td>0.021071</td>\n",
       "      <td>0.027580</td>\n",
       "      <td>0.015904</td>\n",
       "      <td>0.031235</td>\n",
       "      <td>0.023599</td>\n",
       "    </tr>\n",
       "    <tr>\n",
       "      <th>60</th>\n",
       "      <td>0.012483</td>\n",
       "      <td>0.006499</td>\n",
       "      <td>0.009025</td>\n",
       "      <td>0.016631</td>\n",
       "      <td>0.149721</td>\n",
       "      <td>0.019196</td>\n",
       "      <td>0.010640</td>\n",
       "      <td>0.013178</td>\n",
       "      <td>0.010896</td>\n",
       "      <td>0.011191</td>\n",
       "    </tr>\n",
       "    <tr>\n",
       "      <th>75</th>\n",
       "      <td>0.025632</td>\n",
       "      <td>0.018699</td>\n",
       "      <td>0.031269</td>\n",
       "      <td>0.016043</td>\n",
       "      <td>0.018465</td>\n",
       "      <td>0.166712</td>\n",
       "      <td>0.026355</td>\n",
       "      <td>0.017058</td>\n",
       "      <td>0.021476</td>\n",
       "      <td>0.011319</td>\n",
       "    </tr>\n",
       "    <tr>\n",
       "      <th>90</th>\n",
       "      <td>0.044773</td>\n",
       "      <td>0.025483</td>\n",
       "      <td>0.024667</td>\n",
       "      <td>0.024288</td>\n",
       "      <td>0.005159</td>\n",
       "      <td>0.029021</td>\n",
       "      <td>0.153414</td>\n",
       "      <td>0.024905</td>\n",
       "      <td>0.021045</td>\n",
       "      <td>0.016773</td>\n",
       "    </tr>\n",
       "    <tr>\n",
       "      <th>105</th>\n",
       "      <td>0.029213</td>\n",
       "      <td>0.027908</td>\n",
       "      <td>0.018279</td>\n",
       "      <td>0.012079</td>\n",
       "      <td>0.008206</td>\n",
       "      <td>0.016061</td>\n",
       "      <td>0.027251</td>\n",
       "      <td>0.143886</td>\n",
       "      <td>0.023365</td>\n",
       "      <td>0.009489</td>\n",
       "    </tr>\n",
       "    <tr>\n",
       "      <th>120</th>\n",
       "      <td>0.033693</td>\n",
       "      <td>0.036589</td>\n",
       "      <td>0.018515</td>\n",
       "      <td>0.030187</td>\n",
       "      <td>0.007597</td>\n",
       "      <td>0.026739</td>\n",
       "      <td>0.023073</td>\n",
       "      <td>0.028707</td>\n",
       "      <td>0.144769</td>\n",
       "      <td>0.030703</td>\n",
       "    </tr>\n",
       "    <tr>\n",
       "      <th>135</th>\n",
       "      <td>0.024917</td>\n",
       "      <td>0.012725</td>\n",
       "      <td>0.011641</td>\n",
       "      <td>0.019961</td>\n",
       "      <td>0.004650</td>\n",
       "      <td>0.011544</td>\n",
       "      <td>0.013249</td>\n",
       "      <td>0.010797</td>\n",
       "      <td>0.025249</td>\n",
       "      <td>0.184200</td>\n",
       "    </tr>\n",
       "  </tbody>\n",
       "</table>\n",
       "</div>"
      ],
      "text/plain": [
       "test_era        0         15        30        45        60        75   \\\n",
       "train_era                                                               \n",
       "0          0.194912 -0.005616  0.002637 -0.000948 -0.005057 -0.001581   \n",
       "15         0.046597  0.170731  0.029354 -0.002530 -0.000635  0.000452   \n",
       "30         0.039442  0.032834  0.156106  0.001567 -0.000632 -0.002577   \n",
       "45         0.023706  0.030027  0.035148  0.148862  0.010267  0.021071   \n",
       "60         0.012483  0.006499  0.009025  0.016631  0.149721  0.019196   \n",
       "75         0.025632  0.018699  0.031269  0.016043  0.018465  0.166712   \n",
       "90         0.044773  0.025483  0.024667  0.024288  0.005159  0.029021   \n",
       "105        0.029213  0.027908  0.018279  0.012079  0.008206  0.016061   \n",
       "120        0.033693  0.036589  0.018515  0.030187  0.007597  0.026739   \n",
       "135        0.024917  0.012725  0.011641  0.019961  0.004650  0.011544   \n",
       "\n",
       "test_era        90        105       120       135  \n",
       "train_era                                          \n",
       "0         -0.002018  0.002041 -0.001608 -0.003278  \n",
       "15         0.005381 -0.004351  0.002867 -0.000605  \n",
       "30        -0.006966  0.005070 -0.002746  0.001488  \n",
       "45         0.027580  0.015904  0.031235  0.023599  \n",
       "60         0.010640  0.013178  0.010896  0.011191  \n",
       "75         0.026355  0.017058  0.021476  0.011319  \n",
       "90         0.153414  0.024905  0.021045  0.016773  \n",
       "105        0.027251  0.143886  0.023365  0.009489  \n",
       "120        0.023073  0.028707  0.144769  0.030703  \n",
       "135        0.013249  0.010797  0.025249  0.184200  "
      ]
     },
     "execution_count": 112,
     "metadata": {},
     "output_type": "execute_result"
    },
    {
     "name": "stdout",
     "output_type": "stream",
     "text": [
      "\r"
     ]
    }
   ],
   "source": [
    "results_df = pd.DataFrame(\n",
    "    results15,\n",
    "    columns=[\"train_era\", \"test_era\", \"score\"]\n",
    ").pivot(index=\"train_era\", columns=\"test_era\", values=\"score\")\n",
    "results_df"
   ]
  },
  {
   "cell_type": "code",
   "execution_count": 113,
   "metadata": {},
   "outputs": [
    {
     "data": {
      "text/plain": [
       "<matplotlib.image.AxesImage at 0x7ef3cfba7040>"
      ]
     },
     "execution_count": 113,
     "metadata": {},
     "output_type": "execute_result"
    },
    {
     "data": {
      "image/png": "[encoded data removed]",
      "text/plain": [
       "<Figure size 1080x1080 with 1 Axes>"
      ]
     },
     "metadata": {
      "needs_background": "light"
     },
     "output_type": "display_data"
    },
    {
     "name": "stdout",
     "output_type": "stream",
     "text": [
      "\r"
     ]
    }
   ],
   "source": [
    "# Each row here is the training block of eras, each column is a testing block of eras.\n",
    "# Note that there is a period in the early groups that does not seem to be relevant to other eras, and the\n",
    "# overall performance seems to decrease a bit over time.\n",
    "plt.figure(figsize=(15,15))\n",
    "plt.imshow(results_df, vmin=-0.04, vmax=0.04, cmap=\"RdYlGn\")"
   ]
  },
  {
   "cell_type": "markdown",
   "metadata": {
    "pycharm": {
     "name": "#%% md\n"
    }
   },
   "source": [
    "Here is an advanced paper that talks about generalization.\n",
    "Eras can be thought about in the same way that \"distributions\" or \"environments\" are talked about here\n",
    "https://arxiv.org/pdf/1907.02893.pdf"
   ]
  },
  {
   "cell_type": "markdown",
   "metadata": {},
   "source": [
    "## Gotcha: Since the signal-to-noise ratio is so low, models can take many more iterations than expected, and have scarily high in-sample performance"
   ]
  },
  {
   "cell_type": "code",
   "execution_count": 114,
   "metadata": {},
   "outputs": [
    {
     "name": "stdout",
     "output_type": "stream",
     "text": [
      "\r"
     ]
    }
   ],
   "source": [
    "def our_score(preds, dtrain):\n",
    "    return \"score\", -np.corrcoef(preds, dtrain.get_label())[0,1], False\n",
    "\n",
    "df1 = df[eras<=eras.median()]\n",
    "df2 = df[eras>eras.median()]"
   ]
  },
  {
   "cell_type": "code",
   "execution_count": 115,
   "metadata": {},
   "outputs": [
    {
     "name": "stdout",
     "output_type": "stream",
     "text": [
      "\r"
     ]
    }
   ],
   "source": [
    "dtrain = lightgbm.Dataset(df1[features], df1[target])\n",
    "dtest = lightgbm.Dataset(df2[features], df2[target])\n",
    "dall = lightgbm.Dataset(df[features], df[target])"
   ]
  },
  {
   "cell_type": "code",
   "execution_count": 116,
   "metadata": {
    "scrolled": false
   },
   "outputs": [
    {
     "name": "stderr",
     "output_type": "stream",
     "text": [
      "/home/mathiasvanaelten/miniconda3/lib/python3.8/site-packages/lightgbm/engine.py:239: UserWarning: 'verbose_eval' argument is deprecated and will be removed in a future release of LightGBM. Pass 'log_evaluation()' callback via 'callbacks' argument instead.\n",
      "  _log_warning(\"'verbose_eval' argument is deprecated and will be removed in a future release of LightGBM. \"\n",
      "/home/mathiasvanaelten/miniconda3/lib/python3.8/site-packages/lightgbm/engine.py:260: UserWarning: 'evals_result' argument is deprecated and will be removed in a future release of LightGBM. Pass 'record_evaluation()' callback via 'callbacks' argument instead.\n",
      "  _log_warning(\"'evals_result' argument is deprecated and will be removed in a future release of LightGBM. \"\n"
     ]
    },
    {
     "name": "stdout",
     "output_type": "stream",
     "text": [
      "[LightGBM] [Warning] Auto-choosing col-wise multi-threading, the overhead of testing was 0.825171 seconds.\n",
      "You can set `force_col_wise=true` to remove the overhead.\n",
      "[LightGBM] [Info] Total Bins 5250\n",
      "[LightGBM] [Info] Number of data points in the train set: 305247, number of used features: 1050\n",
      "[LightGBM] [Info] Start training from score 0.499998\n",
      "[20]\ttrain's l2: 0.0498386\ttrain's score: -0.0696572\ttest's l2: 0.0499211\ttest's score: -0.042272\n",
      "[40]\ttrain's l2: 0.0497466\ttrain's score: -0.0845498\ttest's l2: 0.0499021\ttest's score: -0.0449487\n",
      "[60]\ttrain's l2: 0.0496736\ttrain's score: -0.0950992\ttest's l2: 0.049894\ttest's score: -0.0462429\n",
      "[80]\ttrain's l2: 0.0496094\ttrain's score: -0.103748\ttest's l2: 0.0498883\ttest's score: -0.0474028\n",
      "[100]\ttrain's l2: 0.0495503\ttrain's score: -0.111415\ttest's l2: 0.049883\ttest's score: -0.0485958\n",
      "[120]\ttrain's l2: 0.0494963\ttrain's score: -0.118318\ttest's l2: 0.0498832\ttest's score: -0.0487773\n",
      "[140]\ttrain's l2: 0.0494427\ttrain's score: -0.124419\ttest's l2: 0.0498826\ttest's score: -0.0492182\n",
      "[160]\ttrain's l2: 0.0493929\ttrain's score: -0.12975\ttest's l2: 0.0498849\ttest's score: -0.0492456\n",
      "[180]\ttrain's l2: 0.0493438\ttrain's score: -0.135098\ttest's l2: 0.0498857\ttest's score: -0.0495008\n",
      "[200]\ttrain's l2: 0.0492992\ttrain's score: -0.139802\ttest's l2: 0.0498864\ttest's score: -0.0497836\n",
      "[220]\ttrain's l2: 0.0492556\ttrain's score: -0.144227\ttest's l2: 0.049888\ttest's score: -0.0499265\n",
      "[240]\ttrain's l2: 0.0492132\ttrain's score: -0.148465\ttest's l2: 0.0498893\ttest's score: -0.0501424\n",
      "[260]\ttrain's l2: 0.0491713\ttrain's score: -0.152511\ttest's l2: 0.0498917\ttest's score: -0.0502095\n",
      "[280]\ttrain's l2: 0.0491288\ttrain's score: -0.156449\ttest's l2: 0.0498947\ttest's score: -0.0502408\n",
      "[LightGBM] [Warning] No further splits with positive gain, best gain: -inf\n",
      "[300]\ttrain's l2: 0.0490897\ttrain's score: -0.160258\ttest's l2: 0.0498965\ttest's score: -0.0503664\n",
      "[320]\ttrain's l2: 0.0490502\ttrain's score: -0.163728\ttest's l2: 0.0498975\ttest's score: -0.0507012\n",
      "[340]\ttrain's l2: 0.0490115\ttrain's score: -0.167201\ttest's l2: 0.0499019\ttest's score: -0.0505273\n",
      "[360]\ttrain's l2: 0.0489723\ttrain's score: -0.170573\ttest's l2: 0.0499006\ttest's score: -0.051169\n",
      "[380]\ttrain's l2: 0.0489356\ttrain's score: -0.173804\ttest's l2: 0.0499038\ttest's score: -0.0510981\n",
      "[400]\ttrain's l2: 0.0488994\ttrain's score: -0.177039\ttest's l2: 0.0499082\ttest's score: -0.0509207\n",
      "[420]\ttrain's l2: 0.0488637\ttrain's score: -0.180099\ttest's l2: 0.0499135\ttest's score: -0.0505648\n",
      "[440]\ttrain's l2: 0.0488284\ttrain's score: -0.182793\ttest's l2: 0.0499169\ttest's score: -0.0505659\n",
      "[460]\ttrain's l2: 0.0487914\ttrain's score: -0.186067\ttest's l2: 0.0499181\ttest's score: -0.0508391\n",
      "[480]\ttrain's l2: 0.0487565\ttrain's score: -0.18906\ttest's l2: 0.0499207\ttest's score: -0.0508337\n",
      "[500]\ttrain's l2: 0.048721\ttrain's score: -0.192284\ttest's l2: 0.0499246\ttest's score: -0.0506581\n"
     ]
    },
    {
     "data": {
      "text/plain": [
       "<AxesSubplot:>"
      ]
     },
     "execution_count": 116,
     "metadata": {},
     "output_type": "execute_result"
    },
    {
     "data": {
      "image/png": "[encoded data removed]",
      "text/plain": [
       "<Figure size 432x288 with 1 Axes>"
      ]
     },
     "metadata": {
      "needs_background": "light"
     },
     "output_type": "display_data"
    },
    {
     "name": "stdout",
     "output_type": "stream",
     "text": [
      "\r"
     ]
    }
   ],
   "source": [
    "param = {\n",
    "    'max_depth':3,\n",
    "    'eta':0.1,\n",
    "    'objective':'regression',\n",
    "    'metric':'mse',\n",
    "    'nthread': -1,\n",
    "}\n",
    "evals_result = {}\n",
    "bst = lightgbm.train(\n",
    "    params=param,\n",
    "    train_set=dtrain,\n",
    "    feval=our_score,\n",
    "    num_boost_round=500,\n",
    "    valid_sets=[dtrain, dtest],\n",
    "    valid_names=['train', 'test'],\n",
    "    evals_result=evals_result,\n",
    "    verbose_eval=20,\n",
    ")\n",
    "\n",
    "(-pd.DataFrame({k: v['score'] for k,v in evals_result.items()})).plot(ylim=[0,0.25])"
   ]
  },
  {
   "cell_type": "markdown",
   "metadata": {},
   "source": [
    "# The results are sensitive to the choice of parameters, which should be picked through cross-validation"
   ]
  },
  {
   "cell_type": "code",
   "execution_count": 7,
   "metadata": {},
   "outputs": [
    {
     "name": "stdout",
     "output_type": "stream",
     "text": [
      "\r"
     ]
    }
   ],
   "source": [
    "df1 = df[eras<=eras.median()]\n",
    "df2 = df[eras>eras.median()]"
   ]
  },
  {
   "cell_type": "code",
   "execution_count": 8,
   "metadata": {},
   "outputs": [
    {
     "name": "stdout",
     "output_type": "stream",
     "text": [
      "\r"
     ]
    }
   ],
   "source": [
    "models = [\n",
    "    linear_model.LinearRegression(),\n",
    "] + [\n",
    "    linear_model.ElasticNet(alpha=alpha)\n",
    "    for alpha in [0.01, 0.005, 0.002, 0.001, 0.0005, 0.0002, 0.0001, 0.00005, 0.00002, 0.00001]\n",
    "] + [\n",
    "    lightgbm.LGBMRegressor(n_jobs=-1),\n",
    "    lightgbm.LGBMRegressor(n_jobs=-1, learning_rate=0.01, n_estimators=600),\n",
    "    lightgbm.LGBMRegressor(n_jobs=-1, colsample_bytree=0.1, learning_rate=0.01, n_estimators=600),\n",
    "    lightgbm.LGBMRegressor(n_jobs=-1, colsample_bytree=0.1, learning_rate=0.01, n_estimators=300, max_depth=5),\n",
    "    lightgbm.LGBMRegressor(n_jobs=-1, colsample_bytree=0.1, learning_rate=0.001, n_estimators=300, max_depth=5),\n",
    "]"
   ]
  },
  {
   "cell_type": "code",
   "execution_count": 9,
   "metadata": {
    "scrolled": true
   },
   "outputs": [
    {
     "name": "stdout",
     "output_type": "stream",
     "text": [
      " --  LinearRegression()\n",
      "outsample: 0.037630665987238784, insample: 0.0818882351441888\n",
      "\n",
      " --  ElasticNet(alpha=0.01)\n",
      "outsample: 0.02465964740612436, insample: 0.03214147307436695\n",
      "\n",
      " --  ElasticNet(alpha=0.005)\n",
      "outsample: 0.03691560482738873, insample: 0.04894157968342135\n",
      "\n",
      " --  ElasticNet(alpha=0.002)\n",
      "outsample: 0.043074978685822385, insample: 0.06094062544711397\n",
      "\n",
      " --  ElasticNet(alpha=0.001)\n",
      "outsample: 0.04449992085387888, insample: 0.0674467522545089\n",
      "\n",
      " --  ElasticNet(alpha=0.0005)\n",
      "outsample: 0.043965690481420704, insample: 0.07155680192020843\n",
      "\n",
      " --  ElasticNet(alpha=0.0002)\n",
      "outsample: 0.04210980675060572, insample: 0.07722858915144301\n",
      "\n",
      " --  ElasticNet(alpha=0.0001)\n"
     ]
    },
    {
     "name": "stderr",
     "output_type": "stream",
     "text": [
      "/home/mathiasvanaelten/miniconda3/lib/python3.8/site-packages/sklearn/linear_model/_coordinate_descent.py:647: ConvergenceWarning: Objective did not converge. You might want to increase the number of iterations, check the scale of the features or consider increasing regularisation. Duality gap: 3.645e+01, tolerance: 6.043e+00\n",
      "  model = cd_fast.enet_coordinate_descent(\n"
     ]
    },
    {
     "name": "stdout",
     "output_type": "stream",
     "text": [
      "outsample: 0.040371760683154255, insample: 0.0800985482458065\n",
      "\n",
      " --  ElasticNet(alpha=5e-05)\n"
     ]
    },
    {
     "name": "stderr",
     "output_type": "stream",
     "text": [
      "/home/mathiasvanaelten/miniconda3/lib/python3.8/site-packages/sklearn/linear_model/_coordinate_descent.py:647: ConvergenceWarning: Objective did not converge. You might want to increase the number of iterations, check the scale of the features or consider increasing regularisation. Duality gap: 6.781e+02, tolerance: 6.043e+00\n",
      "  model = cd_fast.enet_coordinate_descent(\n"
     ]
    },
    {
     "name": "stdout",
     "output_type": "stream",
     "text": [
      "outsample: 0.039172499165090656, insample: 0.08133767504574355\n",
      "\n",
      " --  ElasticNet(alpha=2e-05)\n"
     ]
    },
    {
     "name": "stderr",
     "output_type": "stream",
     "text": [
      "/home/mathiasvanaelten/miniconda3/lib/python3.8/site-packages/sklearn/linear_model/_coordinate_descent.py:647: ConvergenceWarning: Objective did not converge. You might want to increase the number of iterations, check the scale of the features or consider increasing regularisation. Duality gap: 5.028e+03, tolerance: 6.043e+00\n",
      "  model = cd_fast.enet_coordinate_descent(\n"
     ]
    },
    {
     "name": "stdout",
     "output_type": "stream",
     "text": [
      "outsample: 0.038327611534411304, insample: 0.0817924577801703\n",
      "\n",
      " --  ElasticNet(alpha=1e-05)\n"
     ]
    },
    {
     "name": "stderr",
     "output_type": "stream",
     "text": [
      "/home/mathiasvanaelten/miniconda3/lib/python3.8/site-packages/sklearn/linear_model/_coordinate_descent.py:647: ConvergenceWarning: Objective did not converge. You might want to increase the number of iterations, check the scale of the features or consider increasing regularisation. Duality gap: 9.715e+03, tolerance: 6.043e+00\n",
      "  model = cd_fast.enet_coordinate_descent(\n"
     ]
    },
    {
     "name": "stdout",
     "output_type": "stream",
     "text": [
      "outsample: 0.03801470380318886, insample: 0.08187114995322652\n",
      "\n",
      " --  LGBMRegressor()\n",
      "outsample: 0.04710080326547761, insample: 0.19282716278047016\n",
      "\n",
      " --  LGBMRegressor(learning_rate=0.01, n_estimators=600)\n",
      "outsample: 0.04881140826892164, insample: 0.1673920826169473\n",
      "\n",
      " --  LGBMRegressor(colsample_bytree=0.1, learning_rate=0.01, n_estimators=600)\n",
      "outsample: 0.05122975710911491, insample: 0.15476393692311702\n",
      "\n",
      " --  LGBMRegressor(colsample_bytree=0.1, learning_rate=0.01, max_depth=5,\n",
      "              n_estimators=300)\n",
      "outsample: 0.04935690883789484, insample: 0.11534809586854712\n",
      "\n",
      " --  LGBMRegressor(colsample_bytree=0.1, learning_rate=0.001, max_depth=5,\n",
      "              n_estimators=300)\n",
      "outsample: 0.04591506013507559, insample: 0.09140856861854056\n",
      "\n",
      "\r"
     ]
    }
   ],
   "source": [
    "for model in models:\n",
    "    print(\" -- \", model)   \n",
    "    model.fit(df1[features], df1[target])\n",
    "    outsample = numerai_score(df2[target], pd.Series(model.predict(df2[features]), index=df2.index))\n",
    "    insample = numerai_score(df1[target], pd.Series(model.predict(df1[features]), index=df1.index))\n",
    "    print(\n",
    "        f\"outsample: {outsample}, insample: {insample}\"\n",
    "    )\n",
    "    print()"
   ]
  },
  {
   "cell_type": "markdown",
   "metadata": {},
   "source": [
    "## Gotcha: Models with large exposures to individual features tend to perform poorly or inconsistently out of sample ## \n"
   ]
  },
  {
   "cell_type": "code",
   "execution_count": 6,
   "metadata": {},
   "outputs": [
    {
     "name": "stdout",
     "output_type": "stream",
     "text": [
      "\r"
     ]
    }
   ],
   "source": [
    "import numpy as np\n",
    "import scipy"
   ]
  },
  {
   "cell_type": "code",
   "execution_count": null,
   "metadata": {},
   "outputs": [],
   "source": [
    "# Train a standard xgboost on half the train eras\n",
    "lgb = lightgbm.LGBMRegressor(n_estimators=800, max_depth=5, learning_rate=0.01, n_jobs=-1)\n",
    "lgb.fit(df_r[features], df_r[target])\n",
    "lgb_preds = lgb.predict(df_r[features])\n",
    "df_tour['prediction'] =  lgb.predict(df_tour[features])"
   ]
  },
  {
   "cell_type": "code",
   "execution_count": null,
   "metadata": {},
   "outputs": [],
   "source": [
    "# Instantiate Numerai API again but with API keys for submission\n",
    "PUBLIC_KEY = ''\n",
    "PRIVATE_KEY = ''\n",
    "\n",
    "napi = NumerAPI(PUBLIC_KEY, PRIVATE_KEY)\n",
    "current_round = napi.get_current_round()\n",
    "print(\"ROUND NUMBER: \", current_round)"
   ]
  },
  {
   "cell_type": "code",
   "execution_count": null,
   "metadata": {},
   "outputs": [],
   "source": [
    "# Format prediction CSV for submission\n",
    "prediction_df = df_tour.reset_index()[['id', 'prediction']]\n",
    "prediction_df[['id', 'prediction']].to_csv(f'round{current_round}_tour_model_LGBM800_predictions.csv', index=False) # Important to name your CSV file so you know wh"
   ]
  },
  {
   "cell_type": "code",
   "execution_count": null,
   "metadata": {},
   "outputs": [],
   "source": [
    "model_id = ''\n",
    "napi.upload_predictions(f'round{current_round}_tour_model_LGBM800_predictions.csv', model_id=model_id, version=2)"
   ]
  },
  {
   "cell_type": "markdown",
   "metadata": {},
   "source": [
    "### Our predictions have correlation < -0.4 and > 0.20 for some single features!\n",
    "Sure hope those features continue to act as they have in the past!"
   ]
  },
  {
   "cell_type": "code",
   "execution_count": 54,
   "metadata": {},
   "outputs": [
    {
     "data": {
      "text/plain": [
       "count    1050.000000\n",
       "mean        0.007919\n",
       "std         0.086043\n",
       "min        -0.488450\n",
       "25%        -0.050563\n",
       "50%         0.004352\n",
       "75%         0.073155\n",
       "max         0.195427\n",
       "dtype: float64"
      ]
     },
     "execution_count": 54,
     "metadata": {},
     "output_type": "execute_result"
    },
    {
     "name": "stdout",
     "output_type": "stream",
     "text": [
      "\r"
     ]
    }
   ],
   "source": [
    "corr_list = []\n",
    "for feature in features:\n",
    "    corr_list.append(np.corrcoef(df2[feature], lgb_preds)[0,1])\n",
    "corr_series = pd.Series(corr_list, index=features)\n",
    "corr_series.describe()"
   ]
  },
  {
   "cell_type": "code",
   "execution_count": 55,
   "metadata": {},
   "outputs": [
    {
     "name": "stdout",
     "output_type": "stream",
     "text": [
      "\r"
     ]
    }
   ],
   "source": [
    "from sklearn.preprocessing import MinMaxScaler\n",
    "import scipy\n",
    "\n",
    "def neutralize(df,\n",
    "               columns,\n",
    "               neutralizers=None,\n",
    "               proportion=1.0,\n",
    "               normalize=True,\n",
    "               era_col=\"era\"):\n",
    "    if neutralizers is None:\n",
    "        neutralizers = []\n",
    "    unique_eras = df[era_col].unique()\n",
    "    computed = []\n",
    "    for u in unique_eras:\n",
    "        print(u, end=\"\\r\")\n",
    "        df_era = df[df[era_col] == u]\n",
    "        scores = df_era[columns].values\n",
    "        if normalize:\n",
    "            scores2 = []\n",
    "            for x in scores.T:\n",
    "                x = (scipy.stats.rankdata(x, method='ordinal') - .5) / len(x)\n",
    "                x = scipy.stats.norm.ppf(x)\n",
    "                scores2.append(x)\n",
    "            scores = np.array(scores2).T\n",
    "        exposures = df_era[neutralizers].values\n",
    "\n",
    "        scores -= proportion * exposures.dot(\n",
    "            np.linalg.pinv(exposures.astype(np.float32)).dot(scores.astype(np.float32)))\n",
    "\n",
    "        scores /= scores.std(ddof=0)\n",
    "\n",
    "        computed.append(scores)\n",
    "\n",
    "    return pd.DataFrame(np.concatenate(computed),\n",
    "                        columns=columns,\n",
    "                        index=df.index)"
   ]
  },
  {
   "cell_type": "code",
   "execution_count": 56,
   "metadata": {},
   "outputs": [
    {
     "name": "stderr",
     "output_type": "stream",
     "text": [
      "/tmp/ipykernel_128009/935681447.py:1: SettingWithCopyWarning: \n",
      "A value is trying to be set on a copy of a slice from a DataFrame.\n",
      "Try using .loc[row_indexer,col_indexer] = value instead\n",
      "\n",
      "See the caveats in the documentation: https://pandas.pydata.org/pandas-docs/stable/user_guide/indexing.html#returning-a-view-versus-a-copy\n",
      "  df2[\"preds\"] = lgb_preds\n"
     ]
    },
    {
     "name": "stdout",
     "output_type": "stream",
     "text": [
      "0405\r"
     ]
    },
    {
     "name": "stderr",
     "output_type": "stream",
     "text": [
      "/tmp/ipykernel_128009/935681447.py:2: SettingWithCopyWarning: \n",
      "A value is trying to be set on a copy of a slice from a DataFrame.\n",
      "Try using .loc[row_indexer,col_indexer] = value instead\n",
      "\n",
      "See the caveats in the documentation: https://pandas.pydata.org/pandas-docs/stable/user_guide/indexing.html#returning-a-view-versus-a-copy\n",
      "  df2[\"preds_neutralized\"] = neutralize(df2,\n",
      "/tmp/ipykernel_128009/935681447.py:10: SettingWithCopyWarning: \n",
      "A value is trying to be set on a copy of a slice from a DataFrame.\n",
      "Try using .loc[row_indexer,col_indexer] = value instead\n",
      "\n",
      "See the caveats in the documentation: https://pandas.pydata.org/pandas-docs/stable/user_guide/indexing.html#returning-a-view-versus-a-copy\n",
      "  df2[\"preds_neutralized\"] = scaler.fit_transform(df2[[\"preds_neutralized\"]]) # transform back to 0-1\n"
     ]
    },
    {
     "name": "stdout",
     "output_type": "stream",
     "text": [
      "\r"
     ]
    }
   ],
   "source": [
    "df2[\"preds\"] = lgb_preds\n",
    "df2[\"preds_neutralized\"] = neutralize(df2, \n",
    "                                      columns=[\"preds\"], \n",
    "                                      neutralizers=features, \n",
    "                                      proportion=0.5, # neutralize by 50% within each era\n",
    "                                      normalize=True,\n",
    "                                      era_col='era') \n",
    "\n",
    "scaler = MinMaxScaler()\n",
    "df2[\"preds_neutralized\"] = scaler.fit_transform(df2[[\"preds_neutralized\"]]) # transform back to 0-1"
   ]
  },
  {
   "cell_type": "markdown",
   "metadata": {},
   "source": [
    "### Now our single feature exposures are much smaller"
   ]
  },
  {
   "cell_type": "code",
   "execution_count": 57,
   "metadata": {},
   "outputs": [
    {
     "name": "stdout",
     "output_type": "stream",
     "text": [
      "\r"
     ]
    }
   ],
   "source": [
    "corr_list2 = []\n",
    "for feature in features:\n",
    "    corr_list2.append(np.corrcoef(df2[feature], df2[\"preds_neutralized\"])[0,1])\n",
    "corr_series2 = pd.Series(corr_list2, index=features)"
   ]
  },
  {
   "cell_type": "code",
   "execution_count": 58,
   "metadata": {},
   "outputs": [
    {
     "data": {
      "text/plain": [
       "count    1050.000000\n",
       "mean        0.000433\n",
       "std         0.003731\n",
       "min        -0.010527\n",
       "25%        -0.001993\n",
       "50%         0.000306\n",
       "75%         0.003015\n",
       "max         0.009866\n",
       "dtype: float64"
      ]
     },
     "execution_count": 58,
     "metadata": {},
     "output_type": "execute_result"
    },
    {
     "name": "stdout",
     "output_type": "stream",
     "text": [
      "\r"
     ]
    }
   ],
   "source": [
    "corr_series2.describe()"
   ]
  },
  {
   "cell_type": "markdown",
   "metadata": {},
   "source": [
    "### Our overall score goes down, but the scores are more consistent than before. This leads to a higher sharpe"
   ]
  },
  {
   "cell_type": "code",
   "execution_count": 59,
   "metadata": {},
   "outputs": [
    {
     "name": "stdout",
     "output_type": "stream",
     "text": [
      "score for high feature exposure: 0.04059671215122932\n",
      "score for balanced feature expo: -0.002621956015393881\n",
      "std for high feature exposure: 0.032396624682988\n",
      "std for balanced feature expo: 0.02529778615357758\n",
      "sharpe for high feature exposure: 1.2531154880634008\n",
      "sharpe for balanced feature expo: -0.10364369433263974\n",
      "\r"
     ]
    }
   ],
   "source": [
    "unbalanced_scores_per_era = df2.groupby(\"era\").apply(lambda d: np.corrcoef(d[\"preds\"], d[target])[0,1])\n",
    "balanced_scores_per_era = df2.groupby(\"era\").apply(lambda d: np.corrcoef(d[\"preds_neutralized\"], d[target])[0,1])\n",
    "\n",
    "print(f\"score for high feature exposure: {unbalanced_scores_per_era.mean()}\")\n",
    "print(f\"score for balanced feature expo: {balanced_scores_per_era.mean()}\")\n",
    "\n",
    "print(f\"std for high feature exposure: {unbalanced_scores_per_era.std(ddof=0)}\")\n",
    "print(f\"std for balanced feature expo: {balanced_scores_per_era.std(ddof=0)}\")\n",
    "\n",
    "print(f\"sharpe for high feature exposure: {unbalanced_scores_per_era.mean()/unbalanced_scores_per_era.std(ddof=0)}\")\n",
    "print(f\"sharpe for balanced feature expo: {balanced_scores_per_era.mean()/balanced_scores_per_era.std(ddof=0)}\")"
   ]
  },
  {
   "cell_type": "code",
   "execution_count": 50,
   "metadata": {},
   "outputs": [
    {
     "data": {
      "text/plain": [
       "count    10.000000\n",
       "mean      0.039004\n",
       "std       0.023533\n",
       "min       0.013010\n",
       "25%       0.018847\n",
       "50%       0.036098\n",
       "75%       0.051287\n",
       "max       0.088303\n",
       "dtype: float64"
      ]
     },
     "execution_count": 50,
     "metadata": {},
     "output_type": "execute_result"
    },
    {
     "name": "stdout",
     "output_type": "stream",
     "text": [
      "\r"
     ]
    }
   ],
   "source": [
    "balanced_scores_per_era.describe()"
   ]
  },
  {
   "cell_type": "code",
   "execution_count": 51,
   "metadata": {},
   "outputs": [
    {
     "data": {
      "text/plain": [
       "count    10.000000\n",
       "mean      0.049952\n",
       "std       0.023057\n",
       "min       0.021632\n",
       "25%       0.034473\n",
       "50%       0.048814\n",
       "75%       0.055055\n",
       "max       0.101719\n",
       "dtype: float64"
      ]
     },
     "execution_count": 51,
     "metadata": {},
     "output_type": "execute_result"
    },
    {
     "name": "stdout",
     "output_type": "stream",
     "text": [
      "\r"
     ]
    }
   ],
   "source": [
    "unbalanced_scores_per_era.describe()"
   ]
  },
  {
   "cell_type": "markdown",
   "metadata": {},
   "source": [
    "## We can also try to be more clever about what features we neutralize\n",
    "### The \"riskiest\" features are the features the predictions are most exposed to that also have the highest volatility "
   ]
  },
  {
   "cell_type": "code",
   "execution_count": 122,
   "metadata": {},
   "outputs": [
    {
     "name": "stdout",
     "output_type": "stream",
     "text": [
      "\r"
     ]
    }
   ],
   "source": [
    "# compute feature correlations with target on the first half data\n",
    "all_feature_corrs = df1.groupby('era').apply(lambda d: d[features].corrwith(d[target]))\n",
    "# compute the volatility of the feature correlations\n",
    "feature_corr_volatility = all_feature_corrs.std()"
   ]
  },
  {
   "cell_type": "code",
   "execution_count": 61,
   "metadata": {},
   "outputs": [
    {
     "name": "stdout",
     "output_type": "stream",
     "text": [
      "\r"
     ]
    }
   ],
   "source": [
    "# calculate the feature exposures of the predictions\n",
    "feature_exposure_list = []\n",
    "for feature in features:\n",
    "    feature_exposure_list.append(np.corrcoef(df2[feature], lgb_preds)[0,1])\n",
    "feature_exposure_list = pd.Series(feature_exposure_list, index=features)"
   ]
  },
  {
   "cell_type": "code",
   "execution_count": 62,
   "metadata": {},
   "outputs": [
    {
     "name": "stdout",
     "output_type": "stream",
     "text": [
      "\r"
     ]
    }
   ],
   "source": [
    "# get list of 100 riskiest features\n",
    "riskiest_features = (feature_exposure_list.abs()*feature_corr_volatility).sort_values()[-100:].index.tolist()"
   ]
  },
  {
   "cell_type": "code",
   "execution_count": 63,
   "metadata": {},
   "outputs": [
    {
     "name": "stdout",
     "output_type": "stream",
     "text": [
      "0405\r"
     ]
    },
    {
     "name": "stderr",
     "output_type": "stream",
     "text": [
      "/tmp/ipykernel_128009/1405235807.py:2: SettingWithCopyWarning: \n",
      "A value is trying to be set on a copy of a slice from a DataFrame.\n",
      "Try using .loc[row_indexer,col_indexer] = value instead\n",
      "\n",
      "See the caveats in the documentation: https://pandas.pydata.org/pandas-docs/stable/user_guide/indexing.html#returning-a-view-versus-a-copy\n",
      "  df2[\"preds_neutralized_riskiest_100\"] = neutralize(df2,\n",
      "/tmp/ipykernel_128009/1405235807.py:10: SettingWithCopyWarning: \n",
      "A value is trying to be set on a copy of a slice from a DataFrame.\n",
      "Try using .loc[row_indexer,col_indexer] = value instead\n",
      "\n",
      "See the caveats in the documentation: https://pandas.pydata.org/pandas-docs/stable/user_guide/indexing.html#returning-a-view-versus-a-copy\n",
      "  df2[\"preds_neutralized_riskiest_100\"] = scaler.fit_transform(df2[[\"preds_neutralized_riskiest_100\"]]) # transform back to 0-1\n"
     ]
    },
    {
     "name": "stdout",
     "output_type": "stream",
     "text": [
      "\r"
     ]
    }
   ],
   "source": [
    "# 50% neutralize to the riskiest features\n",
    "df2[\"preds_neutralized_riskiest_100\"] = neutralize(df2, \n",
    "                                                  columns=[\"preds\"], \n",
    "                                                  neutralizers=riskiest_features, \n",
    "                                                  proportion=0.5, # 50% neutralize only those 100 features\n",
    "                                                  normalize=True, \n",
    "                                                  era_col='era')\n",
    "\n",
    "scaler = MinMaxScaler()\n",
    "df2[\"preds_neutralized_riskiest_100\"] = scaler.fit_transform(df2[[\"preds_neutralized_riskiest_100\"]]) # transform back to 0-1"
   ]
  },
  {
   "cell_type": "code",
   "execution_count": null,
   "metadata": {},
   "outputs": [],
   "source": [
    "### The score goes down less and the sharpe goes up more than 50% neutralizing all the features"
   ]
  },
  {
   "cell_type": "code",
   "execution_count": 64,
   "metadata": {},
   "outputs": [
    {
     "name": "stdout",
     "output_type": "stream",
     "text": [
      "score for high feature exposure: 0.04059671215122932\n",
      "score for balanced feature expo: -0.0019553205040556006\n",
      "std for high feature exposure: 0.032396624682988\n",
      "std for balanced feature expo: 0.02543936565992191\n",
      "sharpe for high feature exposure: 1.2531154880634008\n",
      "sharpe for balanced feature expo: -0.07686199924143874\n",
      "\r"
     ]
    }
   ],
   "source": [
    "unbalanced_scores_per_era = df2.groupby(\"era\").apply(lambda d: np.corrcoef(d[\"preds\"], d[target])[0,1])\n",
    "balanced_scores_per_era = df2.groupby(\"era\").apply(lambda d: np.corrcoef(d[\"preds_neutralized_riskiest_100\"], d[target])[0,1])\n",
    "\n",
    "print(f\"score for high feature exposure: {unbalanced_scores_per_era.mean()}\")\n",
    "print(f\"score for balanced feature expo: {balanced_scores_per_era.mean()}\")\n",
    "\n",
    "print(f\"std for high feature exposure: {unbalanced_scores_per_era.std(ddof=0)}\")\n",
    "print(f\"std for balanced feature expo: {balanced_scores_per_era.std(ddof=0)}\")\n",
    "\n",
    "print(f\"sharpe for high feature exposure: {unbalanced_scores_per_era.mean()/unbalanced_scores_per_era.std(ddof=0)}\")\n",
    "print(f\"sharpe for balanced feature expo: {balanced_scores_per_era.mean()/balanced_scores_per_era.std(ddof=0)}\")"
   ]
  },
  {
   "cell_type": "code",
   "execution_count": null,
   "metadata": {},
   "outputs": [],
   "source": [
    "### Interestingly, the maximal feature exposure magnitude is actually lower (~0.28 vs ~0.31) than when 50% neutralizing all features"
   ]
  },
  {
   "cell_type": "code",
   "execution_count": 65,
   "metadata": {},
   "outputs": [
    {
     "data": {
      "text/plain": [
       "count    1050.000000\n",
       "mean        0.000587\n",
       "std         0.003425\n",
       "min        -0.009773\n",
       "25%        -0.001714\n",
       "50%         0.000619\n",
       "75%         0.002998\n",
       "max         0.008517\n",
       "dtype: float64"
      ]
     },
     "execution_count": 65,
     "metadata": {},
     "output_type": "execute_result"
    },
    {
     "name": "stdout",
     "output_type": "stream",
     "text": [
      "\r"
     ]
    }
   ],
   "source": [
    "corr_list3 = []\n",
    "for feature in features:\n",
    "    corr_list3.append(np.corrcoef(df2[feature], df2[\"preds_neutralized_riskiest_100\"])[0,1])\n",
    "corr_series3 = pd.Series(corr_list3, index=features)\n",
    "corr_series3.describe()"
   ]
  },
  {
   "cell_type": "code",
   "execution_count": 58,
   "metadata": {},
   "outputs": [
    {
     "data": {
      "text/plain": [
       "count    1050.000000\n",
       "mean        0.004331\n",
       "std         0.056821\n",
       "min        -0.354841\n",
       "25%        -0.017705\n",
       "50%         0.009367\n",
       "75%         0.042633\n",
       "max         0.107308\n",
       "dtype: float64"
      ]
     },
     "execution_count": 58,
     "metadata": {},
     "output_type": "execute_result"
    },
    {
     "name": "stdout",
     "output_type": "stream",
     "text": [
      "\r"
     ]
    }
   ],
   "source": [
    "corr_series3.describe()"
   ]
  },
  {
   "cell_type": "markdown",
   "metadata": {},
   "source": [
    "# Training on the alternative targets can result in models with different patterns of feature exposures\n",
    "## This is a great way to go after MMC and very useful for ensembling"
   ]
  },
  {
   "cell_type": "code",
   "execution_count": 123,
   "metadata": {},
   "outputs": [
    {
     "data": {
      "text/plain": [
       "LGBMRegressor(learning_rate=0.01, max_depth=5, n_estimators=200)"
      ]
     },
     "execution_count": 123,
     "metadata": {},
     "output_type": "execute_result"
    },
    {
     "name": "stdout",
     "output_type": "stream",
     "text": [
      "\r"
     ]
    }
   ],
   "source": [
    "lgb = lightgbm.LGBMRegressor(n_jobs=-1, learning_rate=0.01, n_estimators=200, max_depth=5)\n",
    "lgb.fit(df[features], df['target'])"
   ]
  },
  {
   "cell_type": "code",
   "execution_count": 67,
   "metadata": {},
   "outputs": [
    {
     "data": {
      "text/plain": [
       "LGBMRegressor(learning_rate=0.01, max_depth=5, n_estimators=200)"
      ]
     },
     "execution_count": 67,
     "metadata": {},
     "output_type": "execute_result"
    },
    {
     "name": "stdout",
     "output_type": "stream",
     "text": [
      "\r"
     ]
    }
   ],
   "source": [
    "lgb_jerome = lightgbm.LGBMRegressor(n_jobs=-1, learning_rate=0.01, n_estimators=200, max_depth=5)\n",
    "lgb_jerome.fit(df1[features], df1['target_jerome_20'])"
   ]
  },
  {
   "cell_type": "code",
   "execution_count": 84,
   "metadata": {},
   "outputs": [
    {
     "name": "stdout",
     "output_type": "stream",
     "text": [
      "\r"
     ]
    }
   ],
   "source": [
    "# The feature importances for each model are about 63% correlated"
   ]
  },
  {
   "cell_type": "code",
   "execution_count": 68,
   "metadata": {},
   "outputs": [
    {
     "name": "stdout",
     "output_type": "stream",
     "text": [
      "0.49074185248971\n"
     ]
    },
    {
     "data": {
      "image/png": "[encoded data removed]",
      "text/plain": [
       "<Figure size 1152x432 with 2 Axes>"
      ]
     },
     "metadata": {
      "needs_background": "light"
     },
     "output_type": "display_data"
    },
    {
     "name": "stdout",
     "output_type": "stream",
     "text": [
      "\r"
     ]
    }
   ],
   "source": [
    "plt.figure(figsize = (16,6))\n",
    "plt.subplot(1,2,1)\n",
    "plt.plot(lgb.feature_importances_, alpha=.5)\n",
    "plt.plot(lgb_jerome.feature_importances_, alpha=.5)\n",
    "plt.subplot(1,2,2)\n",
    "plt.scatter(lgb.feature_importances_, lgb_jerome.feature_importances_)\n",
    "\n",
    "print(np.corrcoef([lgb.feature_importances_, lgb_jerome.feature_importances_])[0,1])"
   ]
  },
  {
   "cell_type": "code",
   "execution_count": null,
   "metadata": {},
   "outputs": [],
   "source": [
    "df_tour['prediction'] = lgb.predict(df_tour[features])"
   ]
  },
  {
   "cell_type": "code",
   "execution_count": 69,
   "metadata": {},
   "outputs": [
    {
     "name": "stderr",
     "output_type": "stream",
     "text": [
      "/tmp/ipykernel_128009/3114868341.py:2: SettingWithCopyWarning: \n",
      "A value is trying to be set on a copy of a slice from a DataFrame.\n",
      "Try using .loc[row_indexer,col_indexer] = value instead\n",
      "\n",
      "See the caveats in the documentation: https://pandas.pydata.org/pandas-docs/stable/user_guide/indexing.html#returning-a-view-versus-a-copy\n",
      "  df2['prediction'] = lgb.predict(df2[features])\n"
     ]
    },
    {
     "name": "stdout",
     "output_type": "stream",
     "text": [
      "\r"
     ]
    }
   ],
   "source": [
    "lgb_preds = lgb.predict(df2[features])\n",
    "df2['prediction'] = lgb.predict(df2[features])\n",
    "lgb_jerome_preds = lgb_jerome.predict(df2[features])"
   ]
  },
  {
   "cell_type": "code",
   "execution_count": 70,
   "metadata": {},
   "outputs": [
    {
     "data": {
      "text/plain": [
       "0.6103187129906299"
      ]
     },
     "execution_count": 70,
     "metadata": {},
     "output_type": "execute_result"
    },
    {
     "name": "stdout",
     "output_type": "stream",
     "text": [
      "\r"
     ]
    }
   ],
   "source": [
    "# The predictions are about 75% correlated\n",
    "np.corrcoef([lgb_preds, lgb_jerome_preds])[0,1]"
   ]
  },
  {
   "cell_type": "code",
   "execution_count": 71,
   "metadata": {},
   "outputs": [
    {
     "name": "stderr",
     "output_type": "stream",
     "text": [
      "/tmp/ipykernel_128009/3387032128.py:1: SettingWithCopyWarning: \n",
      "A value is trying to be set on a copy of a slice from a DataFrame.\n",
      "Try using .loc[row_indexer,col_indexer] = value instead\n",
      "\n",
      "See the caveats in the documentation: https://pandas.pydata.org/pandas-docs/stable/user_guide/indexing.html#returning-a-view-versus-a-copy\n",
      "  df2[\"preds\"] = lgb_preds\n",
      "/tmp/ipykernel_128009/3387032128.py:2: SettingWithCopyWarning: \n",
      "A value is trying to be set on a copy of a slice from a DataFrame.\n",
      "Try using .loc[row_indexer,col_indexer] = value instead\n",
      "\n",
      "See the caveats in the documentation: https://pandas.pydata.org/pandas-docs/stable/user_guide/indexing.html#returning-a-view-versus-a-copy\n",
      "  df2[\"preds_jerome\"] = lgb_jerome_preds\n"
     ]
    },
    {
     "name": "stdout",
     "output_type": "stream",
     "text": [
      "\r"
     ]
    }
   ],
   "source": [
    "df2[\"preds\"] = lgb_preds\n",
    "df2[\"preds_jerome\"] = lgb_jerome_preds"
   ]
  },
  {
   "cell_type": "code",
   "execution_count": 72,
   "metadata": {},
   "outputs": [
    {
     "name": "stdout",
     "output_type": "stream",
     "text": [
      "0405\r"
     ]
    },
    {
     "name": "stderr",
     "output_type": "stream",
     "text": [
      "/tmp/ipykernel_128009/516990135.py:10: SettingWithCopyWarning: \n",
      "A value is trying to be set on a copy of a slice from a DataFrame.\n",
      "Try using .loc[row_indexer,col_indexer] = value instead\n",
      "\n",
      "See the caveats in the documentation: https://pandas.pydata.org/pandas-docs/stable/user_guide/indexing.html#returning-a-view-versus-a-copy\n",
      "  df2[f\"{preds}_neutralized_riskiest_100\"] = neutralize(df2,\n"
     ]
    },
    {
     "name": "stdout",
     "output_type": "stream",
     "text": [
      "0405\r"
     ]
    },
    {
     "name": "stderr",
     "output_type": "stream",
     "text": [
      "/tmp/ipykernel_128009/516990135.py:10: SettingWithCopyWarning: \n",
      "A value is trying to be set on a copy of a slice from a DataFrame.\n",
      "Try using .loc[row_indexer,col_indexer] = value instead\n",
      "\n",
      "See the caveats in the documentation: https://pandas.pydata.org/pandas-docs/stable/user_guide/indexing.html#returning-a-view-versus-a-copy\n",
      "  df2[f\"{preds}_neutralized_riskiest_100\"] = neutralize(df2,\n"
     ]
    },
    {
     "name": "stdout",
     "output_type": "stream",
     "text": [
      "\r"
     ]
    }
   ],
   "source": [
    "# 50% neutralize to riskest features for each model as above\n",
    "for preds in [\"preds\", \"preds_jerome\"]:\n",
    "    feature_exposure_list = []\n",
    "    for feature in features:\n",
    "        feature_exposure_list.append(np.corrcoef(df2[feature], df2[preds])[0,1])\n",
    "    feature_exposure_list = pd.Series(feature_exposure_list, index=features)\n",
    "\n",
    "    riskiest_features = (feature_exposure_list.abs()*feature_corr_volatility).sort_values()[-100:].index.tolist()\n",
    "    \n",
    "    df2[f\"{preds}_neutralized_riskiest_100\"] = neutralize(df2, \n",
    "                                                  columns=[f\"{preds}\"], \n",
    "                                                  neutralizers=riskiest_features, \n",
    "                                                  proportion=0.5, # 50% neutralize only those 100 features\n",
    "                                                  normalize=True, \n",
    "                                                  era_col='era')"
   ]
  },
  {
   "cell_type": "code",
   "execution_count": 74,
   "metadata": {
    "scrolled": true
   },
   "outputs": [
    {
     "name": "stderr",
     "output_type": "stream",
     "text": [
      "/tmp/ipykernel_128009/271823728.py:2: SettingWithCopyWarning: \n",
      "A value is trying to be set on a copy of a slice from a DataFrame.\n",
      "Try using .loc[row_indexer,col_indexer] = value instead\n",
      "\n",
      "See the caveats in the documentation: https://pandas.pydata.org/pandas-docs/stable/user_guide/indexing.html#returning-a-view-versus-a-copy\n",
      "  df2[\"preds_ens\"] = (df2[\"preds\"] + df2[\"preds_jerome\"])/2\n"
     ]
    },
    {
     "name": "stdout",
     "output_type": "stream",
     "text": [
      "\r"
     ]
    }
   ],
   "source": [
    "# create ensemble\n",
    "df2[\"preds_ens\"] = (df2[\"preds\"] + df2[\"preds_jerome\"])/2"
   ]
  },
  {
   "cell_type": "code",
   "execution_count": 68,
   "metadata": {},
   "outputs": [
    {
     "data": {
      "text/html": [
       "<div>\n",
       "<style scoped>\n",
       "    .dataframe tbody tr th:only-of-type {\n",
       "        vertical-align: middle;\n",
       "    }\n",
       "\n",
       "    .dataframe tbody tr th {\n",
       "        vertical-align: top;\n",
       "    }\n",
       "\n",
       "    .dataframe thead th {\n",
       "        text-align: right;\n",
       "    }\n",
       "</style>\n",
       "<table border=\"1\" class=\"dataframe\">\n",
       "  <thead>\n",
       "    <tr style=\"text-align: right;\">\n",
       "      <th></th>\n",
       "      <th>era</th>\n",
       "      <th>data_type</th>\n",
       "      <th>feature_dichasial_hammier_spawner</th>\n",
       "      <th>feature_rheumy_epistemic_prancer</th>\n",
       "      <th>feature_pert_performative_hormuz</th>\n",
       "      <th>feature_hillier_unpitied_theobromine</th>\n",
       "      <th>feature_perigean_bewitching_thruster</th>\n",
       "      <th>feature_renegade_undomestic_milord</th>\n",
       "      <th>feature_koranic_rude_corf</th>\n",
       "      <th>feature_demisable_expiring_millepede</th>\n",
       "      <th>...</th>\n",
       "      <th>target_thomas_20</th>\n",
       "      <th>target_thomas_60</th>\n",
       "      <th>erano</th>\n",
       "      <th>preds</th>\n",
       "      <th>preds_neutralized</th>\n",
       "      <th>preds_neutralized_riskiest_100</th>\n",
       "      <th>prediction</th>\n",
       "      <th>preds_jerome</th>\n",
       "      <th>preds_jerome_neutralized_riskiest_100</th>\n",
       "      <th>preds_ens</th>\n",
       "    </tr>\n",
       "    <tr>\n",
       "      <th>id</th>\n",
       "      <th></th>\n",
       "      <th></th>\n",
       "      <th></th>\n",
       "      <th></th>\n",
       "      <th></th>\n",
       "      <th></th>\n",
       "      <th></th>\n",
       "      <th></th>\n",
       "      <th></th>\n",
       "      <th></th>\n",
       "      <th></th>\n",
       "      <th></th>\n",
       "      <th></th>\n",
       "      <th></th>\n",
       "      <th></th>\n",
       "      <th></th>\n",
       "      <th></th>\n",
       "      <th></th>\n",
       "      <th></th>\n",
       "      <th></th>\n",
       "      <th></th>\n",
       "    </tr>\n",
       "  </thead>\n",
       "  <tbody>\n",
       "    <tr>\n",
       "      <th>n0005d92998b0cb0</th>\n",
       "      <td>0057</td>\n",
       "      <td>train</td>\n",
       "      <td>2</td>\n",
       "      <td>4</td>\n",
       "      <td>2</td>\n",
       "      <td>1</td>\n",
       "      <td>1</td>\n",
       "      <td>1</td>\n",
       "      <td>4</td>\n",
       "      <td>2</td>\n",
       "      <td>...</td>\n",
       "      <td>0.500000</td>\n",
       "      <td>0.500000</td>\n",
       "      <td>57</td>\n",
       "      <td>0.496009</td>\n",
       "      <td>0.486659</td>\n",
       "      <td>0.017457</td>\n",
       "      <td>0.496009</td>\n",
       "      <td>0.522948</td>\n",
       "      <td>2.187106</td>\n",
       "      <td>0.509478</td>\n",
       "    </tr>\n",
       "    <tr>\n",
       "      <th>n00116b2a93dfe2c</th>\n",
       "      <td>0057</td>\n",
       "      <td>train</td>\n",
       "      <td>0</td>\n",
       "      <td>1</td>\n",
       "      <td>3</td>\n",
       "      <td>0</td>\n",
       "      <td>0</td>\n",
       "      <td>3</td>\n",
       "      <td>1</td>\n",
       "      <td>4</td>\n",
       "      <td>...</td>\n",
       "      <td>0.666667</td>\n",
       "      <td>1.000000</td>\n",
       "      <td>57</td>\n",
       "      <td>0.507688</td>\n",
       "      <td>0.596269</td>\n",
       "      <td>1.440126</td>\n",
       "      <td>0.507688</td>\n",
       "      <td>0.508690</td>\n",
       "      <td>1.534715</td>\n",
       "      <td>0.508189</td>\n",
       "    </tr>\n",
       "    <tr>\n",
       "      <th>n00178ea4760915e</th>\n",
       "      <td>0057</td>\n",
       "      <td>train</td>\n",
       "      <td>4</td>\n",
       "      <td>2</td>\n",
       "      <td>1</td>\n",
       "      <td>1</td>\n",
       "      <td>2</td>\n",
       "      <td>1</td>\n",
       "      <td>1</td>\n",
       "      <td>3</td>\n",
       "      <td>...</td>\n",
       "      <td>0.500000</td>\n",
       "      <td>0.833333</td>\n",
       "      <td>57</td>\n",
       "      <td>0.542982</td>\n",
       "      <td>0.788381</td>\n",
       "      <td>2.519558</td>\n",
       "      <td>0.542982</td>\n",
       "      <td>0.482299</td>\n",
       "      <td>-2.216420</td>\n",
       "      <td>0.512641</td>\n",
       "    </tr>\n",
       "    <tr>\n",
       "      <th>n00282891b8fe467</th>\n",
       "      <td>0057</td>\n",
       "      <td>train</td>\n",
       "      <td>2</td>\n",
       "      <td>2</td>\n",
       "      <td>2</td>\n",
       "      <td>4</td>\n",
       "      <td>0</td>\n",
       "      <td>4</td>\n",
       "      <td>4</td>\n",
       "      <td>1</td>\n",
       "      <td>...</td>\n",
       "      <td>0.500000</td>\n",
       "      <td>0.500000</td>\n",
       "      <td>57</td>\n",
       "      <td>0.494035</td>\n",
       "      <td>0.442173</td>\n",
       "      <td>-0.301391</td>\n",
       "      <td>0.494035</td>\n",
       "      <td>0.489146</td>\n",
       "      <td>-0.816943</td>\n",
       "      <td>0.491591</td>\n",
       "    </tr>\n",
       "    <tr>\n",
       "      <th>n00366beef070aff</th>\n",
       "      <td>0057</td>\n",
       "      <td>train</td>\n",
       "      <td>3</td>\n",
       "      <td>1</td>\n",
       "      <td>0</td>\n",
       "      <td>0</td>\n",
       "      <td>3</td>\n",
       "      <td>2</td>\n",
       "      <td>1</td>\n",
       "      <td>3</td>\n",
       "      <td>...</td>\n",
       "      <td>0.500000</td>\n",
       "      <td>0.666667</td>\n",
       "      <td>57</td>\n",
       "      <td>0.514169</td>\n",
       "      <td>0.670686</td>\n",
       "      <td>1.203583</td>\n",
       "      <td>0.514169</td>\n",
       "      <td>0.516557</td>\n",
       "      <td>1.266383</td>\n",
       "      <td>0.515363</td>\n",
       "    </tr>\n",
       "  </tbody>\n",
       "</table>\n",
       "<p>5 rows × 1081 columns</p>\n",
       "</div>"
      ],
      "text/plain": [
       "                   era data_type  feature_dichasial_hammier_spawner  \\\n",
       "id                                                                    \n",
       "n0005d92998b0cb0  0057     train                                  2   \n",
       "n00116b2a93dfe2c  0057     train                                  0   \n",
       "n00178ea4760915e  0057     train                                  4   \n",
       "n00282891b8fe467  0057     train                                  2   \n",
       "n00366beef070aff  0057     train                                  3   \n",
       "\n",
       "                  feature_rheumy_epistemic_prancer  \\\n",
       "id                                                   \n",
       "n0005d92998b0cb0                                 4   \n",
       "n00116b2a93dfe2c                                 1   \n",
       "n00178ea4760915e                                 2   \n",
       "n00282891b8fe467                                 2   \n",
       "n00366beef070aff                                 1   \n",
       "\n",
       "                  feature_pert_performative_hormuz  \\\n",
       "id                                                   \n",
       "n0005d92998b0cb0                                 2   \n",
       "n00116b2a93dfe2c                                 3   \n",
       "n00178ea4760915e                                 1   \n",
       "n00282891b8fe467                                 2   \n",
       "n00366beef070aff                                 0   \n",
       "\n",
       "                  feature_hillier_unpitied_theobromine  \\\n",
       "id                                                       \n",
       "n0005d92998b0cb0                                     1   \n",
       "n00116b2a93dfe2c                                     0   \n",
       "n00178ea4760915e                                     1   \n",
       "n00282891b8fe467                                     4   \n",
       "n00366beef070aff                                     0   \n",
       "\n",
       "                  feature_perigean_bewitching_thruster  \\\n",
       "id                                                       \n",
       "n0005d92998b0cb0                                     1   \n",
       "n00116b2a93dfe2c                                     0   \n",
       "n00178ea4760915e                                     2   \n",
       "n00282891b8fe467                                     0   \n",
       "n00366beef070aff                                     3   \n",
       "\n",
       "                  feature_renegade_undomestic_milord  \\\n",
       "id                                                     \n",
       "n0005d92998b0cb0                                   1   \n",
       "n00116b2a93dfe2c                                   3   \n",
       "n00178ea4760915e                                   1   \n",
       "n00282891b8fe467                                   4   \n",
       "n00366beef070aff                                   2   \n",
       "\n",
       "                  feature_koranic_rude_corf  \\\n",
       "id                                            \n",
       "n0005d92998b0cb0                          4   \n",
       "n00116b2a93dfe2c                          1   \n",
       "n00178ea4760915e                          1   \n",
       "n00282891b8fe467                          4   \n",
       "n00366beef070aff                          1   \n",
       "\n",
       "                  feature_demisable_expiring_millepede  ...  target_thomas_20  \\\n",
       "id                                                      ...                     \n",
       "n0005d92998b0cb0                                     2  ...          0.500000   \n",
       "n00116b2a93dfe2c                                     4  ...          0.666667   \n",
       "n00178ea4760915e                                     3  ...          0.500000   \n",
       "n00282891b8fe467                                     1  ...          0.500000   \n",
       "n00366beef070aff                                     3  ...          0.500000   \n",
       "\n",
       "                  target_thomas_60  erano     preds  preds_neutralized  \\\n",
       "id                                                                       \n",
       "n0005d92998b0cb0          0.500000     57  0.496009           0.486659   \n",
       "n00116b2a93dfe2c          1.000000     57  0.507688           0.596269   \n",
       "n00178ea4760915e          0.833333     57  0.542982           0.788381   \n",
       "n00282891b8fe467          0.500000     57  0.494035           0.442173   \n",
       "n00366beef070aff          0.666667     57  0.514169           0.670686   \n",
       "\n",
       "                  preds_neutralized_riskiest_100  prediction  preds_jerome  \\\n",
       "id                                                                           \n",
       "n0005d92998b0cb0                        0.017457    0.496009      0.522948   \n",
       "n00116b2a93dfe2c                        1.440126    0.507688      0.508690   \n",
       "n00178ea4760915e                        2.519558    0.542982      0.482299   \n",
       "n00282891b8fe467                       -0.301391    0.494035      0.489146   \n",
       "n00366beef070aff                        1.203583    0.514169      0.516557   \n",
       "\n",
       "                  preds_jerome_neutralized_riskiest_100  preds_ens  \n",
       "id                                                                  \n",
       "n0005d92998b0cb0                               2.187106   0.509478  \n",
       "n00116b2a93dfe2c                               1.534715   0.508189  \n",
       "n00178ea4760915e                              -2.216420   0.512641  \n",
       "n00282891b8fe467                              -0.816943   0.491591  \n",
       "n00366beef070aff                               1.266383   0.515363  \n",
       "\n",
       "[5 rows x 1081 columns]"
      ]
     },
     "execution_count": 68,
     "metadata": {},
     "output_type": "execute_result"
    },
    {
     "name": "stdout",
     "output_type": "stream",
     "text": [
      "\r"
     ]
    }
   ],
   "source": [
    "df2.head()"
   ]
  },
  {
   "cell_type": "code",
   "execution_count": 79,
   "metadata": {},
   "outputs": [
    {
     "name": "stdout",
     "output_type": "stream",
     "text": [
      "ROUND NUMBER:  311\n",
      "\r"
     ]
    }
   ],
   "source": [
    "# Instantiate Numerai API again but with API keys for submission\n",
    "PUBLIC_KEY = ''\n",
    "PRIVATE_KEY = ''\n",
    "\n",
    "napi = NumerAPI(PUBLIC_KEY, PRIVATE_KEY)\n",
    "current_round = napi.get_current_round()\n",
    "print(\"ROUND NUMBER: \", current_round)"
   ]
  },
  {
   "cell_type": "code",
   "execution_count": null,
   "metadata": {},
   "outputs": [],
   "source": [
    "# Format prediction CSV for submission\n",
    "prediction_df_tour = df_tour.reset_index()[['id', 'prediction']]\n",
    "prediction_df_tour[['id', 'prediction']].to_csv(f'round{current_round}_LGBM_model_analysis_predictions_2.csv', index=False) # Important to name your CSV file so you know wh"
   ]
  },
  {
   "cell_type": "code",
   "execution_count": null,
   "metadata": {},
   "outputs": [],
   "source": [
    "\n",
    "model_id = ''\n",
    "napi.upload_predictions(f'round{current_round}_LGBM_model_analysis_predictions_2.csv', model_id=model_id, version=2)"
   ]
  },
  {
   "cell_type": "code",
   "execution_count": 75,
   "metadata": {},
   "outputs": [
    {
     "name": "stdout",
     "output_type": "stream",
     "text": [
      "score for target: 0.03794419235988162\n",
      "score for target_jerome: 0.037361836120413924\n",
      "\n",
      "sharpe for target: 1.1799963246438032\n",
      "sharpe for target_jerome: 1.0683288251245577\n",
      "\n",
      "score for target after neutralization: -0.0016292317491581121\n",
      "score for target_jerome after neutralization: 0.0029890034749074207\n",
      "\n",
      "sharpe for target after neutralization: -0.06573928366776616\n",
      "sharpe for target_jerome after neutralization: 0.10798966931027242\n",
      "\n",
      "score for target + target_jerome ensemble: 0.042022744884372625\n",
      "sharpe for target + target_jerome ensemble: 1.2320681210947548\n",
      "\r"
     ]
    }
   ],
   "source": [
    "scores = df2.groupby(\"era\").apply(lambda d: np.corrcoef(d[\"preds\"], d[target])[0,1])\n",
    "scores_jerome = df2.groupby(\"era\").apply(lambda d: np.corrcoef(d[\"preds_jerome\"], d[target])[0,1])\n",
    "\n",
    "scores_derisked = df2.groupby(\"era\").apply(lambda d: np.corrcoef(d[\"preds_neutralized_riskiest_100\"], d[target])[0,1])\n",
    "scores_jerome_derisked = df2.groupby(\"era\").apply(lambda d: np.corrcoef(d[\"preds_jerome_neutralized_riskiest_100\"], d[target])[0,1])\n",
    "\n",
    "scores_ens = df2.groupby(\"era\").apply(lambda d: np.corrcoef(d[\"preds_ens\"], d[target])[0,1])\n",
    "\n",
    "print(f\"score for target: {scores.mean()}\")\n",
    "print(f\"score for target_jerome: {scores_jerome.mean()}\")\n",
    "print()\n",
    "print(f\"sharpe for target: {scores.mean()/scores.std(ddof=0)}\")\n",
    "print(f\"sharpe for target_jerome: {scores_jerome.mean()/scores_jerome.std(ddof=0)}\")\n",
    "print()\n",
    "print(f\"score for target after neutralization: {scores_derisked.mean()}\")\n",
    "print(f\"score for target_jerome after neutralization: {scores_jerome_derisked.mean()}\")\n",
    "print()\n",
    "print(f\"sharpe for target after neutralization: {scores_derisked.mean()/scores_derisked.std(ddof=0)}\")\n",
    "print(f\"sharpe for target_jerome after neutralization: {scores_jerome_derisked.mean()/scores_jerome_derisked.std(ddof=0)}\")\n",
    "print()\n",
    "print(f\"score for target + target_jerome ensemble: {scores_ens.mean()}\")\n",
    "print(f\"sharpe for target + target_jerome ensemble: {scores_ens.mean()/scores_ens.std(ddof=0)}\")\n"
   ]
  },
  {
   "cell_type": "markdown",
   "metadata": {},
   "source": [
    "## We see here that the model trained on `target_jerome` actually predicts `target` slightly better than the model trained on `target` (albeit with a lower Sharpe) both before and after neutralization of the riskiest features"
   ]
  },
  {
   "cell_type": "code",
   "execution_count": 105,
   "metadata": {},
   "outputs": [
    {
     "data": {
      "text/html": [
       "<div>\n",
       "<style scoped>\n",
       "    .dataframe tbody tr th:only-of-type {\n",
       "        vertical-align: middle;\n",
       "    }\n",
       "\n",
       "    .dataframe tbody tr th {\n",
       "        vertical-align: top;\n",
       "    }\n",
       "\n",
       "    .dataframe thead th {\n",
       "        text-align: right;\n",
       "    }\n",
       "</style>\n",
       "<table border=\"1\" class=\"dataframe\">\n",
       "  <thead>\n",
       "    <tr style=\"text-align: right;\">\n",
       "      <th></th>\n",
       "      <th>preds_neutralized_riskiest_100</th>\n",
       "      <th>preds_jerome_neutralized_riskiest_100</th>\n",
       "    </tr>\n",
       "  </thead>\n",
       "  <tbody>\n",
       "    <tr>\n",
       "      <th>preds_neutralized_riskiest_100</th>\n",
       "      <td>1.000000</td>\n",
       "      <td>0.661828</td>\n",
       "    </tr>\n",
       "    <tr>\n",
       "      <th>preds_jerome_neutralized_riskiest_100</th>\n",
       "      <td>0.661828</td>\n",
       "      <td>1.000000</td>\n",
       "    </tr>\n",
       "  </tbody>\n",
       "</table>\n",
       "</div>"
      ],
      "text/plain": [
       "                                       preds_neutralized_riskiest_100  \\\n",
       "preds_neutralized_riskiest_100                               1.000000   \n",
       "preds_jerome_neutralized_riskiest_100                        0.661828   \n",
       "\n",
       "                                       preds_jerome_neutralized_riskiest_100  \n",
       "preds_neutralized_riskiest_100                                      0.661828  \n",
       "preds_jerome_neutralized_riskiest_100                               1.000000  "
      ]
     },
     "execution_count": 105,
     "metadata": {},
     "output_type": "execute_result"
    }
   ],
   "source": [
    "# calculate correlation of neutralized predictions\n",
    "df2[[f\"preds_neutralized_riskiest_100\", f\"preds_jerome_neutralized_riskiest_100\"]].corr()"
   ]
  },
  {
   "cell_type": "markdown",
   "metadata": {},
   "source": [
    "## Given that the neutralized version trained on `target_jerome` gets slightly better average score, but is only about 67% correlated with the neutralized version trained on `target`, it is an excellent candidate for MMC\n",
    "## However, ensembling the two neutralized predictions gives a model with the highest average score and a great Sharpe value"
   ]
  },
  {
   "cell_type": "code",
   "execution_count": null,
   "metadata": {},
   "outputs": [],
   "source": []
  },
  {
   "cell_type": "code",
   "execution_count": null,
   "metadata": {},
   "outputs": [],
   "source": []
  }
 ],
 "metadata": {
  "kernelspec": {
   "display_name": "Python 3 (ipykernel)",
   "language": "python",
   "name": "python3"
  },
  "language_info": {
   "codemirror_mode": {
    "name": "ipython",
    "version": 3
   },
   "file_extension": ".py",
   "mimetype": "text/x-python",
   "name": "python",
   "nbconvert_exporter": "python",
   "pygments_lexer": "ipython3",
   "version": "3.9.7"
  }
 },
 "nbformat": 4,
 "nbformat_minor": 2
}
