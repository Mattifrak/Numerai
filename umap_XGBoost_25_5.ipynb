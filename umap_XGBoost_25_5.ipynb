{
 "cells": [
  {
   "cell_type": "code",
   "execution_count": 1,
   "id": "b04fc801",
   "metadata": {},
   "outputs": [
    {
     "name": "stderr",
     "output_type": "stream",
     "text": [
      "/home/mathiasvanaelten/miniconda3/lib/python3.8/site-packages/xgboost/compat.py:36: FutureWarning: pandas.Int64Index is deprecated and will be removed from pandas in a future version. Use pandas.Index with the appropriate dtype instead.\n",
      "  from pandas import MultiIndex, Int64Index\n"
     ]
    }
   ],
   "source": [
    "# import dependencies\n",
    "# !pip uninstall umap --yes\n",
    "# !pip install umap-learn\n",
    "# !pip install cuml\n",
    "\n",
    "# !pip install numba\n",
    "\n",
    "import pandas as pd\n",
    "import json\n",
    "import xgboost\n",
    "import lightgbm\n",
    "import gc\n",
    "\n",
    "# import umap\n",
    "\n",
    "import umap.umap_ as umap\n",
    "\n",
    "pd.options.mode.chained_assignment = None  # default='warn'\n",
    "\n",
    "numeraiDir = '.'\n",
    "import numeraiutils as num\n",
    "\n",
    "\n",
    "\n"
   ]
  },
  {
   "cell_type": "code",
   "execution_count": 2,
   "id": "e80a1eb5",
   "metadata": {},
   "outputs": [
    {
     "name": "stdout",
     "output_type": "stream",
     "text": [
      "Loading data\n"
     ]
    }
   ],
   "source": [
    "target='target'\n",
    "keys = ['era', 'data_type', target]\n",
    "\n",
    "# In[ load data ]\n",
    "print('Loading data')\n",
    "\n",
    "f = open('features.json')\n",
    "j = json.load(f)\n",
    "\n",
    "train = pd.read_parquet('numerai_training_data_int8.parquet')\n",
    "val = pd.read_parquet('numerai_validation_data_int8.parquet')\n",
    "td = pd.read_parquet('numerai_tournament_data_int8.parquet')\n",
    "\n",
    "# new_train = pd.read_csv('new_train_umap_1205.csv')\n",
    "\n",
    "\n",
    "train_small = train.sample(n=100000)\n"
   ]
  },
  {
   "cell_type": "code",
   "execution_count": 3,
   "id": "333b9542",
   "metadata": {},
   "outputs": [],
   "source": [
    "# all features\n",
    "# features = [c for c in train if c.startswith(\"feature\")]\n",
    "\n",
    "# selected features for speed\n",
    "features = j['feature_sets']['medium'] # small / medium / legacy\n",
    "\n",
    "targets = [c for c in train if c.startswith(\"target\")]\n",
    "\n",
    "train = train_small[keys + features]\n",
    "val = val[keys + features]\n",
    "td = td[keys + features]\n",
    "\n"
   ]
  },
  {
   "cell_type": "code",
   "execution_count": 5,
   "id": "6dfdb9df",
   "metadata": {},
   "outputs": [
    {
     "name": "stderr",
     "output_type": "stream",
     "text": [
      "/home/mathiasvanaelten/miniconda3/lib/python3.8/site-packages/xgboost/data.py:262: FutureWarning: pandas.Int64Index is deprecated and will be removed from pandas in a future version. Use pandas.Index with the appropriate dtype instead.\n",
      "  elif isinstance(data.columns, (pd.Int64Index, pd.RangeIndex)):\n",
      "/home/mathiasvanaelten/miniconda3/lib/python3.8/site-packages/xgboost/data.py:262: FutureWarning: pandas.Int64Index is deprecated and will be removed from pandas in a future version. Use pandas.Index with the appropriate dtype instead.\n",
      "  elif isinstance(data.columns, (pd.Int64Index, pd.RangeIndex)):\n"
     ]
    },
    {
     "name": "stdout",
     "output_type": "stream",
     "text": [
      "Numerai score (spearman correlation): nan, STD: nan\n",
      "Sharpe ratio: nan\n",
      "Sortino ratio: 0.0000\n",
      "Max drawdown: nan\n",
      "Max feature exposure:  0.35031554806057164\n",
      "\n"
     ]
    },
    {
     "data": {
      "image/png": "[encoded data removed]",
      "text/plain": [
       "<Figure size 432x288 with 1 Axes>"
      ]
     },
     "metadata": {
      "needs_background": "light"
     },
     "output_type": "display_data"
    }
   ],
   "source": [
    "# In[ baseline model ]\n",
    "\n",
    "xgb_params = {\n",
    "    \"n_estimators\" : 1000,\n",
    "    \"max_depth\" : 5,\n",
    "    \"learning_rate\" : 0.01,\n",
    "    \"colsample_bytree\" : 0.1,\n",
    "#     \"tree_method\" : 'gpu_hist'\n",
    "    }\n",
    "    \n",
    "est = xgboost.XGBRegressor(**xgb_params)\n",
    "\n",
    "\n",
    "#validation\n",
    "# est.fit(train[features], train[target])\n",
    "# val['pred'] = est.predict(val[features])\n",
    "\n",
    "# num.evaluation(val, features)\n",
    "# val = val.rename(columns={'pred':'prediction'})\n",
    "# val['prediction'].to_csv('validation_baseline.csv')\n",
    "\n",
    "\n",
    "# tournament\n",
    "est.fit(train[features], train[target])\n",
    "td['pred'] = est.predict(td[features])\n",
    "\n",
    "num.evaluation(td, features)\n",
    "td = td.rename(columns={'pred':'prediction'})\n",
    "td['prediction'].to_csv('tournament_baseline.csv')\n"
   ]
  },
  {
   "cell_type": "code",
   "execution_count": 6,
   "id": "3000390c",
   "metadata": {},
   "outputs": [
    {
     "name": "stderr",
     "output_type": "stream",
     "text": [
      "/home/mathiasvanaelten/miniconda3/lib/python3.8/site-packages/sklearn/manifold/_spectral_embedding.py:260: UserWarning: Graph is not fully connected, spectral embedding may not work as expected.\n",
      "  warnings.warn(\n"
     ]
    },
    {
     "data": {
      "text/plain": [
       "28374"
      ]
     },
     "execution_count": 6,
     "metadata": {},
     "output_type": "execute_result"
    }
   ],
   "source": [
    "# Numerai score (spearman correlation): 0.0208, STD: 0.0329\n",
    "# Sharpe ratio: 0.6320\n",
    "# Sortino ratio: 1.6578\n",
    "# Max drawdown: -0.19033823759034238\n",
    "# Max feature exposure:  0.4509352785060702\n",
    "\n",
    "# In[ fit umap model with full dataset that includes validation and tournament data]\n",
    "\n",
    "n_neighbors = 15\n",
    "min_dist = 0\n",
    "n_components = 60\n",
    "\n",
    "train_full = pd.concat([train, val, td[::10]]).reset_index()\n",
    "train_tr = pd.concat([train, val]).reset_index()\n",
    "\n",
    "\n",
    "umap = umap.UMAP(n_neighbors = n_neighbors, min_dist=min_dist, n_components=n_components, random_state=42)\n",
    "data = umap.fit_transform(train_full[features])\n",
    "# data = umap.\n",
    "umap_features = [f'f_{i}' for i in range(data.shape[1])]\n",
    "\n",
    "pData = pd.DataFrame(data, columns=umap_features).iloc[:len(train_tr)]\n",
    "new_train = pd.concat([train_tr, pData], axis=1)    \n",
    "new_features = features + umap_features\n",
    "\n",
    "new_features_umap = open(\"new_features.txt\", \"w\")\n",
    "for element in new_features:\n",
    "    new_features_umap.write(element + \"\\n\")\n",
    "new_features_umap.close()\n",
    "\n",
    "\n",
    "new_train.to_csv('new_train_1705.csv')\n",
    "\n",
    "# del train_full\n",
    "# del train_tr\n",
    "del umap\n",
    "# del data\n",
    "# del pData\n",
    "\n",
    "gc.collect()\n",
    "\n",
    "\n"
   ]
  },
  {
   "cell_type": "code",
   "execution_count": 19,
   "id": "15583cda",
   "metadata": {},
   "outputs": [],
   "source": [
    "new_features_umap = open(\"new_features.txt\", \"w\")\n",
    "for element in new_features:\n",
    "    new_features_umap.write(element + \"\\n\")\n",
    "new_features_umap.close()"
   ]
  },
  {
   "cell_type": "code",
   "execution_count": 10,
   "id": "d4641f91",
   "metadata": {},
   "outputs": [
    {
     "ename": "AttributeError",
     "evalue": "'list' object has no attribute 'info'",
     "output_type": "error",
     "traceback": [
      "\u001b[0;31m---------------------------------------------------------------------------\u001b[0m",
      "\u001b[0;31mAttributeError\u001b[0m                            Traceback (most recent call last)",
      "Input \u001b[0;32mIn [10]\u001b[0m, in \u001b[0;36m<cell line: 1>\u001b[0;34m()\u001b[0m\n\u001b[0;32m----> 1\u001b[0m \u001b[43mumap_features\u001b[49m\u001b[38;5;241;43m.\u001b[39;49m\u001b[43minfo\u001b[49m\n",
      "\u001b[0;31mAttributeError\u001b[0m: 'list' object has no attribute 'info'"
     ]
    }
   ],
   "source": [
    "umap_features.info"
   ]
  },
  {
   "cell_type": "code",
   "execution_count": 25,
   "id": "a4fa8ef9",
   "metadata": {},
   "outputs": [
    {
     "data": {
      "text/html": [
       "<div>\n",
       "<style scoped>\n",
       "    .dataframe tbody tr th:only-of-type {\n",
       "        vertical-align: middle;\n",
       "    }\n",
       "\n",
       "    .dataframe tbody tr th {\n",
       "        vertical-align: top;\n",
       "    }\n",
       "\n",
       "    .dataframe thead th {\n",
       "        text-align: right;\n",
       "    }\n",
       "</style>\n",
       "<table border=\"1\" class=\"dataframe\">\n",
       "  <thead>\n",
       "    <tr style=\"text-align: right;\">\n",
       "      <th></th>\n",
       "      <th>id</th>\n",
       "      <th>era</th>\n",
       "      <th>data_type</th>\n",
       "      <th>target</th>\n",
       "      <th>feature_abstersive_emotional_misinterpreter</th>\n",
       "      <th>feature_accessorial_aroused_crochet</th>\n",
       "      <th>feature_acerb_venusian_piety</th>\n",
       "      <th>feature_affricative_bromic_raftsman</th>\n",
       "      <th>feature_agile_unrespited_gaucho</th>\n",
       "      <th>feature_agronomic_cryptal_advisor</th>\n",
       "      <th>...</th>\n",
       "      <th>f_51</th>\n",
       "      <th>f_52</th>\n",
       "      <th>f_53</th>\n",
       "      <th>f_54</th>\n",
       "      <th>f_55</th>\n",
       "      <th>f_56</th>\n",
       "      <th>f_57</th>\n",
       "      <th>f_58</th>\n",
       "      <th>f_59</th>\n",
       "      <th>pred</th>\n",
       "    </tr>\n",
       "  </thead>\n",
       "  <tbody>\n",
       "    <tr>\n",
       "      <th>0</th>\n",
       "      <td>n321d3ae0ae1f8d1</td>\n",
       "      <td>0268</td>\n",
       "      <td>train</td>\n",
       "      <td>0.75</td>\n",
       "      <td>0</td>\n",
       "      <td>1</td>\n",
       "      <td>2</td>\n",
       "      <td>2</td>\n",
       "      <td>1</td>\n",
       "      <td>1</td>\n",
       "      <td>...</td>\n",
       "      <td>3.990151</td>\n",
       "      <td>1.222788</td>\n",
       "      <td>0.992212</td>\n",
       "      <td>0.253165</td>\n",
       "      <td>1.477129</td>\n",
       "      <td>0.337896</td>\n",
       "      <td>3.005283</td>\n",
       "      <td>1.157143</td>\n",
       "      <td>0.571911</td>\n",
       "      <td>-1.115865e+30</td>\n",
       "    </tr>\n",
       "    <tr>\n",
       "      <th>1</th>\n",
       "      <td>nd56ed35aff8a880</td>\n",
       "      <td>0312</td>\n",
       "      <td>train</td>\n",
       "      <td>0.50</td>\n",
       "      <td>4</td>\n",
       "      <td>3</td>\n",
       "      <td>4</td>\n",
       "      <td>4</td>\n",
       "      <td>3</td>\n",
       "      <td>0</td>\n",
       "      <td>...</td>\n",
       "      <td>4.004501</td>\n",
       "      <td>0.504751</td>\n",
       "      <td>0.460815</td>\n",
       "      <td>0.292481</td>\n",
       "      <td>1.266612</td>\n",
       "      <td>0.527511</td>\n",
       "      <td>2.541840</td>\n",
       "      <td>1.630240</td>\n",
       "      <td>1.781809</td>\n",
       "      <td>-1.115865e+30</td>\n",
       "    </tr>\n",
       "    <tr>\n",
       "      <th>2</th>\n",
       "      <td>nbd9212e79d69e9b</td>\n",
       "      <td>0113</td>\n",
       "      <td>train</td>\n",
       "      <td>0.50</td>\n",
       "      <td>0</td>\n",
       "      <td>0</td>\n",
       "      <td>4</td>\n",
       "      <td>4</td>\n",
       "      <td>2</td>\n",
       "      <td>3</td>\n",
       "      <td>...</td>\n",
       "      <td>4.014765</td>\n",
       "      <td>0.642362</td>\n",
       "      <td>0.533603</td>\n",
       "      <td>0.292779</td>\n",
       "      <td>1.369430</td>\n",
       "      <td>0.473182</td>\n",
       "      <td>2.714279</td>\n",
       "      <td>1.529756</td>\n",
       "      <td>1.319361</td>\n",
       "      <td>-1.115865e+30</td>\n",
       "    </tr>\n",
       "    <tr>\n",
       "      <th>3</th>\n",
       "      <td>ne900f90134d6d6c</td>\n",
       "      <td>0488</td>\n",
       "      <td>train</td>\n",
       "      <td>0.50</td>\n",
       "      <td>4</td>\n",
       "      <td>1</td>\n",
       "      <td>4</td>\n",
       "      <td>3</td>\n",
       "      <td>0</td>\n",
       "      <td>0</td>\n",
       "      <td>...</td>\n",
       "      <td>4.044486</td>\n",
       "      <td>0.401176</td>\n",
       "      <td>0.483460</td>\n",
       "      <td>0.169831</td>\n",
       "      <td>1.292827</td>\n",
       "      <td>0.304835</td>\n",
       "      <td>2.593655</td>\n",
       "      <td>1.656713</td>\n",
       "      <td>2.001607</td>\n",
       "      <td>-1.115865e+30</td>\n",
       "    </tr>\n",
       "    <tr>\n",
       "      <th>4</th>\n",
       "      <td>n849aee664f16de2</td>\n",
       "      <td>0146</td>\n",
       "      <td>train</td>\n",
       "      <td>0.25</td>\n",
       "      <td>3</td>\n",
       "      <td>4</td>\n",
       "      <td>3</td>\n",
       "      <td>3</td>\n",
       "      <td>1</td>\n",
       "      <td>4</td>\n",
       "      <td>...</td>\n",
       "      <td>4.293693</td>\n",
       "      <td>1.121301</td>\n",
       "      <td>1.271419</td>\n",
       "      <td>0.076249</td>\n",
       "      <td>1.636805</td>\n",
       "      <td>0.972486</td>\n",
       "      <td>2.268829</td>\n",
       "      <td>0.597005</td>\n",
       "      <td>0.087508</td>\n",
       "      <td>-1.115865e+30</td>\n",
       "    </tr>\n",
       "  </tbody>\n",
       "</table>\n",
       "<p>5 rows × 485 columns</p>\n",
       "</div>"
      ],
      "text/plain": [
       "                 id   era data_type  target  \\\n",
       "0  n321d3ae0ae1f8d1  0268     train    0.75   \n",
       "1  nd56ed35aff8a880  0312     train    0.50   \n",
       "2  nbd9212e79d69e9b  0113     train    0.50   \n",
       "3  ne900f90134d6d6c  0488     train    0.50   \n",
       "4  n849aee664f16de2  0146     train    0.25   \n",
       "\n",
       "   feature_abstersive_emotional_misinterpreter  \\\n",
       "0                                            0   \n",
       "1                                            4   \n",
       "2                                            0   \n",
       "3                                            4   \n",
       "4                                            3   \n",
       "\n",
       "   feature_accessorial_aroused_crochet  feature_acerb_venusian_piety  \\\n",
       "0                                    1                             2   \n",
       "1                                    3                             4   \n",
       "2                                    0                             4   \n",
       "3                                    1                             4   \n",
       "4                                    4                             3   \n",
       "\n",
       "   feature_affricative_bromic_raftsman  feature_agile_unrespited_gaucho  \\\n",
       "0                                    2                                1   \n",
       "1                                    4                                3   \n",
       "2                                    4                                2   \n",
       "3                                    3                                0   \n",
       "4                                    3                                1   \n",
       "\n",
       "   feature_agronomic_cryptal_advisor  ...      f_51      f_52      f_53  \\\n",
       "0                                  1  ...  3.990151  1.222788  0.992212   \n",
       "1                                  0  ...  4.004501  0.504751  0.460815   \n",
       "2                                  3  ...  4.014765  0.642362  0.533603   \n",
       "3                                  0  ...  4.044486  0.401176  0.483460   \n",
       "4                                  4  ...  4.293693  1.121301  1.271419   \n",
       "\n",
       "       f_54      f_55      f_56      f_57      f_58      f_59          pred  \n",
       "0  0.253165  1.477129  0.337896  3.005283  1.157143  0.571911 -1.115865e+30  \n",
       "1  0.292481  1.266612  0.527511  2.541840  1.630240  1.781809 -1.115865e+30  \n",
       "2  0.292779  1.369430  0.473182  2.714279  1.529756  1.319361 -1.115865e+30  \n",
       "3  0.169831  1.292827  0.304835  2.593655  1.656713  2.001607 -1.115865e+30  \n",
       "4  0.076249  1.636805  0.972486  2.268829  0.597005  0.087508 -1.115865e+30  \n",
       "\n",
       "[5 rows x 485 columns]"
      ]
     },
     "execution_count": 25,
     "metadata": {},
     "output_type": "execute_result"
    }
   ],
   "source": [
    "new_train.head()"
   ]
  },
  {
   "cell_type": "code",
   "execution_count": 34,
   "id": "32143379",
   "metadata": {},
   "outputs": [
    {
     "ename": "IndexError",
     "evalue": "index 61 is out of bounds for axis 0 with size 61",
     "output_type": "error",
     "traceback": [
      "\u001b[0;31m---------------------------------------------------------------------------\u001b[0m",
      "\u001b[0;31mIndexError\u001b[0m                                Traceback (most recent call last)",
      "Input \u001b[0;32mIn [34]\u001b[0m, in \u001b[0;36m<cell line: 1>\u001b[0;34m()\u001b[0m\n\u001b[0;32m----> 1\u001b[0m \u001b[43mnew_train\u001b[49m\u001b[38;5;241;43m.\u001b[39;49m\u001b[43mset_axis\u001b[49m\u001b[43m(\u001b[49m\u001b[43m[\u001b[49m\u001b[43mnew_features\u001b[49m\u001b[43m]\u001b[49m\u001b[43m,\u001b[49m\u001b[43m \u001b[49m\u001b[43maxis\u001b[49m\u001b[38;5;241;43m=\u001b[39;49m\u001b[38;5;124;43m'\u001b[39;49m\u001b[38;5;124;43m0\u001b[39;49m\u001b[38;5;124;43m'\u001b[39;49m\u001b[43m)\u001b[49m\n",
      "File \u001b[0;32m~/miniconda3/lib/python3.8/site-packages/pandas/util/_decorators.py:311\u001b[0m, in \u001b[0;36mdeprecate_nonkeyword_arguments.<locals>.decorate.<locals>.wrapper\u001b[0;34m(*args, **kwargs)\u001b[0m\n\u001b[1;32m    305\u001b[0m \u001b[38;5;28;01mif\u001b[39;00m \u001b[38;5;28mlen\u001b[39m(args) \u001b[38;5;241m>\u001b[39m num_allow_args:\n\u001b[1;32m    306\u001b[0m     warnings\u001b[38;5;241m.\u001b[39mwarn(\n\u001b[1;32m    307\u001b[0m         msg\u001b[38;5;241m.\u001b[39mformat(arguments\u001b[38;5;241m=\u001b[39marguments),\n\u001b[1;32m    308\u001b[0m         \u001b[38;5;167;01mFutureWarning\u001b[39;00m,\n\u001b[1;32m    309\u001b[0m         stacklevel\u001b[38;5;241m=\u001b[39mstacklevel,\n\u001b[1;32m    310\u001b[0m     )\n\u001b[0;32m--> 311\u001b[0m \u001b[38;5;28;01mreturn\u001b[39;00m \u001b[43mfunc\u001b[49m\u001b[43m(\u001b[49m\u001b[38;5;241;43m*\u001b[39;49m\u001b[43margs\u001b[49m\u001b[43m,\u001b[49m\u001b[43m \u001b[49m\u001b[38;5;241;43m*\u001b[39;49m\u001b[38;5;241;43m*\u001b[39;49m\u001b[43mkwargs\u001b[49m\u001b[43m)\u001b[49m\n",
      "File \u001b[0;32m~/miniconda3/lib/python3.8/site-packages/pandas/core/frame.py:4777\u001b[0m, in \u001b[0;36mDataFrame.set_axis\u001b[0;34m(self, labels, axis, inplace)\u001b[0m\n\u001b[1;32m   4736\u001b[0m \u001b[38;5;129m@deprecate_nonkeyword_arguments\u001b[39m(version\u001b[38;5;241m=\u001b[39m\u001b[38;5;28;01mNone\u001b[39;00m, allowed_args\u001b[38;5;241m=\u001b[39m[\u001b[38;5;124m\"\u001b[39m\u001b[38;5;124mself\u001b[39m\u001b[38;5;124m\"\u001b[39m, \u001b[38;5;124m\"\u001b[39m\u001b[38;5;124mlabels\u001b[39m\u001b[38;5;124m\"\u001b[39m])\n\u001b[1;32m   4737\u001b[0m \u001b[38;5;129m@Appender\u001b[39m(\n\u001b[1;32m   4738\u001b[0m     \u001b[38;5;124;03m\"\"\"\u001b[39;00m\n\u001b[0;32m   (...)\u001b[0m\n\u001b[1;32m   4775\u001b[0m \u001b[38;5;129m@Appender\u001b[39m(NDFrame\u001b[38;5;241m.\u001b[39mset_axis\u001b[38;5;241m.\u001b[39m\u001b[38;5;18m__doc__\u001b[39m)\n\u001b[1;32m   4776\u001b[0m \u001b[38;5;28;01mdef\u001b[39;00m \u001b[38;5;21mset_axis\u001b[39m(\u001b[38;5;28mself\u001b[39m, labels, axis: Axis \u001b[38;5;241m=\u001b[39m \u001b[38;5;241m0\u001b[39m, inplace: \u001b[38;5;28mbool\u001b[39m \u001b[38;5;241m=\u001b[39m \u001b[38;5;28;01mFalse\u001b[39;00m):\n\u001b[0;32m-> 4777\u001b[0m     \u001b[38;5;28;01mreturn\u001b[39;00m \u001b[38;5;28;43msuper\u001b[39;49m\u001b[43m(\u001b[49m\u001b[43m)\u001b[49m\u001b[38;5;241;43m.\u001b[39;49m\u001b[43mset_axis\u001b[49m\u001b[43m(\u001b[49m\u001b[43mlabels\u001b[49m\u001b[43m,\u001b[49m\u001b[43m \u001b[49m\u001b[43maxis\u001b[49m\u001b[38;5;241;43m=\u001b[39;49m\u001b[43maxis\u001b[49m\u001b[43m,\u001b[49m\u001b[43m \u001b[49m\u001b[43minplace\u001b[49m\u001b[38;5;241;43m=\u001b[39;49m\u001b[43minplace\u001b[49m\u001b[43m)\u001b[49m\n",
      "File \u001b[0;32m~/miniconda3/lib/python3.8/site-packages/pandas/core/generic.py:755\u001b[0m, in \u001b[0;36mNDFrame.set_axis\u001b[0;34m(self, labels, axis, inplace)\u001b[0m\n\u001b[1;32m    728\u001b[0m \u001b[38;5;124;03m\"\"\"\u001b[39;00m\n\u001b[1;32m    729\u001b[0m \u001b[38;5;124;03mAssign desired index to given axis.\u001b[39;00m\n\u001b[1;32m    730\u001b[0m \n\u001b[0;32m   (...)\u001b[0m\n\u001b[1;32m    752\u001b[0m \u001b[38;5;124;03m%(klass)s.rename_axis : Alter the name of the index%(see_also_sub)s.\u001b[39;00m\n\u001b[1;32m    753\u001b[0m \u001b[38;5;124;03m\"\"\"\u001b[39;00m\n\u001b[1;32m    754\u001b[0m \u001b[38;5;28mself\u001b[39m\u001b[38;5;241m.\u001b[39m_check_inplace_and_allows_duplicate_labels(inplace)\n\u001b[0;32m--> 755\u001b[0m \u001b[38;5;28;01mreturn\u001b[39;00m \u001b[38;5;28;43mself\u001b[39;49m\u001b[38;5;241;43m.\u001b[39;49m\u001b[43m_set_axis_nocheck\u001b[49m\u001b[43m(\u001b[49m\u001b[43mlabels\u001b[49m\u001b[43m,\u001b[49m\u001b[43m \u001b[49m\u001b[43maxis\u001b[49m\u001b[43m,\u001b[49m\u001b[43m \u001b[49m\u001b[43minplace\u001b[49m\u001b[43m)\u001b[49m\n",
      "File \u001b[0;32m~/miniconda3/lib/python3.8/site-packages/pandas/core/generic.py:763\u001b[0m, in \u001b[0;36mNDFrame._set_axis_nocheck\u001b[0;34m(self, labels, axis, inplace)\u001b[0m\n\u001b[1;32m    761\u001b[0m     \u001b[38;5;28msetattr\u001b[39m(\u001b[38;5;28mself\u001b[39m, \u001b[38;5;28mself\u001b[39m\u001b[38;5;241m.\u001b[39m_get_axis_name(axis), labels)\n\u001b[1;32m    762\u001b[0m \u001b[38;5;28;01melse\u001b[39;00m:\n\u001b[0;32m--> 763\u001b[0m     obj \u001b[38;5;241m=\u001b[39m \u001b[38;5;28;43mself\u001b[39;49m\u001b[38;5;241;43m.\u001b[39;49m\u001b[43mcopy\u001b[49m\u001b[43m(\u001b[49m\u001b[43m)\u001b[49m\n\u001b[1;32m    764\u001b[0m     obj\u001b[38;5;241m.\u001b[39mset_axis(labels, axis\u001b[38;5;241m=\u001b[39maxis, inplace\u001b[38;5;241m=\u001b[39m\u001b[38;5;28;01mTrue\u001b[39;00m)\n\u001b[1;32m    765\u001b[0m     \u001b[38;5;28;01mreturn\u001b[39;00m obj\n",
      "File \u001b[0;32m~/miniconda3/lib/python3.8/site-packages/pandas/core/generic.py:6040\u001b[0m, in \u001b[0;36mNDFrame.copy\u001b[0;34m(self, deep)\u001b[0m\n\u001b[1;32m   5934\u001b[0m \u001b[38;5;129m@final\u001b[39m\n\u001b[1;32m   5935\u001b[0m \u001b[38;5;28;01mdef\u001b[39;00m \u001b[38;5;21mcopy\u001b[39m(\u001b[38;5;28mself\u001b[39m: NDFrameT, deep: bool_t \u001b[38;5;241m=\u001b[39m \u001b[38;5;28;01mTrue\u001b[39;00m) \u001b[38;5;241m-\u001b[39m\u001b[38;5;241m>\u001b[39m NDFrameT:\n\u001b[1;32m   5936\u001b[0m     \u001b[38;5;124;03m\"\"\"\u001b[39;00m\n\u001b[1;32m   5937\u001b[0m \u001b[38;5;124;03m    Make a copy of this object's indices and data.\u001b[39;00m\n\u001b[1;32m   5938\u001b[0m \n\u001b[0;32m   (...)\u001b[0m\n\u001b[1;32m   6038\u001b[0m \u001b[38;5;124;03m    dtype: object\u001b[39;00m\n\u001b[1;32m   6039\u001b[0m \u001b[38;5;124;03m    \"\"\"\u001b[39;00m\n\u001b[0;32m-> 6040\u001b[0m     data \u001b[38;5;241m=\u001b[39m \u001b[38;5;28;43mself\u001b[39;49m\u001b[38;5;241;43m.\u001b[39;49m\u001b[43m_mgr\u001b[49m\u001b[38;5;241;43m.\u001b[39;49m\u001b[43mcopy\u001b[49m\u001b[43m(\u001b[49m\u001b[43mdeep\u001b[49m\u001b[38;5;241;43m=\u001b[39;49m\u001b[43mdeep\u001b[49m\u001b[43m)\u001b[49m\n\u001b[1;32m   6041\u001b[0m     \u001b[38;5;28mself\u001b[39m\u001b[38;5;241m.\u001b[39m_clear_item_cache()\n\u001b[1;32m   6042\u001b[0m     \u001b[38;5;28;01mreturn\u001b[39;00m \u001b[38;5;28mself\u001b[39m\u001b[38;5;241m.\u001b[39m_constructor(data)\u001b[38;5;241m.\u001b[39m__finalize__(\u001b[38;5;28mself\u001b[39m, method\u001b[38;5;241m=\u001b[39m\u001b[38;5;124m\"\u001b[39m\u001b[38;5;124mcopy\u001b[39m\u001b[38;5;124m\"\u001b[39m)\n",
      "File \u001b[0;32m~/miniconda3/lib/python3.8/site-packages/pandas/core/internals/managers.py:615\u001b[0m, in \u001b[0;36mBaseBlockManager.copy\u001b[0;34m(self, deep)\u001b[0m\n\u001b[1;32m    612\u001b[0m         res\u001b[38;5;241m.\u001b[39m_blklocs \u001b[38;5;241m=\u001b[39m \u001b[38;5;28mself\u001b[39m\u001b[38;5;241m.\u001b[39m_blklocs\u001b[38;5;241m.\u001b[39mcopy()\n\u001b[1;32m    614\u001b[0m \u001b[38;5;28;01mif\u001b[39;00m deep:\n\u001b[0;32m--> 615\u001b[0m     \u001b[43mres\u001b[49m\u001b[38;5;241;43m.\u001b[39;49m\u001b[43m_consolidate_inplace\u001b[49m\u001b[43m(\u001b[49m\u001b[43m)\u001b[49m\n\u001b[1;32m    616\u001b[0m \u001b[38;5;28;01mreturn\u001b[39;00m res\n",
      "File \u001b[0;32m~/miniconda3/lib/python3.8/site-packages/pandas/core/internals/managers.py:1685\u001b[0m, in \u001b[0;36mBlockManager._consolidate_inplace\u001b[0;34m(self)\u001b[0m\n\u001b[1;32m   1683\u001b[0m \u001b[38;5;28;01mdef\u001b[39;00m \u001b[38;5;21m_consolidate_inplace\u001b[39m(\u001b[38;5;28mself\u001b[39m) \u001b[38;5;241m-\u001b[39m\u001b[38;5;241m>\u001b[39m \u001b[38;5;28;01mNone\u001b[39;00m:\n\u001b[1;32m   1684\u001b[0m     \u001b[38;5;28;01mif\u001b[39;00m \u001b[38;5;129;01mnot\u001b[39;00m \u001b[38;5;28mself\u001b[39m\u001b[38;5;241m.\u001b[39mis_consolidated():\n\u001b[0;32m-> 1685\u001b[0m         \u001b[38;5;28mself\u001b[39m\u001b[38;5;241m.\u001b[39mblocks \u001b[38;5;241m=\u001b[39m \u001b[38;5;28mtuple\u001b[39m(\u001b[43m_consolidate\u001b[49m\u001b[43m(\u001b[49m\u001b[38;5;28;43mself\u001b[39;49m\u001b[38;5;241;43m.\u001b[39;49m\u001b[43mblocks\u001b[49m\u001b[43m)\u001b[49m)\n\u001b[1;32m   1686\u001b[0m         \u001b[38;5;28mself\u001b[39m\u001b[38;5;241m.\u001b[39m_is_consolidated \u001b[38;5;241m=\u001b[39m \u001b[38;5;28;01mTrue\u001b[39;00m\n\u001b[1;32m   1687\u001b[0m         \u001b[38;5;28mself\u001b[39m\u001b[38;5;241m.\u001b[39m_known_consolidated \u001b[38;5;241m=\u001b[39m \u001b[38;5;28;01mTrue\u001b[39;00m\n",
      "File \u001b[0;32m~/miniconda3/lib/python3.8/site-packages/pandas/core/internals/managers.py:2084\u001b[0m, in \u001b[0;36m_consolidate\u001b[0;34m(blocks)\u001b[0m\n\u001b[1;32m   2082\u001b[0m new_blocks: \u001b[38;5;28mlist\u001b[39m[Block] \u001b[38;5;241m=\u001b[39m []\n\u001b[1;32m   2083\u001b[0m \u001b[38;5;28;01mfor\u001b[39;00m (_can_consolidate, dtype), group_blocks \u001b[38;5;129;01min\u001b[39;00m grouper:\n\u001b[0;32m-> 2084\u001b[0m     merged_blocks \u001b[38;5;241m=\u001b[39m \u001b[43m_merge_blocks\u001b[49m\u001b[43m(\u001b[49m\n\u001b[1;32m   2085\u001b[0m \u001b[43m        \u001b[49m\u001b[38;5;28;43mlist\u001b[39;49m\u001b[43m(\u001b[49m\u001b[43mgroup_blocks\u001b[49m\u001b[43m)\u001b[49m\u001b[43m,\u001b[49m\u001b[43m \u001b[49m\u001b[43mdtype\u001b[49m\u001b[38;5;241;43m=\u001b[39;49m\u001b[43mdtype\u001b[49m\u001b[43m,\u001b[49m\u001b[43m \u001b[49m\u001b[43mcan_consolidate\u001b[49m\u001b[38;5;241;43m=\u001b[39;49m\u001b[43m_can_consolidate\u001b[49m\n\u001b[1;32m   2086\u001b[0m \u001b[43m    \u001b[49m\u001b[43m)\u001b[49m\n\u001b[1;32m   2087\u001b[0m     new_blocks \u001b[38;5;241m=\u001b[39m extend_blocks(merged_blocks, new_blocks)\n\u001b[1;32m   2088\u001b[0m \u001b[38;5;28;01mreturn\u001b[39;00m new_blocks\n",
      "File \u001b[0;32m~/miniconda3/lib/python3.8/site-packages/pandas/core/internals/managers.py:2118\u001b[0m, in \u001b[0;36m_merge_blocks\u001b[0;34m(blocks, dtype, can_consolidate)\u001b[0m\n\u001b[1;32m   2115\u001b[0m     new_values \u001b[38;5;241m=\u001b[39m bvals2[\u001b[38;5;241m0\u001b[39m]\u001b[38;5;241m.\u001b[39m_concat_same_type(bvals2, axis\u001b[38;5;241m=\u001b[39m\u001b[38;5;241m0\u001b[39m)\n\u001b[1;32m   2117\u001b[0m argsort \u001b[38;5;241m=\u001b[39m np\u001b[38;5;241m.\u001b[39margsort(new_mgr_locs)\n\u001b[0;32m-> 2118\u001b[0m new_values \u001b[38;5;241m=\u001b[39m \u001b[43mnew_values\u001b[49m\u001b[43m[\u001b[49m\u001b[43margsort\u001b[49m\u001b[43m]\u001b[49m\n\u001b[1;32m   2119\u001b[0m new_mgr_locs \u001b[38;5;241m=\u001b[39m new_mgr_locs[argsort]\n\u001b[1;32m   2121\u001b[0m bp \u001b[38;5;241m=\u001b[39m BlockPlacement(new_mgr_locs)\n",
      "\u001b[0;31mIndexError\u001b[0m: index 61 is out of bounds for axis 0 with size 61"
     ]
    }
   ],
   "source": [
    "new_train.set_axis([new_features], axis='0')"
   ]
  },
  {
   "cell_type": "code",
   "execution_count": 7,
   "id": "f3863f41",
   "metadata": {},
   "outputs": [
    {
     "name": "stderr",
     "output_type": "stream",
     "text": [
      "/home/mathiasvanaelten/miniconda3/lib/python3.8/site-packages/xgboost/data.py:262: FutureWarning: pandas.Int64Index is deprecated and will be removed from pandas in a future version. Use pandas.Index with the appropriate dtype instead.\n",
      "  elif isinstance(data.columns, (pd.Int64Index, pd.RangeIndex)):\n",
      "/home/mathiasvanaelten/miniconda3/lib/python3.8/site-packages/xgboost/data.py:262: FutureWarning: pandas.Int64Index is deprecated and will be removed from pandas in a future version. Use pandas.Index with the appropriate dtype instead.\n",
      "  elif isinstance(data.columns, (pd.Int64Index, pd.RangeIndex)):\n"
     ]
    },
    {
     "name": "stdout",
     "output_type": "stream",
     "text": [
      "Numerai score (spearman correlation): 0.0095, STD: 0.0190\n",
      "Sharpe ratio: 0.5005\n",
      "Sortino ratio: 1.0864\n",
      "Max drawdown: -0.13217551332165225\n",
      "Max feature exposure:  0.21600216697096575\n",
      "\n"
     ]
    },
    {
     "data": {
      "image/png": "[encoded data removed]",
      "text/plain": [
       "<Figure size 432x288 with 1 Axes>"
      ]
     },
     "metadata": {
      "needs_background": "light"
     },
     "output_type": "display_data"
    }
   ],
   "source": [
    "# In[ retrain estimator on the complete extended dataset ]\n",
    "\n",
    "est = xgboost.XGBRegressor(**xgb_params)\n",
    "\n",
    "est.fit(new_train.loc[new_train.data_type=='train', new_features], new_train.loc[new_train.data_type=='train', target])\n",
    "new_train.loc[new_train.data_type=='validation', 'pred'] = est.predict(new_train.loc[new_train.data_type=='validation', new_features])\n",
    "num.evaluation(new_train[new_train.data_type=='validation'], new_features)\n",
    "\n",
    "\n",
    "val['prediction'] = new_train.loc[new_train.data_type=='validation', 'pred'].values\n",
    "val['prediction'].to_csv('validation_allFeatures_1705.csv')\n",
    "\n",
    "\n",
    "\n",
    "\n",
    "# est.save_model(\"xgb_umap_1605.txt\")\n",
    "\n",
    "# td['prediction'] = est.predict(td[features])\n",
    "\n",
    "# est = xgboost.Booster()\n",
    "# est.load_model(\"xgb_umap_1605.txt\")\n",
    "\n",
    "# new_train.loc[new_train.data_type=='validation', 'pred'] = est.predict(new_train.loc[new_train.data_type=='validation', new_features])\n",
    "# num.evaluation(new_train[new_train.data_type=='tournament'], new_features)\n",
    "\n",
    "# td['prediction'] = est.predict(td[new_features])\n",
    "\n",
    "# # Format prediction CSV for submission\n",
    "# prediction_df = td.reset_index()[['id', 'prediction']]\n",
    "# prediction_df[['id', 'prediction']].to_csv('Tournament_UMAP_1605_predictions.csv', index=False) # Important to name your CSV file so you know wh\n",
    "\n",
    "# # td['prediction'] = new_train.loc[new_train.data_type=='tournament', 'pred'].values\n",
    "# # td['prediction'].to_csv('validation_allFeatures_1605.csv')\n",
    "\n",
    "\n",
    "\n",
    "# Numerai score (spearman correlation): 0.0213, STD: 0.0329\n",
    "# Sharpe ratio: 0.6495\n",
    "# Sortino ratio: 1.7063\n",
    "# Max drawdown: -0.20478065308905238\n",
    "# Max feature exposure:  0.4371256652128962\n",
    "\n",
    "\n"
   ]
  },
  {
   "cell_type": "code",
   "execution_count": 8,
   "id": "c39c4b5a",
   "metadata": {
    "scrolled": true
   },
   "outputs": [
    {
     "name": "stderr",
     "output_type": "stream",
     "text": [
      "/home/mathiasvanaelten/miniconda3/lib/python3.8/site-packages/xgboost/data.py:262: FutureWarning: pandas.Int64Index is deprecated and will be removed from pandas in a future version. Use pandas.Index with the appropriate dtype instead.\n",
      "  elif isinstance(data.columns, (pd.Int64Index, pd.RangeIndex)):\n",
      "/home/mathiasvanaelten/miniconda3/lib/python3.8/site-packages/xgboost/data.py:262: FutureWarning: pandas.Int64Index is deprecated and will be removed from pandas in a future version. Use pandas.Index with the appropriate dtype instead.\n",
      "  elif isinstance(data.columns, (pd.Int64Index, pd.RangeIndex)):\n"
     ]
    },
    {
     "name": "stdout",
     "output_type": "stream",
     "text": [
      "Numerai score (spearman correlation): 0.0045, STD: 0.0124\n",
      "Sharpe ratio: 0.3629\n",
      "Sortino ratio: 0.7582\n",
      "Max drawdown: -0.09638373476700227\n",
      "Max feature exposure:  0.062120378332842605\n",
      "\n"
     ]
    },
    {
     "data": {
      "image/png": "[encoded data removed]",
      "text/plain": [
       "<Figure size 432x288 with 1 Axes>"
      ]
     },
     "metadata": {
      "needs_background": "light"
     },
     "output_type": "display_data"
    }
   ],
   "source": [
    "# In[ retrain estimator on the extended dataset only ]\n",
    "\n",
    "est = xgboost.XGBRegressor(**xgb_params)\n",
    "est.fit(new_train.loc[new_train.data_type=='train', umap_features], new_train.loc[new_train.data_type=='train', target])\n",
    "new_train.loc[new_train.data_type=='validation', 'pred'] = est.predict(new_train.loc[new_train.data_type=='validation', umap_features])\n",
    "num.evaluation(new_train[new_train.data_type=='validation'], features)\n",
    "\n",
    "val['prediction'] = new_train.loc[new_train.data_type=='validation', 'pred'].values\n",
    "val['prediction'].to_csv('validation_umapFeatures.csv')\n",
    "\n",
    "# Numerai score (spearman correlation): 0.0073, STD: 0.0158\n",
    "# Sharpe ratio: 0.4651\n",
    "# Sortino ratio: 0.9302\n",
    "# Max drawdown: -0.10544801045624015\n",
    "# Max feature exposure:  0.07221613666926133\n"
   ]
  },
  {
   "cell_type": "code",
   "execution_count": null,
   "id": "9480c2dc",
   "metadata": {},
   "outputs": [],
   "source": [
    "# Instantiate Numerai API again but with API keys for submission\n",
    "PUBLIC_KEY = ''\n",
    "PRIVATE_KEY = ''\n",
    "\n",
    "napi = numerapi.NumerAPI(PUBLIC_KEY, PRIVATE_KEY)\n",
    "current_round = napi.get_current_round()\n",
    "print(\"ROUND NUMBER: \", current_round)"
   ]
  },
  {
   "cell_type": "code",
   "execution_count": null,
   "id": "dc346fb2",
   "metadata": {},
   "outputs": [],
   "source": [
    "# Format prediction CSV for submission\n",
    "prediction_df = td.reset_index()[['id', 'prediction']]\n",
    "prediction_df[['id', 'prediction']].to_csv(f'round{current_round}_UMAP_XGB_predictions.csv', index=False) # Important to name your CSV file so you know wh"
   ]
  },
  {
   "cell_type": "code",
   "execution_count": null,
   "id": "9ad24543",
   "metadata": {},
   "outputs": [],
   "source": [
    "# # MAT_BRAIN_DF2\n",
    "model_id = ''\n",
    "\n",
    "\n",
    "napi.upload_predictions(f'round{current_round}_UMAP_XGB_predictions.csv', model_id=model_id, version=2)"
   ]
  }
 ],
 "metadata": {
  "kernelspec": {
   "display_name": "Python 3 (ipykernel)",
   "language": "python",
   "name": "python3"
  },
  "language_info": {
   "codemirror_mode": {
    "name": "ipython",
    "version": 3
   },
   "file_extension": ".py",
   "mimetype": "text/x-python",
   "name": "python",
   "nbconvert_exporter": "python",
   "pygments_lexer": "ipython3",
   "version": "3.9.7"
  }
 },
 "nbformat": 4,
 "nbformat_minor": 5
}
